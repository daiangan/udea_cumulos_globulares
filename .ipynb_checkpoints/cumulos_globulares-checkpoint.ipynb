{
 "cells": [
  {
   "cell_type": "code",
   "execution_count": 44,
   "metadata": {
    "collapsed": true
   },
   "outputs": [],
   "source": [
    "# !pip install pandas"
   ]
  },
  {
   "cell_type": "code",
   "execution_count": 45,
   "metadata": {},
   "outputs": [
    {
     "data": {
      "text/html": [
       "<div>\n",
       "<style scoped>\n",
       "    .dataframe tbody tr th:only-of-type {\n",
       "        vertical-align: middle;\n",
       "    }\n",
       "\n",
       "    .dataframe tbody tr th {\n",
       "        vertical-align: top;\n",
       "    }\n",
       "\n",
       "    .dataframe thead th {\n",
       "        text-align: right;\n",
       "    }\n",
       "</style>\n",
       "<table border=\"1\" class=\"dataframe\">\n",
       "  <thead>\n",
       "    <tr style=\"text-align: right;\">\n",
       "      <th></th>\n",
       "      <th>_RAJ2000</th>\n",
       "      <th>_DEJ2000</th>\n",
       "      <th>ID</th>\n",
       "      <th>RAJ2000</th>\n",
       "      <th>DEJ2000</th>\n",
       "      <th>GLON</th>\n",
       "      <th>GLAT</th>\n",
       "      <th>Rsun</th>\n",
       "      <th>Rgc</th>\n",
       "      <th>Vt</th>\n",
       "      <th>[Fe/H]</th>\n",
       "      <th>SpT</th>\n",
       "      <th>c</th>\n",
       "      <th>Rh</th>\n",
       "    </tr>\n",
       "  </thead>\n",
       "  <tbody>\n",
       "    <tr>\n",
       "      <th>0</th>\n",
       "      <td>6.021667</td>\n",
       "      <td>-72.080833</td>\n",
       "      <td>NGC 104</td>\n",
       "      <td>00 24 05.2</td>\n",
       "      <td>-72 04 51</td>\n",
       "      <td>305.90</td>\n",
       "      <td>-44.89</td>\n",
       "      <td>4.3</td>\n",
       "      <td>7.3</td>\n",
       "      <td>3.95</td>\n",
       "      <td>-0.76</td>\n",
       "      <td>G4</td>\n",
       "      <td>2.04</td>\n",
       "      <td>2.79</td>\n",
       "    </tr>\n",
       "    <tr>\n",
       "      <th>1</th>\n",
       "      <td>13.197917</td>\n",
       "      <td>-26.590000</td>\n",
       "      <td>NGC 288</td>\n",
       "      <td>00 52 47.5</td>\n",
       "      <td>-26 35 24</td>\n",
       "      <td>152.28</td>\n",
       "      <td>-89.38</td>\n",
       "      <td>8.1</td>\n",
       "      <td>11.4</td>\n",
       "      <td>8.09</td>\n",
       "      <td>-1.24</td>\n",
       "      <td></td>\n",
       "      <td>0.96</td>\n",
       "      <td>2.22</td>\n",
       "    </tr>\n",
       "    <tr>\n",
       "      <th>2</th>\n",
       "      <td>15.809583</td>\n",
       "      <td>-70.848333</td>\n",
       "      <td>NGC 362</td>\n",
       "      <td>01 03 14.3</td>\n",
       "      <td>-70 50 54</td>\n",
       "      <td>301.53</td>\n",
       "      <td>-46.25</td>\n",
       "      <td>8.3</td>\n",
       "      <td>9.2</td>\n",
       "      <td>6.40</td>\n",
       "      <td>-1.16</td>\n",
       "      <td>F9</td>\n",
       "      <td>1.94</td>\n",
       "      <td>0.81</td>\n",
       "    </tr>\n",
       "    <tr>\n",
       "      <th>3</th>\n",
       "      <td>48.063750</td>\n",
       "      <td>-55.216944</td>\n",
       "      <td>NGC 1261</td>\n",
       "      <td>03 12 15.3</td>\n",
       "      <td>-55 13 01</td>\n",
       "      <td>270.54</td>\n",
       "      <td>-52.13</td>\n",
       "      <td>16.0</td>\n",
       "      <td>17.9</td>\n",
       "      <td>8.29</td>\n",
       "      <td>-1.35</td>\n",
       "      <td>F7</td>\n",
       "      <td>1.27</td>\n",
       "      <td>0.75</td>\n",
       "    </tr>\n",
       "    <tr>\n",
       "      <th>4</th>\n",
       "      <td>53.345833</td>\n",
       "      <td>79.580556</td>\n",
       "      <td>Pal 1</td>\n",
       "      <td>03 33 23.0</td>\n",
       "      <td>+79 34 50</td>\n",
       "      <td>130.07</td>\n",
       "      <td>19.03</td>\n",
       "      <td>9.7</td>\n",
       "      <td>15.9</td>\n",
       "      <td>13.52</td>\n",
       "      <td>-0.80</td>\n",
       "      <td></td>\n",
       "      <td>1.50</td>\n",
       "      <td>0.48</td>\n",
       "    </tr>\n",
       "  </tbody>\n",
       "</table>\n",
       "</div>"
      ],
      "text/plain": [
       "    _RAJ2000   _DEJ2000         ID     RAJ2000    DEJ2000    GLON   GLAT  \\\n",
       "0   6.021667 -72.080833  NGC 104    00 24 05.2  -72 04 51  305.90 -44.89   \n",
       "1  13.197917 -26.590000  NGC 288    00 52 47.5  -26 35 24  152.28 -89.38   \n",
       "2  15.809583 -70.848333  NGC 362    01 03 14.3  -70 50 54  301.53 -46.25   \n",
       "3  48.063750 -55.216944  NGC 1261   03 12 15.3  -55 13 01  270.54 -52.13   \n",
       "4  53.345833  79.580556  Pal 1      03 33 23.0  +79 34 50  130.07  19.03   \n",
       "\n",
       "    Rsun    Rgc     Vt [Fe/H]   SpT      c    Rh  \n",
       "0    4.3    7.3   3.95  -0.76  G4     2.04  2.79  \n",
       "1    8.1   11.4   8.09  -1.24         0.96  2.22  \n",
       "2    8.3    9.2   6.40  -1.16  F9     1.94  0.81  \n",
       "3   16.0   17.9   8.29  -1.35  F7     1.27  0.75  \n",
       "4    9.7   15.9  13.52  -0.80         1.50  0.48  "
      ]
     },
     "execution_count": 45,
     "metadata": {},
     "output_type": "execute_result"
    }
   ],
   "source": [
    "import pandas as pd\n",
    "import numpy as np\n",
    "\n",
    "# Importar los datos\n",
    "data = pd.read_csv(\"files/ViZieR_cum_glob.tsv\", delimiter=\"|\")\n",
    "\n",
    "# Filtrar los datos sin distancia al sol\n",
    "data = data.dropna(subset=['Rsun'])\n",
    "\n",
    "data.head()"
   ]
  },
  {
   "cell_type": "code",
   "execution_count": 46,
   "metadata": {},
   "outputs": [
    {
     "data": {
      "text/plain": [
       "_RAJ2000    float64\n",
       "_DEJ2000    float64\n",
       "ID           object\n",
       "RAJ2000      object\n",
       "DEJ2000      object\n",
       "GLON        float64\n",
       "GLAT        float64\n",
       "Rsun         object\n",
       "Rgc          object\n",
       "Vt           object\n",
       "[Fe/H]       object\n",
       "SpT          object\n",
       "c            object\n",
       "Rh          float64\n",
       "dtype: object"
      ]
     },
     "execution_count": 46,
     "metadata": {},
     "output_type": "execute_result"
    }
   ],
   "source": [
    "# Chequear los tipos de datos\n",
    "data.dtypes"
   ]
  },
  {
   "cell_type": "code",
   "execution_count": 47,
   "metadata": {},
   "outputs": [],
   "source": [
    "# Convertir Rsun en un valor numérico para poder calcular\n",
    "data['Rsun'] = pd.to_numeric(data['Rsun'], errors='coerce')"
   ]
  },
  {
   "cell_type": "code",
   "execution_count": 60,
   "metadata": {},
   "outputs": [],
   "source": [
    "# Calcular las coordenadas usando radianes\n",
    "data['x'] = data['Rsun'] * np.cos(np.radians(data['_RAJ2000']*15)) * np.cos(np.radians(data['_DEJ2000']))\n",
    "data['y'] = data['Rsun'] * np.sin(np.radians(data['_RAJ2000']*15)) * np.cos(np.radians(data['_DEJ2000']))\n",
    "data['z'] = data['Rsun'] * np.sin(np.radians(data['_DEJ2000']))"
   ]
  },
  {
   "cell_type": "code",
   "execution_count": 49,
   "metadata": {},
   "outputs": [
    {
     "data": {
      "text/html": [
       "<div>\n",
       "<style scoped>\n",
       "    .dataframe tbody tr th:only-of-type {\n",
       "        vertical-align: middle;\n",
       "    }\n",
       "\n",
       "    .dataframe tbody tr th {\n",
       "        vertical-align: top;\n",
       "    }\n",
       "\n",
       "    .dataframe thead th {\n",
       "        text-align: right;\n",
       "    }\n",
       "</style>\n",
       "<table border=\"1\" class=\"dataframe\">\n",
       "  <thead>\n",
       "    <tr style=\"text-align: right;\">\n",
       "      <th></th>\n",
       "      <th>_RAJ2000</th>\n",
       "      <th>_DEJ2000</th>\n",
       "      <th>ID</th>\n",
       "      <th>RAJ2000</th>\n",
       "      <th>DEJ2000</th>\n",
       "      <th>GLON</th>\n",
       "      <th>GLAT</th>\n",
       "      <th>Rsun</th>\n",
       "      <th>Rgc</th>\n",
       "      <th>Vt</th>\n",
       "      <th>[Fe/H]</th>\n",
       "      <th>SpT</th>\n",
       "      <th>c</th>\n",
       "      <th>Rh</th>\n",
       "      <th>x</th>\n",
       "      <th>y</th>\n",
       "      <th>z</th>\n",
       "    </tr>\n",
       "  </thead>\n",
       "  <tbody>\n",
       "    <tr>\n",
       "      <th>0</th>\n",
       "      <td>6.021667</td>\n",
       "      <td>-72.080833</td>\n",
       "      <td>NGC 104</td>\n",
       "      <td>00 24 05.2</td>\n",
       "      <td>-72 04 51</td>\n",
       "      <td>305.90</td>\n",
       "      <td>-44.89</td>\n",
       "      <td>4.3</td>\n",
       "      <td>7.3</td>\n",
       "      <td>3.95</td>\n",
       "      <td>-0.76</td>\n",
       "      <td>G4</td>\n",
       "      <td>2.04</td>\n",
       "      <td>2.79</td>\n",
       "      <td>-0.007505</td>\n",
       "      <td>1.322981</td>\n",
       "      <td>-4.091414</td>\n",
       "    </tr>\n",
       "    <tr>\n",
       "      <th>1</th>\n",
       "      <td>13.197917</td>\n",
       "      <td>-26.590000</td>\n",
       "      <td>NGC 288</td>\n",
       "      <td>00 52 47.5</td>\n",
       "      <td>-26 35 24</td>\n",
       "      <td>152.28</td>\n",
       "      <td>-89.38</td>\n",
       "      <td>8.1</td>\n",
       "      <td>11.4</td>\n",
       "      <td>8.09</td>\n",
       "      <td>-1.24</td>\n",
       "      <td></td>\n",
       "      <td>0.96</td>\n",
       "      <td>2.22</td>\n",
       "      <td>-6.889990</td>\n",
       "      <td>-2.234540</td>\n",
       "      <td>-3.625584</td>\n",
       "    </tr>\n",
       "    <tr>\n",
       "      <th>2</th>\n",
       "      <td>15.809583</td>\n",
       "      <td>-70.848333</td>\n",
       "      <td>NGC 362</td>\n",
       "      <td>01 03 14.3</td>\n",
       "      <td>-70 50 54</td>\n",
       "      <td>301.53</td>\n",
       "      <td>-46.25</td>\n",
       "      <td>8.3</td>\n",
       "      <td>9.2</td>\n",
       "      <td>6.40</td>\n",
       "      <td>-1.16</td>\n",
       "      <td>F9</td>\n",
       "      <td>1.94</td>\n",
       "      <td>0.81</td>\n",
       "      <td>-1.477307</td>\n",
       "      <td>-2.287397</td>\n",
       "      <td>-7.840624</td>\n",
       "    </tr>\n",
       "    <tr>\n",
       "      <th>3</th>\n",
       "      <td>48.063750</td>\n",
       "      <td>-55.216944</td>\n",
       "      <td>NGC 1261</td>\n",
       "      <td>03 12 15.3</td>\n",
       "      <td>-55 13 01</td>\n",
       "      <td>270.54</td>\n",
       "      <td>-52.13</td>\n",
       "      <td>16.0</td>\n",
       "      <td>17.9</td>\n",
       "      <td>8.29</td>\n",
       "      <td>-1.35</td>\n",
       "      <td>F7</td>\n",
       "      <td>1.27</td>\n",
       "      <td>0.75</td>\n",
       "      <td>9.126260</td>\n",
       "      <td>0.152329</td>\n",
       "      <td>-13.141087</td>\n",
       "    </tr>\n",
       "    <tr>\n",
       "      <th>4</th>\n",
       "      <td>53.345833</td>\n",
       "      <td>79.580556</td>\n",
       "      <td>Pal 1</td>\n",
       "      <td>03 33 23.0</td>\n",
       "      <td>+79 34 50</td>\n",
       "      <td>130.07</td>\n",
       "      <td>19.03</td>\n",
       "      <td>9.7</td>\n",
       "      <td>15.9</td>\n",
       "      <td>13.52</td>\n",
       "      <td>-0.80</td>\n",
       "      <td></td>\n",
       "      <td>1.50</td>\n",
       "      <td>0.48</td>\n",
       "      <td>0.298971</td>\n",
       "      <td>1.728610</td>\n",
       "      <td>9.540048</td>\n",
       "    </tr>\n",
       "  </tbody>\n",
       "</table>\n",
       "</div>"
      ],
      "text/plain": [
       "    _RAJ2000   _DEJ2000         ID     RAJ2000    DEJ2000    GLON   GLAT  \\\n",
       "0   6.021667 -72.080833  NGC 104    00 24 05.2  -72 04 51  305.90 -44.89   \n",
       "1  13.197917 -26.590000  NGC 288    00 52 47.5  -26 35 24  152.28 -89.38   \n",
       "2  15.809583 -70.848333  NGC 362    01 03 14.3  -70 50 54  301.53 -46.25   \n",
       "3  48.063750 -55.216944  NGC 1261   03 12 15.3  -55 13 01  270.54 -52.13   \n",
       "4  53.345833  79.580556  Pal 1      03 33 23.0  +79 34 50  130.07  19.03   \n",
       "\n",
       "   Rsun    Rgc     Vt [Fe/H]   SpT      c    Rh         x         y          z  \n",
       "0   4.3    7.3   3.95  -0.76  G4     2.04  2.79 -0.007505  1.322981  -4.091414  \n",
       "1   8.1   11.4   8.09  -1.24         0.96  2.22 -6.889990 -2.234540  -3.625584  \n",
       "2   8.3    9.2   6.40  -1.16  F9     1.94  0.81 -1.477307 -2.287397  -7.840624  \n",
       "3  16.0   17.9   8.29  -1.35  F7     1.27  0.75  9.126260  0.152329 -13.141087  \n",
       "4   9.7   15.9  13.52  -0.80         1.50  0.48  0.298971  1.728610   9.540048  "
      ]
     },
     "execution_count": 49,
     "metadata": {},
     "output_type": "execute_result"
    }
   ],
   "source": [
    "data.head()"
   ]
  },
  {
   "cell_type": "code",
   "execution_count": 50,
   "metadata": {},
   "outputs": [],
   "source": [
    "# Calcular la posición promedio del centro\n",
    "x_avg = data['x'].mean()\n",
    "y_avg = data['y'].mean()\n",
    "z_avg = data['z'].mean()"
   ]
  },
  {
   "cell_type": "code",
   "execution_count": 51,
   "metadata": {},
   "outputs": [
    {
     "data": {
      "text/plain": [
       "(-0.35661041839612173, 0.9352441318412935, -3.5349928267690482)"
      ]
     },
     "execution_count": 51,
     "metadata": {},
     "output_type": "execute_result"
    }
   ],
   "source": [
    "x_avg, y_avg, z_avg"
   ]
  },
  {
   "cell_type": "code",
   "execution_count": 52,
   "metadata": {},
   "outputs": [
    {
     "data": {
      "text/plain": [
       "3.6739660942856913"
      ]
     },
     "execution_count": 52,
     "metadata": {},
     "output_type": "execute_result"
    }
   ],
   "source": [
    "# Distancia al centro\n",
    "center_distance = np.sqrt(x_avg**2 + y_avg**2 + z_avg**2)\n",
    "center_distance"
   ]
  },
  {
   "cell_type": "code",
   "execution_count": 53,
   "metadata": {},
   "outputs": [],
   "source": [
    "# RA y DEC de una estrella en Sagitario.\n",
    "# Por ejemplo Alnasl (Gamma Sagittarii)\n",
    "# RA=18h, DEC=-30°\n",
    "# https://en.wikipedia.org/wiki/Gamma2_Sagittarii\n",
    "RA_star = 18 * 15  # Convertir a grados\n",
    "DE_star = -30\n",
    "\n",
    "RA_star_rad = np.deg2rad(RA_star)\n",
    "DE_star_rad = np.deg2rad(DE_star)\n",
    "\n",
    "x_star = center_distance * np.cos(RA_star_rad) * np.cos(DE_star_rad)\n",
    "y_star = center_distance * np.sin(RA_star_rad) * np.cos(DE_star_rad)\n",
    "z_star = center_distance * np.sin(DE_star_rad)"
   ]
  },
  {
   "cell_type": "code",
   "execution_count": 54,
   "metadata": {},
   "outputs": [
    {
     "name": "stdout",
     "output_type": "stream",
     "text": [
      "Posición de Alnasl (Gamma Sagittarii) en Sagitario: (-5.844776201271391e-16, -3.181747970294103, -1.8369830471428454)\n"
     ]
    }
   ],
   "source": [
    "print(f\"Posición de Alnasl (Gamma Sagittarii) en Sagitario: {x_star, y_star, z_star}\")"
   ]
  },
  {
   "cell_type": "code",
   "execution_count": null,
   "metadata": {
    "pycharm": {
     "is_executing": true
    }
   },
   "outputs": [],
   "source": [
    "\"\"\"\n",
    "No parece estar muy cerca del centro de la galaxia.\n",
    "Aunque la constelación de Sagitario apunta hacia la dirección del centro galáctico,\n",
    "asumo que las estrellas individuales en la constelación pueden estar dispersas en una amplia área del cielo.\n",
    "Alnasl es solo una de las estrellas en Sagitario y su posición puede estar más cerca o más lejos y\n",
    "aparentar estar en el mismo centro desde nuestra perspectiva.\n",
    "\"\"\""
   ]
  },
  {
   "cell_type": "code",
   "execution_count": 61,
   "metadata": {},
   "outputs": [],
   "source": [
    "# Radio del cúmulo en parsecs\n",
    "# Suponiendo que Rh está en minutos de arco\n",
    "data['radio_parsecs'] = data['Rsun'] * np.tan(np.deg2rad(data['Rh'] / 60))\n",
    "radio_promedio = data['radio_parsecs'].mean()"
   ]
  },
  {
   "cell_type": "code",
   "execution_count": 57,
   "metadata": {},
   "outputs": [
    {
     "data": {
      "text/html": [
       "<div>\n",
       "<style scoped>\n",
       "    .dataframe tbody tr th:only-of-type {\n",
       "        vertical-align: middle;\n",
       "    }\n",
       "\n",
       "    .dataframe tbody tr th {\n",
       "        vertical-align: top;\n",
       "    }\n",
       "\n",
       "    .dataframe thead th {\n",
       "        text-align: right;\n",
       "    }\n",
       "</style>\n",
       "<table border=\"1\" class=\"dataframe\">\n",
       "  <thead>\n",
       "    <tr style=\"text-align: right;\">\n",
       "      <th></th>\n",
       "      <th>_RAJ2000</th>\n",
       "      <th>_DEJ2000</th>\n",
       "      <th>ID</th>\n",
       "      <th>RAJ2000</th>\n",
       "      <th>DEJ2000</th>\n",
       "      <th>GLON</th>\n",
       "      <th>GLAT</th>\n",
       "      <th>Rsun</th>\n",
       "      <th>Rgc</th>\n",
       "      <th>Vt</th>\n",
       "      <th>[Fe/H]</th>\n",
       "      <th>SpT</th>\n",
       "      <th>c</th>\n",
       "      <th>Rh</th>\n",
       "      <th>x</th>\n",
       "      <th>y</th>\n",
       "      <th>z</th>\n",
       "      <th>radio_parsecs</th>\n",
       "    </tr>\n",
       "  </thead>\n",
       "  <tbody>\n",
       "    <tr>\n",
       "      <th>0</th>\n",
       "      <td>6.021667</td>\n",
       "      <td>-72.080833</td>\n",
       "      <td>NGC 104</td>\n",
       "      <td>00 24 05.2</td>\n",
       "      <td>-72 04 51</td>\n",
       "      <td>305.90</td>\n",
       "      <td>-44.89</td>\n",
       "      <td>4.3</td>\n",
       "      <td>7.3</td>\n",
       "      <td>3.95</td>\n",
       "      <td>-0.76</td>\n",
       "      <td>G4</td>\n",
       "      <td>2.04</td>\n",
       "      <td>2.79</td>\n",
       "      <td>-0.007505</td>\n",
       "      <td>1.322981</td>\n",
       "      <td>-4.091414</td>\n",
       "      <td>0.003490</td>\n",
       "    </tr>\n",
       "    <tr>\n",
       "      <th>1</th>\n",
       "      <td>13.197917</td>\n",
       "      <td>-26.590000</td>\n",
       "      <td>NGC 288</td>\n",
       "      <td>00 52 47.5</td>\n",
       "      <td>-26 35 24</td>\n",
       "      <td>152.28</td>\n",
       "      <td>-89.38</td>\n",
       "      <td>8.1</td>\n",
       "      <td>11.4</td>\n",
       "      <td>8.09</td>\n",
       "      <td>-1.24</td>\n",
       "      <td></td>\n",
       "      <td>0.96</td>\n",
       "      <td>2.22</td>\n",
       "      <td>-6.889990</td>\n",
       "      <td>-2.234540</td>\n",
       "      <td>-3.625584</td>\n",
       "      <td>0.005231</td>\n",
       "    </tr>\n",
       "    <tr>\n",
       "      <th>2</th>\n",
       "      <td>15.809583</td>\n",
       "      <td>-70.848333</td>\n",
       "      <td>NGC 362</td>\n",
       "      <td>01 03 14.3</td>\n",
       "      <td>-70 50 54</td>\n",
       "      <td>301.53</td>\n",
       "      <td>-46.25</td>\n",
       "      <td>8.3</td>\n",
       "      <td>9.2</td>\n",
       "      <td>6.40</td>\n",
       "      <td>-1.16</td>\n",
       "      <td>F9</td>\n",
       "      <td>1.94</td>\n",
       "      <td>0.81</td>\n",
       "      <td>-1.477307</td>\n",
       "      <td>-2.287397</td>\n",
       "      <td>-7.840624</td>\n",
       "      <td>0.001956</td>\n",
       "    </tr>\n",
       "    <tr>\n",
       "      <th>3</th>\n",
       "      <td>48.063750</td>\n",
       "      <td>-55.216944</td>\n",
       "      <td>NGC 1261</td>\n",
       "      <td>03 12 15.3</td>\n",
       "      <td>-55 13 01</td>\n",
       "      <td>270.54</td>\n",
       "      <td>-52.13</td>\n",
       "      <td>16.0</td>\n",
       "      <td>17.9</td>\n",
       "      <td>8.29</td>\n",
       "      <td>-1.35</td>\n",
       "      <td>F7</td>\n",
       "      <td>1.27</td>\n",
       "      <td>0.75</td>\n",
       "      <td>9.126260</td>\n",
       "      <td>0.152329</td>\n",
       "      <td>-13.141087</td>\n",
       "      <td>0.003491</td>\n",
       "    </tr>\n",
       "    <tr>\n",
       "      <th>4</th>\n",
       "      <td>53.345833</td>\n",
       "      <td>79.580556</td>\n",
       "      <td>Pal 1</td>\n",
       "      <td>03 33 23.0</td>\n",
       "      <td>+79 34 50</td>\n",
       "      <td>130.07</td>\n",
       "      <td>19.03</td>\n",
       "      <td>9.7</td>\n",
       "      <td>15.9</td>\n",
       "      <td>13.52</td>\n",
       "      <td>-0.80</td>\n",
       "      <td></td>\n",
       "      <td>1.50</td>\n",
       "      <td>0.48</td>\n",
       "      <td>0.298971</td>\n",
       "      <td>1.728610</td>\n",
       "      <td>9.540048</td>\n",
       "      <td>0.001354</td>\n",
       "    </tr>\n",
       "  </tbody>\n",
       "</table>\n",
       "</div>"
      ],
      "text/plain": [
       "    _RAJ2000   _DEJ2000         ID     RAJ2000    DEJ2000    GLON   GLAT  \\\n",
       "0   6.021667 -72.080833  NGC 104    00 24 05.2  -72 04 51  305.90 -44.89   \n",
       "1  13.197917 -26.590000  NGC 288    00 52 47.5  -26 35 24  152.28 -89.38   \n",
       "2  15.809583 -70.848333  NGC 362    01 03 14.3  -70 50 54  301.53 -46.25   \n",
       "3  48.063750 -55.216944  NGC 1261   03 12 15.3  -55 13 01  270.54 -52.13   \n",
       "4  53.345833  79.580556  Pal 1      03 33 23.0  +79 34 50  130.07  19.03   \n",
       "\n",
       "   Rsun    Rgc     Vt [Fe/H]   SpT      c    Rh         x         y  \\\n",
       "0   4.3    7.3   3.95  -0.76  G4     2.04  2.79 -0.007505  1.322981   \n",
       "1   8.1   11.4   8.09  -1.24         0.96  2.22 -6.889990 -2.234540   \n",
       "2   8.3    9.2   6.40  -1.16  F9     1.94  0.81 -1.477307 -2.287397   \n",
       "3  16.0   17.9   8.29  -1.35  F7     1.27  0.75  9.126260  0.152329   \n",
       "4   9.7   15.9  13.52  -0.80         1.50  0.48  0.298971  1.728610   \n",
       "\n",
       "           z  radio_parsecs  \n",
       "0  -4.091414       0.003490  \n",
       "1  -3.625584       0.005231  \n",
       "2  -7.840624       0.001956  \n",
       "3 -13.141087       0.003491  \n",
       "4   9.540048       0.001354  "
      ]
     },
     "execution_count": 57,
     "metadata": {},
     "output_type": "execute_result"
    }
   ],
   "source": [
    "data.head()"
   ]
  },
  {
   "cell_type": "code",
   "execution_count": 58,
   "metadata": {},
   "outputs": [],
   "source": [
    "# Los radios de los cúmulos me parecen no tan distintos."
   ]
  },
  {
   "cell_type": "code",
   "execution_count": 59,
   "metadata": {},
   "outputs": [
    {
     "name": "stdout",
     "output_type": "stream",
     "text": [
      "RESUMEN\n",
      "Posición promedio del centro: (-0.35661041839612173, 0.9352441318412935, -3.5349928267690482)\n",
      "Distancia del Sol al centro: 3.6739660942856913 kpc\n",
      "Posición de Alnasl (Gamma Sagittarii) en Sagitario: (-5.844776201271391e-16, -3.181747970294103, -1.8369830471428454)\n",
      "Radio promedio de los cúmulos en parsecs: 0.004434517864178316\n"
     ]
    }
   ],
   "source": [
    "print(\"RESUMEN\")\n",
    "print(f\"Posición promedio del centro: {x_avg, y_avg, z_avg}\")\n",
    "print(f\"Distancia del Sol al centro: {center_distance} kpc\")\n",
    "print(f\"Posición de Alnasl (Gamma Sagittarii) en Sagitario: {x_star, y_star, z_star}\")\n",
    "print(f\"Radio promedio de los cúmulos en parsecs: {radio_promedio}\")"
   ]
  },
  {
   "cell_type": "code",
   "execution_count": null,
   "metadata": {},
   "outputs": [],
   "source": [
    "\"\"\"\n",
    "Trataré de graficar los cúmulos, el Sol y el centro de la Galaxia.\n",
    "\"\"\""
   ]
  },
  {
   "cell_type": "code",
   "execution_count": null,
   "metadata": {
    "pycharm": {
     "is_executing": true
    }
   },
   "outputs": [],
   "source": [
    "!pip install matplotlib"
   ]
  },
  {
   "cell_type": "code",
   "execution_count": 96,
   "metadata": {},
   "outputs": [
    {
     "data": {
      "image/png": "[encoded data removed]",
      "text/plain": [
       "<Figure size 1000x800 with 1 Axes>"
      ]
     },
     "metadata": {},
     "output_type": "display_data"
    }
   ],
   "source": [
    "import matplotlib.pyplot as plt\n",
    "\n",
    "# Crear un gráfico 3D\n",
    "fig = plt.figure(figsize=(10, 8))\n",
    "ax = fig.add_subplot(111, projection='3d')\n",
    "\n",
    "# Graficar los cúmulos\n",
    "ax.scatter(data['x'], data['y'], data['z'], c='green', marker='o', label='Cúmulos globulares')\n",
    "\n",
    "# Marcar el punto estimado del centro de la galaxia\n",
    "ax.scatter(x_avg, y_avg, z_avg, c='red', marker='*', s=200, label='Centro estimado de la galaxia')\n",
    "\n",
    "# Marcar la posición del Sol\n",
    "ax.scatter(0, 0, 0, c='yellow', marker='o', s=200, label='Sol')\n",
    "\n",
    "# Etiquetas y título\n",
    "ax.set_xlabel('X (kpc)')\n",
    "ax.set_ylabel('Y (kpc)')\n",
    "ax.set_zlabel('Z (kpc)')\n",
    "ax.set_title('Distribución de cúmulos globulares en relación con el Sol y el centro de la galaxia')\n",
    "ax.legend()\n",
    "\n",
    "# Adjust Y axis limits\n",
    "y_min = -20  # Example value\n",
    "y_max = 20   # Example value\n",
    "ax.set_ylim(y_min, y_max)\n",
    "\n",
    "# Adjust view\n",
    "ax.view_init(elev=20, azim=-10)\n",
    "\n",
    "# Mostrar el gráfico\n",
    "plt.show()\n"
   ]
  },
  {
   "cell_type": "code",
   "execution_count": null,
   "metadata": {},
   "outputs": [],
   "source": [
    "\"\"\"\n",
    "🙃 Definitivamente creo que hay algo mal porque el Sol y el centro de la Galaxia se ven casi en la misma posición.\n",
    "\"\"\""
   ]
  },
  {
   "cell_type": "code",
   "execution_count": null,
   "metadata": {
    "pycharm": {
     "is_executing": true
    }
   },
   "outputs": [],
   "source": [
    "!pip install plotly"
   ]
  },
  {
   "cell_type": "code",
   "execution_count": 101,
   "metadata": {},
   "outputs": [
    {
     "data": {
      "application/vnd.plotly.v1+json": {
       "config": {
        "plotlyServerURL": "https://plot.ly"
       },
       "data": [
        {
         "marker": {
          "color": "blue",
          "opacity": 0.8,
          "size": 5
         },
         "mode": "markers",
         "name": "Cúmulos globulares",
         "type": "scatter3d",
         "x": [
          -0.007504567252116091,
          -6.889990329747477,
          -1.4773071925275607,
          9.12626009574548,
          0.2989712683564586,
          -73.14564529566027,
          3.655645807640897,
          22.787553188855103,
          -1.2826234280727586,
          -8.19896450012373,
          -0.5533656873860623,
          8.950827954072453,
          -8.005845215581461,
          0.011203845454497091,
          0.5130960198540385,
          -31.61886339220734,
          -3.21358629431409,
          37.10000325750956,
          -14.067113202519756,
          0.16754594016952126,
          10.586671463485715,
          7.649106136062292,
          1.4036321412859145,
          -1.0539624642520355,
          -4.431691141571542,
          -2.8363018786355103,
          -8.087024917221365,
          -5.179388174627643,
          -6.993997469749106,
          5.0968522208986,
          23.47839781160004,
          15.832309881623445,
          -1.797911620393753,
          -22.69453345613176,
          -21.795701145880784,
          -11.120633233849334,
          -6.632376239680356,
          -2.342654151314744,
          -0.26787232008759443,
          1.980266361265572,
          4.980014460733703,
          2.9863469302982235,
          52.19688155637224,
          3.5230723392232957,
          0.05260034986650068,
          -0.5455031902933765,
          -1.907318803475647,
          -1.947125090013981,
          -6.476959891481563,
          -3.2516546204074417,
          -5.659917093024999,
          -5.156800179918761,
          -19.7403911431287,
          -4.691499965962963,
          -8.422453358028157,
          -3.542870762050718,
          -5.397862008067713,
          -30.74766222237238,
          -3.7611841708181935,
          -4.387585170356946,
          -6.136028517001538,
          -3.3557940599675424,
          -0.9386373673150243,
          0.8650326205514688,
          3.021917249823376,
          1.9444737735160287,
          3.285243666059729,
          3.5715269029974603,
          4.842146595564983,
          9.557172842660558,
          4.49181418580187,
          2.8706972201518557,
          20.33947531747536,
          6.945364661481558,
          3.07430130675817,
          7.12044091159459,
          5.916838632117816,
          2.8206962749427213,
          8.641201279118693,
          null,
          5.60183602878886,
          6.17761879654776,
          8.167846525952521,
          8.638361156295794,
          6.756256059886508,
          1.2423703480403137,
          5.262586224840298,
          16.584465775406585,
          5.637038284794339,
          5.1071283847179405,
          4.990600373793578,
          4.6258701817473,
          3.6399480559341693,
          5.051293718321477,
          2.4302936852931962,
          0.525217914764474,
          -0.7486278472773268,
          -1.4490038724853334,
          -1.2482931783754896,
          -1.4510751725609843,
          -1.4024872356905371,
          -1.6932237850629899,
          -1.9898766656124771,
          -2.4344877275136256,
          -1.2119682810928278,
          -1.0475522088639353,
          -2.685841083911504,
          -2.408226839205601,
          -3.398522336353356,
          -5.963008780128947,
          null,
          -5.626915992156212,
          -7.477889149703813,
          -6.815027729744036,
          -5.168076818523487,
          -6.651645553936498,
          -6.133537071848067,
          -6.058535437635568,
          -5.661375787070786,
          -2.0133441066912323,
          -4.8153983868362245,
          -2.26730219648521,
          2.1582227299465417,
          10.059584757784204,
          2.9366453958550807,
          4.735294197118688,
          6.957963705621786,
          1.9456676075796868,
          7.288858073136771,
          8.17410730655823,
          17.60485732226894,
          5.074629794608813,
          10.902694591672269,
          -1.173403601292657,
          -7.7389614790521355,
          -7.094035209849007,
          -3.3026120678525306,
          -15.735857262224693,
          9.326596685998272,
          15.361511634844526,
          24.812641250592208,
          -9.204804332778673,
          -11.24515222424372,
          -6.967719989012881,
          -13.365618215672196,
          -24.144264902778612,
          -23.616342245141585
         ],
         "y": [
          1.322980935369928,
          -2.234540325678166,
          -2.28739669999569,
          0.15232878706545,
          1.7286095931300827,
          24.589584351368757,
          -75.24967567157893,
          -2.85096417480893,
          9.250781037798188,
          8.01151608449509,
          8.557132523191186,
          -63.437338435776766,
          -29.59394593406456,
          -3.950468246835155,
          -0.7691733926356857,
          83.62173802343708,
          1.4274221489803087,
          78.84152014669075,
          -10.94601886008174,
          -1.4508283096024943,
          -7.409425634183112,
          -4.779691065779267,
          1.3290899874529298,
          17.450777124585123,
          14.783312919447319,
          1.9589176249932074,
          -3.466104142178252,
          -4.217625208507884,
          -25.018072262041652,
          -13.66394813664667,
          9.050735911934707,
          25.867634867582527,
          1.7267728361555073,
          13.152253653058866,
          -5.975406356245379,
          -4.109509352508243,
          -3.0382886604503465,
          -4.062710907127941,
          -7.792717471642737,
          -9.55709023024469,
          -6.439030880512317,
          2.636294726550855,
          46.27134239311853,
          7.193473029101491,
          1.9677194008313996,
          4.583231658544626,
          8.873232348413069,
          7.942234739709038,
          20.534487787025313,
          5.2049974887625,
          3.5582072313991593,
          2.2589816556018194,
          1.3176422709671938,
          0.23304326444242798,
          -3.1218275629361742,
          -2.4173484663949663,
          -5.084464001340016,
          -30.90907956368418,
          -4.409621722596112,
          -6.232779080468994,
          -11.443644823009226,
          -6.984521526049203,
          -7.813641267384323,
          -5.151964877543827,
          -9.679943430231159,
          -5.581805934351598,
          -7.950895710777496,
          -7.0132968137325005,
          -7.075087427872933,
          -10.093187901815098,
          -4.5055538597491935,
          -2.3601153220455173,
          -13.319285508124992,
          -4.28326666396191,
          -1.8458579353082745,
          -2.6013092484698155,
          -1.9711374829130919,
          -0.7729784745133181,
          -1.4799789740427052,
          null,
          -0.07455390564835378,
          0.07075983013288548,
          0.15148220467614798,
          0.9088818249016798,
          1.1677670564610587,
          0.39365553952735993,
          2.9036052621340103,
          10.943231004271208,
          5.260074067974481,
          5.1620191244708264,
          5.598868308071454,
          6.2074940060017765,
          5.27640410082669,
          7.415339061363757,
          6.397791599328879,
          8.290362798478323,
          6.919349088601624,
          12.117989790199859,
          10.296511349317027,
          7.404739205715898,
          5.895584925834577,
          6.585723287886186,
          6.088033514393043,
          7.442825506266157,
          2.850031333532172,
          2.0091178533228664,
          4.626336739343414,
          3.474680902392052,
          4.249643291910249,
          7.040673839168486,
          null,
          4.5271899968305656,
          2.7429960253303123,
          0.14498568720026903,
          -0.1855528782946044,
          -3.24602158543125,
          -3.2201796371778384,
          -3.4478489234018865,
          -5.487453402575709,
          -2.122548849853705,
          -10.624725050760253,
          -6.996213532546456,
          -6.261275155746739,
          -20.215046437154715,
          -5.854772384574047,
          -5.020582202341745,
          -3.2880858350436006,
          -0.1450150799008381,
          -0.3811949570114284,
          2.533241261368863,
          6.928081692610552,
          2.115612604698207,
          21.174563672173274,
          4.390694655659428,
          19.583824134633318,
          10.264214513076954,
          1.4270300975959653,
          -6.6147453065997555,
          -11.841357129135488,
          5.7415240078739735,
          30.20069192464013,
          3.8327674132014216,
          1.8654049143398008,
          -2.0474090050507687,
          -11.185306026749092,
          8.656785780755225,
          5.596268990732242
         ],
         "z": [
          -4.0914135853171905,
          -3.625584475488655,
          -7.840623686656258,
          -13.141087192673021,
          9.540048482855628,
          -90.71866905829457,
          -29.202098641215123,
          14.007477393844175,
          -7.849708741887967,
          -5.229970473490964,
          -6.231313617253379,
          51.66117276176872,
          -23.288512327665224,
          -8.419244330971411,
          -4.096962871014485,
          0.1113899662925256,
          -3.6939584645197443,
          48.24691139598198,
          5.978377477395451,
          -4.677288271422736,
          -16.043154275133286,
          -4.544857383347034,
          -5.574346295055726,
          5.73755530448329,
          4.924811950868613,
          -3.758727629363378,
          4.752488828373566,
          -8.359161186212775,
          -13.334918810566682,
          7.929603947067666,
          -2.634201141270374,
          -15.146399907888249,
          -18.2303529690889,
          -17.07824273905591,
          -0.0439367408145737,
          -4.553399758406126,
          0.265306296763366,
          -5.7241900398599155,
          -9.512717741386261,
          -11.65249207120097,
          -6.310969599886533,
          -5.756012693406655,
          18.635676240180814,
          -3.395866174069452,
          -0.9825037215123618,
          -14.377288125147038,
          -4.431465070716923,
          -6.586320006133695,
          -15.275594976584296,
          -1.4229347741758909,
          -3.6144847210220945,
          4.159857423523587,
          21.61182029265574,
          -0.1597463810780449,
          -3.6614849582010045,
          -0.30739739007361766,
          -5.6126029220796205,
          -0.41239348289642325,
          -3.361358341027501,
          -3.7618560986475673,
          -5.99017088265085,
          -3.2427003067261535,
          -3.937762059509011,
          -2.9510975019366383,
          -5.423717481833336,
          5.53827267795164,
          -3.788196332155244,
          -2.63588000175557,
          -3.0506973358582794,
          -4.4663189803421846,
          -3.151759784172682,
          -4.189147065556232,
          -3.0252896328884065,
          -4.8647236719505225,
          -0.31855919061374377,
          -4.66288659719657,
          -3.598004672722538,
          -6.906241872571748,
          -5.778347747423043,
          null,
          -3.2960392627691237,
          -4.92361849161563,
          -8.09403090370625,
          -0.49259553567137915,
          -3.039625660355417,
          -1.7724421667602062,
          -2.960449747560129,
          1.1005408359188367,
          -5.019503977006622,
          -3.3572009502866766,
          -2.783268146974791,
          -5.844513942756334,
          -3.8936278603482832,
          -6.18927930992445,
          -3.067887751333292,
          -8.096544374708087,
          -3.5216707024292875,
          -6.441638861511446,
          -1.6351202323397778,
          -3.6910998549092424,
          -3.5035850119552148,
          -0.03524186559369275,
          -3.7062432169621675,
          -1.0428892500450184,
          -1.630476704375051,
          -1.0564467905027715,
          -5.1130486058881175,
          -2.053542333988213,
          -3.3690618606415583,
          -1.1668068300081205,
          null,
          -4.482451020347455,
          -10.274100771832254,
          -3.9930409706546888,
          -2.3971967226735362,
          -3.529724534820133,
          -4.387501121660328,
          -3.0276205429859333,
          -5.118269175427266,
          -1.2966232637263606,
          -4.205610059409051,
          -4.64783142517316,
          -1.0141538699678354,
          -13.288967305424228,
          -2.7400281282921686,
          -5.131349063965869,
          0.25540675918145384,
          -3.3768843905909023,
          0.13129506623621892,
          4.977615739746256,
          -13.079399172862193,
          1.8472454505318396,
          -13.94736906853046,
          -2.7267057834018615,
          -14.203601919566063,
          -1.7551538026517681,
          1.2232492100263468,
          -6.869347913136065,
          1.958789319196471,
          -3.6467605295032786,
          11.346410949828433,
          2.149760719605841,
          -0.16375579117524985,
          -3.109500686725662,
          -6.7778447017368295,
          5.814166513832142,
          -6.781603965413305
         ]
        },
        {
         "marker": {
          "color": "red",
          "opacity": 1,
          "size": 12
         },
         "mode": "markers",
         "name": "Centro estimado de la galaxia",
         "type": "scatter3d",
         "x": [
          -0.35661041839612173
         ],
         "y": [
          0.9352441318412935
         ],
         "z": [
          -3.5349928267690482
         ]
        },
        {
         "marker": {
          "color": "yellow",
          "opacity": 1,
          "size": 12
         },
         "mode": "markers",
         "name": "Sol",
         "type": "scatter3d",
         "x": [
          0
         ],
         "y": [
          0
         ],
         "z": [
          0
         ]
        }
       ],
       "layout": {
        "margin": {
         "b": 0,
         "l": 0,
         "r": 0,
         "t": 0
        },
        "scene": {
         "xaxis": {
          "title": {
           "text": "X (kpc)"
          }
         },
         "yaxis": {
          "title": {
           "text": "Y (kpc)"
          }
         },
         "zaxis": {
          "title": {
           "text": "Z (kpc)"
          }
         }
        },
        "template": {
         "data": {
          "bar": [
           {
            "error_x": {
             "color": "#2a3f5f"
            },
            "error_y": {
             "color": "#2a3f5f"
            },
            "marker": {
             "line": {
              "color": "#E5ECF6",
              "width": 0.5
             },
             "pattern": {
              "fillmode": "overlay",
              "size": 10,
              "solidity": 0.2
             }
            },
            "type": "bar"
           }
          ],
          "barpolar": [
           {
            "marker": {
             "line": {
              "color": "#E5ECF6",
              "width": 0.5
             },
             "pattern": {
              "fillmode": "overlay",
              "size": 10,
              "solidity": 0.2
             }
            },
            "type": "barpolar"
           }
          ],
          "carpet": [
           {
            "aaxis": {
             "endlinecolor": "#2a3f5f",
             "gridcolor": "white",
             "linecolor": "white",
             "minorgridcolor": "white",
             "startlinecolor": "#2a3f5f"
            },
            "baxis": {
             "endlinecolor": "#2a3f5f",
             "gridcolor": "white",
             "linecolor": "white",
             "minorgridcolor": "white",
             "startlinecolor": "#2a3f5f"
            },
            "type": "carpet"
           }
          ],
          "choropleth": [
           {
            "colorbar": {
             "outlinewidth": 0,
             "ticks": ""
            },
            "type": "choropleth"
           }
          ],
          "contour": [
           {
            "colorbar": {
             "outlinewidth": 0,
             "ticks": ""
            },
            "colorscale": [
             [
              0,
              "#0d0887"
             ],
             [
              0.1111111111111111,
              "#46039f"
             ],
             [
              0.2222222222222222,
              "#7201a8"
             ],
             [
              0.3333333333333333,
              "#9c179e"
             ],
             [
              0.4444444444444444,
              "#bd3786"
             ],
             [
              0.5555555555555556,
              "#d8576b"
             ],
             [
              0.6666666666666666,
              "#ed7953"
             ],
             [
              0.7777777777777778,
              "#fb9f3a"
             ],
             [
              0.8888888888888888,
              "#fdca26"
             ],
             [
              1,
              "#f0f921"
             ]
            ],
            "type": "contour"
           }
          ],
          "contourcarpet": [
           {
            "colorbar": {
             "outlinewidth": 0,
             "ticks": ""
            },
            "type": "contourcarpet"
           }
          ],
          "heatmap": [
           {
            "colorbar": {
             "outlinewidth": 0,
             "ticks": ""
            },
            "colorscale": [
             [
              0,
              "#0d0887"
             ],
             [
              0.1111111111111111,
              "#46039f"
             ],
             [
              0.2222222222222222,
              "#7201a8"
             ],
             [
              0.3333333333333333,
              "#9c179e"
             ],
             [
              0.4444444444444444,
              "#bd3786"
             ],
             [
              0.5555555555555556,
              "#d8576b"
             ],
             [
              0.6666666666666666,
              "#ed7953"
             ],
             [
              0.7777777777777778,
              "#fb9f3a"
             ],
             [
              0.8888888888888888,
              "#fdca26"
             ],
             [
              1,
              "#f0f921"
             ]
            ],
            "type": "heatmap"
           }
          ],
          "heatmapgl": [
           {
            "colorbar": {
             "outlinewidth": 0,
             "ticks": ""
            },
            "colorscale": [
             [
              0,
              "#0d0887"
             ],
             [
              0.1111111111111111,
              "#46039f"
             ],
             [
              0.2222222222222222,
              "#7201a8"
             ],
             [
              0.3333333333333333,
              "#9c179e"
             ],
             [
              0.4444444444444444,
              "#bd3786"
             ],
             [
              0.5555555555555556,
              "#d8576b"
             ],
             [
              0.6666666666666666,
              "#ed7953"
             ],
             [
              0.7777777777777778,
              "#fb9f3a"
             ],
             [
              0.8888888888888888,
              "#fdca26"
             ],
             [
              1,
              "#f0f921"
             ]
            ],
            "type": "heatmapgl"
           }
          ],
          "histogram": [
           {
            "marker": {
             "pattern": {
              "fillmode": "overlay",
              "size": 10,
              "solidity": 0.2
             }
            },
            "type": "histogram"
           }
          ],
          "histogram2d": [
           {
            "colorbar": {
             "outlinewidth": 0,
             "ticks": ""
            },
            "colorscale": [
             [
              0,
              "#0d0887"
             ],
             [
              0.1111111111111111,
              "#46039f"
             ],
             [
              0.2222222222222222,
              "#7201a8"
             ],
             [
              0.3333333333333333,
              "#9c179e"
             ],
             [
              0.4444444444444444,
              "#bd3786"
             ],
             [
              0.5555555555555556,
              "#d8576b"
             ],
             [
              0.6666666666666666,
              "#ed7953"
             ],
             [
              0.7777777777777778,
              "#fb9f3a"
             ],
             [
              0.8888888888888888,
              "#fdca26"
             ],
             [
              1,
              "#f0f921"
             ]
            ],
            "type": "histogram2d"
           }
          ],
          "histogram2dcontour": [
           {
            "colorbar": {
             "outlinewidth": 0,
             "ticks": ""
            },
            "colorscale": [
             [
              0,
              "#0d0887"
             ],
             [
              0.1111111111111111,
              "#46039f"
             ],
             [
              0.2222222222222222,
              "#7201a8"
             ],
             [
              0.3333333333333333,
              "#9c179e"
             ],
             [
              0.4444444444444444,
              "#bd3786"
             ],
             [
              0.5555555555555556,
              "#d8576b"
             ],
             [
              0.6666666666666666,
              "#ed7953"
             ],
             [
              0.7777777777777778,
              "#fb9f3a"
             ],
             [
              0.8888888888888888,
              "#fdca26"
             ],
             [
              1,
              "#f0f921"
             ]
            ],
            "type": "histogram2dcontour"
           }
          ],
          "mesh3d": [
           {
            "colorbar": {
             "outlinewidth": 0,
             "ticks": ""
            },
            "type": "mesh3d"
           }
          ],
          "parcoords": [
           {
            "line": {
             "colorbar": {
              "outlinewidth": 0,
              "ticks": ""
             }
            },
            "type": "parcoords"
           }
          ],
          "pie": [
           {
            "automargin": true,
            "type": "pie"
           }
          ],
          "scatter": [
           {
            "fillpattern": {
             "fillmode": "overlay",
             "size": 10,
             "solidity": 0.2
            },
            "type": "scatter"
           }
          ],
          "scatter3d": [
           {
            "line": {
             "colorbar": {
              "outlinewidth": 0,
              "ticks": ""
             }
            },
            "marker": {
             "colorbar": {
              "outlinewidth": 0,
              "ticks": ""
             }
            },
            "type": "scatter3d"
           }
          ],
          "scattercarpet": [
           {
            "marker": {
             "colorbar": {
              "outlinewidth": 0,
              "ticks": ""
             }
            },
            "type": "scattercarpet"
           }
          ],
          "scattergeo": [
           {
            "marker": {
             "colorbar": {
              "outlinewidth": 0,
              "ticks": ""
             }
            },
            "type": "scattergeo"
           }
          ],
          "scattergl": [
           {
            "marker": {
             "colorbar": {
              "outlinewidth": 0,
              "ticks": ""
             }
            },
            "type": "scattergl"
           }
          ],
          "scattermapbox": [
           {
            "marker": {
             "colorbar": {
              "outlinewidth": 0,
              "ticks": ""
             }
            },
            "type": "scattermapbox"
           }
          ],
          "scatterpolar": [
           {
            "marker": {
             "colorbar": {
              "outlinewidth": 0,
              "ticks": ""
             }
            },
            "type": "scatterpolar"
           }
          ],
          "scatterpolargl": [
           {
            "marker": {
             "colorbar": {
              "outlinewidth": 0,
              "ticks": ""
             }
            },
            "type": "scatterpolargl"
           }
          ],
          "scatterternary": [
           {
            "marker": {
             "colorbar": {
              "outlinewidth": 0,
              "ticks": ""
             }
            },
            "type": "scatterternary"
           }
          ],
          "surface": [
           {
            "colorbar": {
             "outlinewidth": 0,
             "ticks": ""
            },
            "colorscale": [
             [
              0,
              "#0d0887"
             ],
             [
              0.1111111111111111,
              "#46039f"
             ],
             [
              0.2222222222222222,
              "#7201a8"
             ],
             [
              0.3333333333333333,
              "#9c179e"
             ],
             [
              0.4444444444444444,
              "#bd3786"
             ],
             [
              0.5555555555555556,
              "#d8576b"
             ],
             [
              0.6666666666666666,
              "#ed7953"
             ],
             [
              0.7777777777777778,
              "#fb9f3a"
             ],
             [
              0.8888888888888888,
              "#fdca26"
             ],
             [
              1,
              "#f0f921"
             ]
            ],
            "type": "surface"
           }
          ],
          "table": [
           {
            "cells": {
             "fill": {
              "color": "#EBF0F8"
             },
             "line": {
              "color": "white"
             }
            },
            "header": {
             "fill": {
              "color": "#C8D4E3"
             },
             "line": {
              "color": "white"
             }
            },
            "type": "table"
           }
          ]
         },
         "layout": {
          "annotationdefaults": {
           "arrowcolor": "#2a3f5f",
           "arrowhead": 0,
           "arrowwidth": 1
          },
          "autotypenumbers": "strict",
          "coloraxis": {
           "colorbar": {
            "outlinewidth": 0,
            "ticks": ""
           }
          },
          "colorscale": {
           "diverging": [
            [
             0,
             "#8e0152"
            ],
            [
             0.1,
             "#c51b7d"
            ],
            [
             0.2,
             "#de77ae"
            ],
            [
             0.3,
             "#f1b6da"
            ],
            [
             0.4,
             "#fde0ef"
            ],
            [
             0.5,
             "#f7f7f7"
            ],
            [
             0.6,
             "#e6f5d0"
            ],
            [
             0.7,
             "#b8e186"
            ],
            [
             0.8,
             "#7fbc41"
            ],
            [
             0.9,
             "#4d9221"
            ],
            [
             1,
             "#276419"
            ]
           ],
           "sequential": [
            [
             0,
             "#0d0887"
            ],
            [
             0.1111111111111111,
             "#46039f"
            ],
            [
             0.2222222222222222,
             "#7201a8"
            ],
            [
             0.3333333333333333,
             "#9c179e"
            ],
            [
             0.4444444444444444,
             "#bd3786"
            ],
            [
             0.5555555555555556,
             "#d8576b"
            ],
            [
             0.6666666666666666,
             "#ed7953"
            ],
            [
             0.7777777777777778,
             "#fb9f3a"
            ],
            [
             0.8888888888888888,
             "#fdca26"
            ],
            [
             1,
             "#f0f921"
            ]
           ],
           "sequentialminus": [
            [
             0,
             "#0d0887"
            ],
            [
             0.1111111111111111,
             "#46039f"
            ],
            [
             0.2222222222222222,
             "#7201a8"
            ],
            [
             0.3333333333333333,
             "#9c179e"
            ],
            [
             0.4444444444444444,
             "#bd3786"
            ],
            [
             0.5555555555555556,
             "#d8576b"
            ],
            [
             0.6666666666666666,
             "#ed7953"
            ],
            [
             0.7777777777777778,
             "#fb9f3a"
            ],
            [
             0.8888888888888888,
             "#fdca26"
            ],
            [
             1,
             "#f0f921"
            ]
           ]
          },
          "colorway": [
           "#636efa",
           "#EF553B",
           "#00cc96",
           "#ab63fa",
           "#FFA15A",
           "#19d3f3",
           "#FF6692",
           "#B6E880",
           "#FF97FF",
           "#FECB52"
          ],
          "font": {
           "color": "#2a3f5f"
          },
          "geo": {
           "bgcolor": "white",
           "lakecolor": "white",
           "landcolor": "#E5ECF6",
           "showlakes": true,
           "showland": true,
           "subunitcolor": "white"
          },
          "hoverlabel": {
           "align": "left"
          },
          "hovermode": "closest",
          "mapbox": {
           "style": "light"
          },
          "paper_bgcolor": "white",
          "plot_bgcolor": "#E5ECF6",
          "polar": {
           "angularaxis": {
            "gridcolor": "white",
            "linecolor": "white",
            "ticks": ""
           },
           "bgcolor": "#E5ECF6",
           "radialaxis": {
            "gridcolor": "white",
            "linecolor": "white",
            "ticks": ""
           }
          },
          "scene": {
           "xaxis": {
            "backgroundcolor": "#E5ECF6",
            "gridcolor": "white",
            "gridwidth": 2,
            "linecolor": "white",
            "showbackground": true,
            "ticks": "",
            "zerolinecolor": "white"
           },
           "yaxis": {
            "backgroundcolor": "#E5ECF6",
            "gridcolor": "white",
            "gridwidth": 2,
            "linecolor": "white",
            "showbackground": true,
            "ticks": "",
            "zerolinecolor": "white"
           },
           "zaxis": {
            "backgroundcolor": "#E5ECF6",
            "gridcolor": "white",
            "gridwidth": 2,
            "linecolor": "white",
            "showbackground": true,
            "ticks": "",
            "zerolinecolor": "white"
           }
          },
          "shapedefaults": {
           "line": {
            "color": "#2a3f5f"
           }
          },
          "ternary": {
           "aaxis": {
            "gridcolor": "white",
            "linecolor": "white",
            "ticks": ""
           },
           "baxis": {
            "gridcolor": "white",
            "linecolor": "white",
            "ticks": ""
           },
           "bgcolor": "#E5ECF6",
           "caxis": {
            "gridcolor": "white",
            "linecolor": "white",
            "ticks": ""
           }
          },
          "title": {
           "x": 0.05
          },
          "xaxis": {
           "automargin": true,
           "gridcolor": "white",
           "linecolor": "white",
           "ticks": "",
           "title": {
            "standoff": 15
           },
           "zerolinecolor": "white",
           "zerolinewidth": 2
          },
          "yaxis": {
           "automargin": true,
           "gridcolor": "white",
           "linecolor": "white",
           "ticks": "",
           "title": {
            "standoff": 15
           },
           "zerolinecolor": "white",
           "zerolinewidth": 2
          }
         }
        },
        "title": {
         "text": "Distribución de cúmulos globulares en relación con el Sol y el centro de la galaxia"
        }
       }
      },
      "text/html": [
       "<div>                            <div id=\"e2d061be-8a47-4106-8084-e4c6e74e323f\" class=\"plotly-graph-div\" style=\"height:525px; width:100%;\"></div>            <script type=\"text/javascript\">                require([\"plotly\"], function(Plotly) {                    window.PLOTLYENV=window.PLOTLYENV || {};                                    if (document.getElementById(\"e2d061be-8a47-4106-8084-e4c6e74e323f\")) {                    Plotly.newPlot(                        \"e2d061be-8a47-4106-8084-e4c6e74e323f\",                        [{\"marker\":{\"color\":\"blue\",\"opacity\":0.8,\"size\":5},\"mode\":\"markers\",\"name\":\"C\\u00famulos globulares\",\"x\":[-0.007504567252116091,-6.889990329747477,-1.4773071925275607,9.12626009574548,0.2989712683564586,-73.14564529566027,3.655645807640897,22.787553188855103,-1.2826234280727586,-8.19896450012373,-0.5533656873860623,8.950827954072453,-8.005845215581461,0.011203845454497091,0.5130960198540385,-31.61886339220734,-3.21358629431409,37.10000325750956,-14.067113202519756,0.16754594016952126,10.586671463485715,7.649106136062292,1.4036321412859145,-1.0539624642520355,-4.431691141571542,-2.8363018786355103,-8.087024917221365,-5.179388174627643,-6.993997469749106,5.0968522208986,23.47839781160004,15.832309881623445,-1.797911620393753,-22.69453345613176,-21.795701145880784,-11.120633233849334,-6.632376239680356,-2.342654151314744,-0.26787232008759443,1.980266361265572,4.980014460733703,2.9863469302982235,52.19688155637224,3.5230723392232957,0.05260034986650068,-0.5455031902933765,-1.907318803475647,-1.947125090013981,-6.476959891481563,-3.2516546204074417,-5.659917093024999,-5.156800179918761,-19.7403911431287,-4.691499965962963,-8.422453358028157,-3.542870762050718,-5.397862008067713,-30.74766222237238,-3.7611841708181935,-4.387585170356946,-6.136028517001538,-3.3557940599675424,-0.9386373673150243,0.8650326205514688,3.021917249823376,1.9444737735160287,3.285243666059729,3.5715269029974603,4.842146595564983,9.557172842660558,4.49181418580187,2.8706972201518557,20.33947531747536,6.945364661481558,3.07430130675817,7.12044091159459,5.916838632117816,2.8206962749427213,8.641201279118693,null,5.60183602878886,6.17761879654776,8.167846525952521,8.638361156295794,6.756256059886508,1.2423703480403137,5.262586224840298,16.584465775406585,5.637038284794339,5.1071283847179405,4.990600373793578,4.6258701817473,3.6399480559341693,5.051293718321477,2.4302936852931962,0.525217914764474,-0.7486278472773268,-1.4490038724853334,-1.2482931783754896,-1.4510751725609843,-1.4024872356905371,-1.6932237850629899,-1.9898766656124771,-2.4344877275136256,-1.2119682810928278,-1.0475522088639353,-2.685841083911504,-2.408226839205601,-3.398522336353356,-5.963008780128947,null,-5.626915992156212,-7.477889149703813,-6.815027729744036,-5.168076818523487,-6.651645553936498,-6.133537071848067,-6.058535437635568,-5.661375787070786,-2.0133441066912323,-4.8153983868362245,-2.26730219648521,2.1582227299465417,10.059584757784204,2.9366453958550807,4.735294197118688,6.957963705621786,1.9456676075796868,7.288858073136771,8.17410730655823,17.60485732226894,5.074629794608813,10.902694591672269,-1.173403601292657,-7.7389614790521355,-7.094035209849007,-3.3026120678525306,-15.735857262224693,9.326596685998272,15.361511634844526,24.812641250592208,-9.204804332778673,-11.24515222424372,-6.967719989012881,-13.365618215672196,-24.144264902778612,-23.616342245141585],\"y\":[1.322980935369928,-2.234540325678166,-2.28739669999569,0.15232878706545,1.7286095931300827,24.589584351368757,-75.24967567157893,-2.85096417480893,9.250781037798188,8.01151608449509,8.557132523191186,-63.437338435776766,-29.59394593406456,-3.950468246835155,-0.7691733926356857,83.62173802343708,1.4274221489803087,78.84152014669075,-10.94601886008174,-1.4508283096024943,-7.409425634183112,-4.779691065779267,1.3290899874529298,17.450777124585123,14.783312919447319,1.9589176249932074,-3.466104142178252,-4.217625208507884,-25.018072262041652,-13.66394813664667,9.050735911934707,25.867634867582527,1.7267728361555073,13.152253653058866,-5.975406356245379,-4.109509352508243,-3.0382886604503465,-4.062710907127941,-7.792717471642737,-9.55709023024469,-6.439030880512317,2.636294726550855,46.27134239311853,7.193473029101491,1.9677194008313996,4.583231658544626,8.873232348413069,7.942234739709038,20.534487787025313,5.2049974887625,3.5582072313991593,2.2589816556018194,1.3176422709671938,0.23304326444242798,-3.1218275629361742,-2.4173484663949663,-5.084464001340016,-30.90907956368418,-4.409621722596112,-6.232779080468994,-11.443644823009226,-6.984521526049203,-7.813641267384323,-5.151964877543827,-9.679943430231159,-5.581805934351598,-7.950895710777496,-7.0132968137325005,-7.075087427872933,-10.093187901815098,-4.5055538597491935,-2.3601153220455173,-13.319285508124992,-4.28326666396191,-1.8458579353082745,-2.6013092484698155,-1.9711374829130919,-0.7729784745133181,-1.4799789740427052,null,-0.07455390564835378,0.07075983013288548,0.15148220467614798,0.9088818249016798,1.1677670564610587,0.39365553952735993,2.9036052621340103,10.943231004271208,5.260074067974481,5.1620191244708264,5.598868308071454,6.2074940060017765,5.27640410082669,7.415339061363757,6.397791599328879,8.290362798478323,6.919349088601624,12.117989790199859,10.296511349317027,7.404739205715898,5.895584925834577,6.585723287886186,6.088033514393043,7.442825506266157,2.850031333532172,2.0091178533228664,4.626336739343414,3.474680902392052,4.249643291910249,7.040673839168486,null,4.5271899968305656,2.7429960253303123,0.14498568720026903,-0.1855528782946044,-3.24602158543125,-3.2201796371778384,-3.4478489234018865,-5.487453402575709,-2.122548849853705,-10.624725050760253,-6.996213532546456,-6.261275155746739,-20.215046437154715,-5.854772384574047,-5.020582202341745,-3.2880858350436006,-0.1450150799008381,-0.3811949570114284,2.533241261368863,6.928081692610552,2.115612604698207,21.174563672173274,4.390694655659428,19.583824134633318,10.264214513076954,1.4270300975959653,-6.6147453065997555,-11.841357129135488,5.7415240078739735,30.20069192464013,3.8327674132014216,1.8654049143398008,-2.0474090050507687,-11.185306026749092,8.656785780755225,5.596268990732242],\"z\":[-4.0914135853171905,-3.625584475488655,-7.840623686656258,-13.141087192673021,9.540048482855628,-90.71866905829457,-29.202098641215123,14.007477393844175,-7.849708741887967,-5.229970473490964,-6.231313617253379,51.66117276176872,-23.288512327665224,-8.419244330971411,-4.096962871014485,0.1113899662925256,-3.6939584645197443,48.24691139598198,5.978377477395451,-4.677288271422736,-16.043154275133286,-4.544857383347034,-5.574346295055726,5.73755530448329,4.924811950868613,-3.758727629363378,4.752488828373566,-8.359161186212775,-13.334918810566682,7.929603947067666,-2.634201141270374,-15.146399907888249,-18.2303529690889,-17.07824273905591,-0.0439367408145737,-4.553399758406126,0.265306296763366,-5.7241900398599155,-9.512717741386261,-11.65249207120097,-6.310969599886533,-5.756012693406655,18.635676240180814,-3.395866174069452,-0.9825037215123618,-14.377288125147038,-4.431465070716923,-6.586320006133695,-15.275594976584296,-1.4229347741758909,-3.6144847210220945,4.159857423523587,21.61182029265574,-0.1597463810780449,-3.6614849582010045,-0.30739739007361766,-5.6126029220796205,-0.41239348289642325,-3.361358341027501,-3.7618560986475673,-5.99017088265085,-3.2427003067261535,-3.937762059509011,-2.9510975019366383,-5.423717481833336,5.53827267795164,-3.788196332155244,-2.63588000175557,-3.0506973358582794,-4.4663189803421846,-3.151759784172682,-4.189147065556232,-3.0252896328884065,-4.8647236719505225,-0.31855919061374377,-4.66288659719657,-3.598004672722538,-6.906241872571748,-5.778347747423043,null,-3.2960392627691237,-4.92361849161563,-8.09403090370625,-0.49259553567137915,-3.039625660355417,-1.7724421667602062,-2.960449747560129,1.1005408359188367,-5.019503977006622,-3.3572009502866766,-2.783268146974791,-5.844513942756334,-3.8936278603482832,-6.18927930992445,-3.067887751333292,-8.096544374708087,-3.5216707024292875,-6.441638861511446,-1.6351202323397778,-3.6910998549092424,-3.5035850119552148,-0.03524186559369275,-3.7062432169621675,-1.0428892500450184,-1.630476704375051,-1.0564467905027715,-5.1130486058881175,-2.053542333988213,-3.3690618606415583,-1.1668068300081205,null,-4.482451020347455,-10.274100771832254,-3.9930409706546888,-2.3971967226735362,-3.529724534820133,-4.387501121660328,-3.0276205429859333,-5.118269175427266,-1.2966232637263606,-4.205610059409051,-4.64783142517316,-1.0141538699678354,-13.288967305424228,-2.7400281282921686,-5.131349063965869,0.25540675918145384,-3.3768843905909023,0.13129506623621892,4.977615739746256,-13.079399172862193,1.8472454505318396,-13.94736906853046,-2.7267057834018615,-14.203601919566063,-1.7551538026517681,1.2232492100263468,-6.869347913136065,1.958789319196471,-3.6467605295032786,11.346410949828433,2.149760719605841,-0.16375579117524985,-3.109500686725662,-6.7778447017368295,5.814166513832142,-6.781603965413305],\"type\":\"scatter3d\"},{\"marker\":{\"color\":\"red\",\"opacity\":1,\"size\":12},\"mode\":\"markers\",\"name\":\"Centro estimado de la galaxia\",\"x\":[-0.35661041839612173],\"y\":[0.9352441318412935],\"z\":[-3.5349928267690482],\"type\":\"scatter3d\"},{\"marker\":{\"color\":\"yellow\",\"opacity\":1,\"size\":12},\"mode\":\"markers\",\"name\":\"Sol\",\"x\":[0],\"y\":[0],\"z\":[0],\"type\":\"scatter3d\"}],                        {\"template\":{\"data\":{\"histogram2dcontour\":[{\"type\":\"histogram2dcontour\",\"colorbar\":{\"outlinewidth\":0,\"ticks\":\"\"},\"colorscale\":[[0.0,\"#0d0887\"],[0.1111111111111111,\"#46039f\"],[0.2222222222222222,\"#7201a8\"],[0.3333333333333333,\"#9c179e\"],[0.4444444444444444,\"#bd3786\"],[0.5555555555555556,\"#d8576b\"],[0.6666666666666666,\"#ed7953\"],[0.7777777777777778,\"#fb9f3a\"],[0.8888888888888888,\"#fdca26\"],[1.0,\"#f0f921\"]]}],\"choropleth\":[{\"type\":\"choropleth\",\"colorbar\":{\"outlinewidth\":0,\"ticks\":\"\"}}],\"histogram2d\":[{\"type\":\"histogram2d\",\"colorbar\":{\"outlinewidth\":0,\"ticks\":\"\"},\"colorscale\":[[0.0,\"#0d0887\"],[0.1111111111111111,\"#46039f\"],[0.2222222222222222,\"#7201a8\"],[0.3333333333333333,\"#9c179e\"],[0.4444444444444444,\"#bd3786\"],[0.5555555555555556,\"#d8576b\"],[0.6666666666666666,\"#ed7953\"],[0.7777777777777778,\"#fb9f3a\"],[0.8888888888888888,\"#fdca26\"],[1.0,\"#f0f921\"]]}],\"heatmap\":[{\"type\":\"heatmap\",\"colorbar\":{\"outlinewidth\":0,\"ticks\":\"\"},\"colorscale\":[[0.0,\"#0d0887\"],[0.1111111111111111,\"#46039f\"],[0.2222222222222222,\"#7201a8\"],[0.3333333333333333,\"#9c179e\"],[0.4444444444444444,\"#bd3786\"],[0.5555555555555556,\"#d8576b\"],[0.6666666666666666,\"#ed7953\"],[0.7777777777777778,\"#fb9f3a\"],[0.8888888888888888,\"#fdca26\"],[1.0,\"#f0f921\"]]}],\"heatmapgl\":[{\"type\":\"heatmapgl\",\"colorbar\":{\"outlinewidth\":0,\"ticks\":\"\"},\"colorscale\":[[0.0,\"#0d0887\"],[0.1111111111111111,\"#46039f\"],[0.2222222222222222,\"#7201a8\"],[0.3333333333333333,\"#9c179e\"],[0.4444444444444444,\"#bd3786\"],[0.5555555555555556,\"#d8576b\"],[0.6666666666666666,\"#ed7953\"],[0.7777777777777778,\"#fb9f3a\"],[0.8888888888888888,\"#fdca26\"],[1.0,\"#f0f921\"]]}],\"contourcarpet\":[{\"type\":\"contourcarpet\",\"colorbar\":{\"outlinewidth\":0,\"ticks\":\"\"}}],\"contour\":[{\"type\":\"contour\",\"colorbar\":{\"outlinewidth\":0,\"ticks\":\"\"},\"colorscale\":[[0.0,\"#0d0887\"],[0.1111111111111111,\"#46039f\"],[0.2222222222222222,\"#7201a8\"],[0.3333333333333333,\"#9c179e\"],[0.4444444444444444,\"#bd3786\"],[0.5555555555555556,\"#d8576b\"],[0.6666666666666666,\"#ed7953\"],[0.7777777777777778,\"#fb9f3a\"],[0.8888888888888888,\"#fdca26\"],[1.0,\"#f0f921\"]]}],\"surface\":[{\"type\":\"surface\",\"colorbar\":{\"outlinewidth\":0,\"ticks\":\"\"},\"colorscale\":[[0.0,\"#0d0887\"],[0.1111111111111111,\"#46039f\"],[0.2222222222222222,\"#7201a8\"],[0.3333333333333333,\"#9c179e\"],[0.4444444444444444,\"#bd3786\"],[0.5555555555555556,\"#d8576b\"],[0.6666666666666666,\"#ed7953\"],[0.7777777777777778,\"#fb9f3a\"],[0.8888888888888888,\"#fdca26\"],[1.0,\"#f0f921\"]]}],\"mesh3d\":[{\"type\":\"mesh3d\",\"colorbar\":{\"outlinewidth\":0,\"ticks\":\"\"}}],\"scatter\":[{\"fillpattern\":{\"fillmode\":\"overlay\",\"size\":10,\"solidity\":0.2},\"type\":\"scatter\"}],\"parcoords\":[{\"type\":\"parcoords\",\"line\":{\"colorbar\":{\"outlinewidth\":0,\"ticks\":\"\"}}}],\"scatterpolargl\":[{\"type\":\"scatterpolargl\",\"marker\":{\"colorbar\":{\"outlinewidth\":0,\"ticks\":\"\"}}}],\"bar\":[{\"error_x\":{\"color\":\"#2a3f5f\"},\"error_y\":{\"color\":\"#2a3f5f\"},\"marker\":{\"line\":{\"color\":\"#E5ECF6\",\"width\":0.5},\"pattern\":{\"fillmode\":\"overlay\",\"size\":10,\"solidity\":0.2}},\"type\":\"bar\"}],\"scattergeo\":[{\"type\":\"scattergeo\",\"marker\":{\"colorbar\":{\"outlinewidth\":0,\"ticks\":\"\"}}}],\"scatterpolar\":[{\"type\":\"scatterpolar\",\"marker\":{\"colorbar\":{\"outlinewidth\":0,\"ticks\":\"\"}}}],\"histogram\":[{\"marker\":{\"pattern\":{\"fillmode\":\"overlay\",\"size\":10,\"solidity\":0.2}},\"type\":\"histogram\"}],\"scattergl\":[{\"type\":\"scattergl\",\"marker\":{\"colorbar\":{\"outlinewidth\":0,\"ticks\":\"\"}}}],\"scatter3d\":[{\"type\":\"scatter3d\",\"line\":{\"colorbar\":{\"outlinewidth\":0,\"ticks\":\"\"}},\"marker\":{\"colorbar\":{\"outlinewidth\":0,\"ticks\":\"\"}}}],\"scattermapbox\":[{\"type\":\"scattermapbox\",\"marker\":{\"colorbar\":{\"outlinewidth\":0,\"ticks\":\"\"}}}],\"scatterternary\":[{\"type\":\"scatterternary\",\"marker\":{\"colorbar\":{\"outlinewidth\":0,\"ticks\":\"\"}}}],\"scattercarpet\":[{\"type\":\"scattercarpet\",\"marker\":{\"colorbar\":{\"outlinewidth\":0,\"ticks\":\"\"}}}],\"carpet\":[{\"aaxis\":{\"endlinecolor\":\"#2a3f5f\",\"gridcolor\":\"white\",\"linecolor\":\"white\",\"minorgridcolor\":\"white\",\"startlinecolor\":\"#2a3f5f\"},\"baxis\":{\"endlinecolor\":\"#2a3f5f\",\"gridcolor\":\"white\",\"linecolor\":\"white\",\"minorgridcolor\":\"white\",\"startlinecolor\":\"#2a3f5f\"},\"type\":\"carpet\"}],\"table\":[{\"cells\":{\"fill\":{\"color\":\"#EBF0F8\"},\"line\":{\"color\":\"white\"}},\"header\":{\"fill\":{\"color\":\"#C8D4E3\"},\"line\":{\"color\":\"white\"}},\"type\":\"table\"}],\"barpolar\":[{\"marker\":{\"line\":{\"color\":\"#E5ECF6\",\"width\":0.5},\"pattern\":{\"fillmode\":\"overlay\",\"size\":10,\"solidity\":0.2}},\"type\":\"barpolar\"}],\"pie\":[{\"automargin\":true,\"type\":\"pie\"}]},\"layout\":{\"autotypenumbers\":\"strict\",\"colorway\":[\"#636efa\",\"#EF553B\",\"#00cc96\",\"#ab63fa\",\"#FFA15A\",\"#19d3f3\",\"#FF6692\",\"#B6E880\",\"#FF97FF\",\"#FECB52\"],\"font\":{\"color\":\"#2a3f5f\"},\"hovermode\":\"closest\",\"hoverlabel\":{\"align\":\"left\"},\"paper_bgcolor\":\"white\",\"plot_bgcolor\":\"#E5ECF6\",\"polar\":{\"bgcolor\":\"#E5ECF6\",\"angularaxis\":{\"gridcolor\":\"white\",\"linecolor\":\"white\",\"ticks\":\"\"},\"radialaxis\":{\"gridcolor\":\"white\",\"linecolor\":\"white\",\"ticks\":\"\"}},\"ternary\":{\"bgcolor\":\"#E5ECF6\",\"aaxis\":{\"gridcolor\":\"white\",\"linecolor\":\"white\",\"ticks\":\"\"},\"baxis\":{\"gridcolor\":\"white\",\"linecolor\":\"white\",\"ticks\":\"\"},\"caxis\":{\"gridcolor\":\"white\",\"linecolor\":\"white\",\"ticks\":\"\"}},\"coloraxis\":{\"colorbar\":{\"outlinewidth\":0,\"ticks\":\"\"}},\"colorscale\":{\"sequential\":[[0.0,\"#0d0887\"],[0.1111111111111111,\"#46039f\"],[0.2222222222222222,\"#7201a8\"],[0.3333333333333333,\"#9c179e\"],[0.4444444444444444,\"#bd3786\"],[0.5555555555555556,\"#d8576b\"],[0.6666666666666666,\"#ed7953\"],[0.7777777777777778,\"#fb9f3a\"],[0.8888888888888888,\"#fdca26\"],[1.0,\"#f0f921\"]],\"sequentialminus\":[[0.0,\"#0d0887\"],[0.1111111111111111,\"#46039f\"],[0.2222222222222222,\"#7201a8\"],[0.3333333333333333,\"#9c179e\"],[0.4444444444444444,\"#bd3786\"],[0.5555555555555556,\"#d8576b\"],[0.6666666666666666,\"#ed7953\"],[0.7777777777777778,\"#fb9f3a\"],[0.8888888888888888,\"#fdca26\"],[1.0,\"#f0f921\"]],\"diverging\":[[0,\"#8e0152\"],[0.1,\"#c51b7d\"],[0.2,\"#de77ae\"],[0.3,\"#f1b6da\"],[0.4,\"#fde0ef\"],[0.5,\"#f7f7f7\"],[0.6,\"#e6f5d0\"],[0.7,\"#b8e186\"],[0.8,\"#7fbc41\"],[0.9,\"#4d9221\"],[1,\"#276419\"]]},\"xaxis\":{\"gridcolor\":\"white\",\"linecolor\":\"white\",\"ticks\":\"\",\"title\":{\"standoff\":15},\"zerolinecolor\":\"white\",\"automargin\":true,\"zerolinewidth\":2},\"yaxis\":{\"gridcolor\":\"white\",\"linecolor\":\"white\",\"ticks\":\"\",\"title\":{\"standoff\":15},\"zerolinecolor\":\"white\",\"automargin\":true,\"zerolinewidth\":2},\"scene\":{\"xaxis\":{\"backgroundcolor\":\"#E5ECF6\",\"gridcolor\":\"white\",\"linecolor\":\"white\",\"showbackground\":true,\"ticks\":\"\",\"zerolinecolor\":\"white\",\"gridwidth\":2},\"yaxis\":{\"backgroundcolor\":\"#E5ECF6\",\"gridcolor\":\"white\",\"linecolor\":\"white\",\"showbackground\":true,\"ticks\":\"\",\"zerolinecolor\":\"white\",\"gridwidth\":2},\"zaxis\":{\"backgroundcolor\":\"#E5ECF6\",\"gridcolor\":\"white\",\"linecolor\":\"white\",\"showbackground\":true,\"ticks\":\"\",\"zerolinecolor\":\"white\",\"gridwidth\":2}},\"shapedefaults\":{\"line\":{\"color\":\"#2a3f5f\"}},\"annotationdefaults\":{\"arrowcolor\":\"#2a3f5f\",\"arrowhead\":0,\"arrowwidth\":1},\"geo\":{\"bgcolor\":\"white\",\"landcolor\":\"#E5ECF6\",\"subunitcolor\":\"white\",\"showland\":true,\"showlakes\":true,\"lakecolor\":\"white\"},\"title\":{\"x\":0.05},\"mapbox\":{\"style\":\"light\"}}},\"margin\":{\"l\":0,\"r\":0,\"b\":0,\"t\":0},\"scene\":{\"xaxis\":{\"title\":{\"text\":\"X (kpc)\"}},\"yaxis\":{\"title\":{\"text\":\"Y (kpc)\"}},\"zaxis\":{\"title\":{\"text\":\"Z (kpc)\"}}},\"title\":{\"text\":\"Distribuci\\u00f3n de c\\u00famulos globulares en relaci\\u00f3n con el Sol y el centro de la galaxia\"}},                        {\"responsive\": true}                    ).then(function(){\n",
       "                            \n",
       "var gd = document.getElementById('e2d061be-8a47-4106-8084-e4c6e74e323f');\n",
       "var x = new MutationObserver(function (mutations, observer) {{\n",
       "        var display = window.getComputedStyle(gd).display;\n",
       "        if (!display || display === 'none') {{\n",
       "            console.log([gd, 'removed!']);\n",
       "            Plotly.purge(gd);\n",
       "            observer.disconnect();\n",
       "        }}\n",
       "}});\n",
       "\n",
       "// Listen for the removal of the full notebook cells\n",
       "var notebookContainer = gd.closest('#notebook-container');\n",
       "if (notebookContainer) {{\n",
       "    x.observe(notebookContainer, {childList: true});\n",
       "}}\n",
       "\n",
       "// Listen for the clearing of the current output cell\n",
       "var outputEl = gd.closest('.output');\n",
       "if (outputEl) {{\n",
       "    x.observe(outputEl, {childList: true});\n",
       "}}\n",
       "\n",
       "                        })                };                });            </script>        </div>"
      ]
     },
     "metadata": {},
     "output_type": "display_data"
    }
   ],
   "source": [
    "import plotly.graph_objects as go\n",
    "\n",
    "# Create a 3D scatter plot\n",
    "fig = go.Figure()\n",
    "\n",
    "# Plot the cúmulos\n",
    "fig.add_trace(go.Scatter3d(\n",
    "    x=data['x'], y=data['y'], z=data['z'],\n",
    "    mode='markers',\n",
    "    marker=dict(size=5, color='blue', opacity=0.8),\n",
    "    name='Cúmulos globulares'\n",
    "))\n",
    "\n",
    "# Plot the centro estimado de la galaxia\n",
    "fig.add_trace(go.Scatter3d(\n",
    "    x=[x_avg], y=[y_avg], z=[z_avg],\n",
    "    mode='markers',\n",
    "    marker=dict(size=12, color='red', opacity=1),  # Increased size for emphasis\n",
    "    name='Centro estimado de la galaxia'\n",
    "))\n",
    "\n",
    "# Plot the Sol\n",
    "fig.add_trace(go.Scatter3d(\n",
    "    x=[0], y=[0], z=[0],\n",
    "    mode='markers',\n",
    "    marker=dict(size=12, color='yellow', opacity=1),  # Increased size for emphasis\n",
    "    name='Sol'\n",
    "))\n",
    "\n",
    "# Adjust layout and labels\n",
    "fig.update_layout(\n",
    "    margin=dict(l=0, r=0, b=0, t=0),\n",
    "    scene=dict(\n",
    "        xaxis_title='X (kpc)',\n",
    "        yaxis_title='Y (kpc)',\n",
    "        zaxis_title='Z (kpc)'\n",
    "    ),\n",
    "    title='Distribución de cúmulos globulares en relación con el Sol y el centro de la galaxia'\n",
    ")\n",
    "\n",
    "# Show the plot\n",
    "fig.show()\n"
   ]
  },
  {
   "cell_type": "code",
   "execution_count": null,
   "metadata": {},
   "outputs": [],
   "source": []
  }
 ],
 "metadata": {
  "kernelspec": {
   "display_name": "Python 3 (ipykernel)",
   "language": "python",
   "name": "python3"
  },
  "language_info": {
   "codemirror_mode": {
    "name": "ipython",
    "version": 3
   },
   "file_extension": ".py",
   "mimetype": "text/x-python",
   "name": "python",
   "nbconvert_exporter": "python",
   "pygments_lexer": "ipython3",
   "version": "3.9.8"
  }
 },
 "nbformat": 4,
 "nbformat_minor": 1
}
