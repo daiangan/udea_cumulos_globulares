{
 "cells": [
  {
   "cell_type": "code",
   "execution_count": 44,
   "metadata": {
    "collapsed": true
   },
   "outputs": [],
   "source": [
    "# !pip install pandas"
   ]
  },
  {
   "cell_type": "code",
   "execution_count": 45,
   "outputs": [
    {
     "data": {
      "text/plain": "    _RAJ2000   _DEJ2000         ID     RAJ2000    DEJ2000    GLON   GLAT  \\\n0   6.021667 -72.080833  NGC 104    00 24 05.2  -72 04 51  305.90 -44.89   \n1  13.197917 -26.590000  NGC 288    00 52 47.5  -26 35 24  152.28 -89.38   \n2  15.809583 -70.848333  NGC 362    01 03 14.3  -70 50 54  301.53 -46.25   \n3  48.063750 -55.216944  NGC 1261   03 12 15.3  -55 13 01  270.54 -52.13   \n4  53.345833  79.580556  Pal 1      03 33 23.0  +79 34 50  130.07  19.03   \n\n    Rsun    Rgc     Vt [Fe/H]   SpT      c    Rh  \n0    4.3    7.3   3.95  -0.76  G4     2.04  2.79  \n1    8.1   11.4   8.09  -1.24         0.96  2.22  \n2    8.3    9.2   6.40  -1.16  F9     1.94  0.81  \n3   16.0   17.9   8.29  -1.35  F7     1.27  0.75  \n4    9.7   15.9  13.52  -0.80         1.50  0.48  ",
      "text/html": "<div>\n<style scoped>\n    .dataframe tbody tr th:only-of-type {\n        vertical-align: middle;\n    }\n\n    .dataframe tbody tr th {\n        vertical-align: top;\n    }\n\n    .dataframe thead th {\n        text-align: right;\n    }\n</style>\n<table border=\"1\" class=\"dataframe\">\n  <thead>\n    <tr style=\"text-align: right;\">\n      <th></th>\n      <th>_RAJ2000</th>\n      <th>_DEJ2000</th>\n      <th>ID</th>\n      <th>RAJ2000</th>\n      <th>DEJ2000</th>\n      <th>GLON</th>\n      <th>GLAT</th>\n      <th>Rsun</th>\n      <th>Rgc</th>\n      <th>Vt</th>\n      <th>[Fe/H]</th>\n      <th>SpT</th>\n      <th>c</th>\n      <th>Rh</th>\n    </tr>\n  </thead>\n  <tbody>\n    <tr>\n      <th>0</th>\n      <td>6.021667</td>\n      <td>-72.080833</td>\n      <td>NGC 104</td>\n      <td>00 24 05.2</td>\n      <td>-72 04 51</td>\n      <td>305.90</td>\n      <td>-44.89</td>\n      <td>4.3</td>\n      <td>7.3</td>\n      <td>3.95</td>\n      <td>-0.76</td>\n      <td>G4</td>\n      <td>2.04</td>\n      <td>2.79</td>\n    </tr>\n    <tr>\n      <th>1</th>\n      <td>13.197917</td>\n      <td>-26.590000</td>\n      <td>NGC 288</td>\n      <td>00 52 47.5</td>\n      <td>-26 35 24</td>\n      <td>152.28</td>\n      <td>-89.38</td>\n      <td>8.1</td>\n      <td>11.4</td>\n      <td>8.09</td>\n      <td>-1.24</td>\n      <td></td>\n      <td>0.96</td>\n      <td>2.22</td>\n    </tr>\n    <tr>\n      <th>2</th>\n      <td>15.809583</td>\n      <td>-70.848333</td>\n      <td>NGC 362</td>\n      <td>01 03 14.3</td>\n      <td>-70 50 54</td>\n      <td>301.53</td>\n      <td>-46.25</td>\n      <td>8.3</td>\n      <td>9.2</td>\n      <td>6.40</td>\n      <td>-1.16</td>\n      <td>F9</td>\n      <td>1.94</td>\n      <td>0.81</td>\n    </tr>\n    <tr>\n      <th>3</th>\n      <td>48.063750</td>\n      <td>-55.216944</td>\n      <td>NGC 1261</td>\n      <td>03 12 15.3</td>\n      <td>-55 13 01</td>\n      <td>270.54</td>\n      <td>-52.13</td>\n      <td>16.0</td>\n      <td>17.9</td>\n      <td>8.29</td>\n      <td>-1.35</td>\n      <td>F7</td>\n      <td>1.27</td>\n      <td>0.75</td>\n    </tr>\n    <tr>\n      <th>4</th>\n      <td>53.345833</td>\n      <td>79.580556</td>\n      <td>Pal 1</td>\n      <td>03 33 23.0</td>\n      <td>+79 34 50</td>\n      <td>130.07</td>\n      <td>19.03</td>\n      <td>9.7</td>\n      <td>15.9</td>\n      <td>13.52</td>\n      <td>-0.80</td>\n      <td></td>\n      <td>1.50</td>\n      <td>0.48</td>\n    </tr>\n  </tbody>\n</table>\n</div>"
     },
     "execution_count": 45,
     "metadata": {},
     "output_type": "execute_result"
    }
   ],
   "source": [
    "import pandas as pd\n",
    "import numpy as np\n",
    "\n",
    "# Importar los datos\n",
    "data = pd.read_csv(\"files/ViZieR_cum_glob.tsv\", delimiter=\"|\")\n",
    "\n",
    "# Filtrar los datos sin distancia al sol\n",
    "data = data.dropna(subset=['Rsun'])\n",
    "\n",
    "data.head()"
   ],
   "metadata": {
    "collapsed": false
   }
  },
  {
   "cell_type": "code",
   "execution_count": 46,
   "outputs": [
    {
     "data": {
      "text/plain": "_RAJ2000    float64\n_DEJ2000    float64\nID           object\nRAJ2000      object\nDEJ2000      object\nGLON        float64\nGLAT        float64\nRsun         object\nRgc          object\nVt           object\n[Fe/H]       object\nSpT          object\nc            object\nRh          float64\ndtype: object"
     },
     "execution_count": 46,
     "metadata": {},
     "output_type": "execute_result"
    }
   ],
   "source": [
    "# Chequear los tipos de datos\n",
    "data.dtypes"
   ],
   "metadata": {
    "collapsed": false
   }
  },
  {
   "cell_type": "code",
   "execution_count": 47,
   "outputs": [],
   "source": [
    "# Convertir Rsun en un valor numérico para poder calcular\n",
    "data['Rsun'] = pd.to_numeric(data['Rsun'], errors='coerce')"
   ],
   "metadata": {
    "collapsed": false
   }
  },
  {
   "cell_type": "code",
   "execution_count": 60,
   "outputs": [],
   "source": [
    "# Calcular las coordenadas usando radianes\n",
    "data['x'] = data['Rsun'] * np.cos(np.radians(data['_RAJ2000']*15)) * np.cos(np.radians(data['_DEJ2000']))\n",
    "data['y'] = data['Rsun'] * np.sin(np.radians(data['_RAJ2000']*15)) * np.cos(np.radians(data['_DEJ2000']))\n",
    "data['z'] = data['Rsun'] * np.sin(np.radians(data['_DEJ2000']))"
   ],
   "metadata": {
    "collapsed": false
   }
  },
  {
   "cell_type": "code",
   "execution_count": 49,
   "outputs": [
    {
     "data": {
      "text/plain": "    _RAJ2000   _DEJ2000         ID     RAJ2000    DEJ2000    GLON   GLAT  \\\n0   6.021667 -72.080833  NGC 104    00 24 05.2  -72 04 51  305.90 -44.89   \n1  13.197917 -26.590000  NGC 288    00 52 47.5  -26 35 24  152.28 -89.38   \n2  15.809583 -70.848333  NGC 362    01 03 14.3  -70 50 54  301.53 -46.25   \n3  48.063750 -55.216944  NGC 1261   03 12 15.3  -55 13 01  270.54 -52.13   \n4  53.345833  79.580556  Pal 1      03 33 23.0  +79 34 50  130.07  19.03   \n\n   Rsun    Rgc     Vt [Fe/H]   SpT      c    Rh         x         y          z  \n0   4.3    7.3   3.95  -0.76  G4     2.04  2.79 -0.007505  1.322981  -4.091414  \n1   8.1   11.4   8.09  -1.24         0.96  2.22 -6.889990 -2.234540  -3.625584  \n2   8.3    9.2   6.40  -1.16  F9     1.94  0.81 -1.477307 -2.287397  -7.840624  \n3  16.0   17.9   8.29  -1.35  F7     1.27  0.75  9.126260  0.152329 -13.141087  \n4   9.7   15.9  13.52  -0.80         1.50  0.48  0.298971  1.728610   9.540048  ",
      "text/html": "<div>\n<style scoped>\n    .dataframe tbody tr th:only-of-type {\n        vertical-align: middle;\n    }\n\n    .dataframe tbody tr th {\n        vertical-align: top;\n    }\n\n    .dataframe thead th {\n        text-align: right;\n    }\n</style>\n<table border=\"1\" class=\"dataframe\">\n  <thead>\n    <tr style=\"text-align: right;\">\n      <th></th>\n      <th>_RAJ2000</th>\n      <th>_DEJ2000</th>\n      <th>ID</th>\n      <th>RAJ2000</th>\n      <th>DEJ2000</th>\n      <th>GLON</th>\n      <th>GLAT</th>\n      <th>Rsun</th>\n      <th>Rgc</th>\n      <th>Vt</th>\n      <th>[Fe/H]</th>\n      <th>SpT</th>\n      <th>c</th>\n      <th>Rh</th>\n      <th>x</th>\n      <th>y</th>\n      <th>z</th>\n    </tr>\n  </thead>\n  <tbody>\n    <tr>\n      <th>0</th>\n      <td>6.021667</td>\n      <td>-72.080833</td>\n      <td>NGC 104</td>\n      <td>00 24 05.2</td>\n      <td>-72 04 51</td>\n      <td>305.90</td>\n      <td>-44.89</td>\n      <td>4.3</td>\n      <td>7.3</td>\n      <td>3.95</td>\n      <td>-0.76</td>\n      <td>G4</td>\n      <td>2.04</td>\n      <td>2.79</td>\n      <td>-0.007505</td>\n      <td>1.322981</td>\n      <td>-4.091414</td>\n    </tr>\n    <tr>\n      <th>1</th>\n      <td>13.197917</td>\n      <td>-26.590000</td>\n      <td>NGC 288</td>\n      <td>00 52 47.5</td>\n      <td>-26 35 24</td>\n      <td>152.28</td>\n      <td>-89.38</td>\n      <td>8.1</td>\n      <td>11.4</td>\n      <td>8.09</td>\n      <td>-1.24</td>\n      <td></td>\n      <td>0.96</td>\n      <td>2.22</td>\n      <td>-6.889990</td>\n      <td>-2.234540</td>\n      <td>-3.625584</td>\n    </tr>\n    <tr>\n      <th>2</th>\n      <td>15.809583</td>\n      <td>-70.848333</td>\n      <td>NGC 362</td>\n      <td>01 03 14.3</td>\n      <td>-70 50 54</td>\n      <td>301.53</td>\n      <td>-46.25</td>\n      <td>8.3</td>\n      <td>9.2</td>\n      <td>6.40</td>\n      <td>-1.16</td>\n      <td>F9</td>\n      <td>1.94</td>\n      <td>0.81</td>\n      <td>-1.477307</td>\n      <td>-2.287397</td>\n      <td>-7.840624</td>\n    </tr>\n    <tr>\n      <th>3</th>\n      <td>48.063750</td>\n      <td>-55.216944</td>\n      <td>NGC 1261</td>\n      <td>03 12 15.3</td>\n      <td>-55 13 01</td>\n      <td>270.54</td>\n      <td>-52.13</td>\n      <td>16.0</td>\n      <td>17.9</td>\n      <td>8.29</td>\n      <td>-1.35</td>\n      <td>F7</td>\n      <td>1.27</td>\n      <td>0.75</td>\n      <td>9.126260</td>\n      <td>0.152329</td>\n      <td>-13.141087</td>\n    </tr>\n    <tr>\n      <th>4</th>\n      <td>53.345833</td>\n      <td>79.580556</td>\n      <td>Pal 1</td>\n      <td>03 33 23.0</td>\n      <td>+79 34 50</td>\n      <td>130.07</td>\n      <td>19.03</td>\n      <td>9.7</td>\n      <td>15.9</td>\n      <td>13.52</td>\n      <td>-0.80</td>\n      <td></td>\n      <td>1.50</td>\n      <td>0.48</td>\n      <td>0.298971</td>\n      <td>1.728610</td>\n      <td>9.540048</td>\n    </tr>\n  </tbody>\n</table>\n</div>"
     },
     "execution_count": 49,
     "metadata": {},
     "output_type": "execute_result"
    }
   ],
   "source": [
    "data.head()"
   ],
   "metadata": {
    "collapsed": false
   }
  },
  {
   "cell_type": "code",
   "execution_count": 50,
   "outputs": [],
   "source": [
    "# Calcular la posición promedio del centro\n",
    "x_avg = data['x'].mean()\n",
    "y_avg = data['y'].mean()\n",
    "z_avg = data['z'].mean()"
   ],
   "metadata": {
    "collapsed": false
   }
  },
  {
   "cell_type": "code",
   "execution_count": 51,
   "outputs": [
    {
     "data": {
      "text/plain": "(-0.35661041839612173, 0.9352441318412935, -3.5349928267690482)"
     },
     "execution_count": 51,
     "metadata": {},
     "output_type": "execute_result"
    }
   ],
   "source": [
    "x_avg, y_avg, z_avg"
   ],
   "metadata": {
    "collapsed": false
   }
  },
  {
   "cell_type": "code",
   "execution_count": 52,
   "outputs": [
    {
     "data": {
      "text/plain": "3.6739660942856913"
     },
     "execution_count": 52,
     "metadata": {},
     "output_type": "execute_result"
    }
   ],
   "source": [
    "# Distancia al centro\n",
    "center_distance = np.sqrt(x_avg**2 + y_avg**2 + z_avg**2)\n",
    "center_distance"
   ],
   "metadata": {
    "collapsed": false
   }
  },
  {
   "cell_type": "code",
   "execution_count": 53,
   "outputs": [],
   "source": [
    "# RA y DEC de una estrella en Sagitario.\n",
    "# Por ejemplo Alnasl (Gamma Sagittarii)\n",
    "# RA=18h, DEC=-30°\n",
    "# https://en.wikipedia.org/wiki/Gamma2_Sagittarii\n",
    "RA_star = 18 * 15  # Convertir a grados\n",
    "DE_star = -30\n",
    "\n",
    "RA_star_rad = np.deg2rad(RA_star)\n",
    "DE_star_rad = np.deg2rad(DE_star)\n",
    "\n",
    "x_star = center_distance * np.cos(RA_star_rad) * np.cos(DE_star_rad)\n",
    "y_star = center_distance * np.sin(RA_star_rad) * np.cos(DE_star_rad)\n",
    "z_star = center_distance * np.sin(DE_star_rad)"
   ],
   "metadata": {
    "collapsed": false
   }
  },
  {
   "cell_type": "code",
   "execution_count": 54,
   "outputs": [
    {
     "name": "stdout",
     "output_type": "stream",
     "text": [
      "Posición de Alnasl (Gamma Sagittarii) en Sagitario: (-5.844776201271391e-16, -3.181747970294103, -1.8369830471428454)\n"
     ]
    }
   ],
   "source": [
    "print(f\"Posición de Alnasl (Gamma Sagittarii) en Sagitario: {x_star, y_star, z_star}\")"
   ],
   "metadata": {
    "collapsed": false
   }
  },
  {
   "cell_type": "code",
   "execution_count": null,
   "outputs": [],
   "source": [
    "\"\"\"\n",
    "No parece estar muy cerca del centro de la galaxia.\n",
    "Aunque la constelación de Sagitario apunta hacia la dirección del centro galáctico,\n",
    "asumo que las estrellas individuales en la constelación pueden estar dispersas en una amplia área del cielo.\n",
    "Alnasl es solo una de las estrellas en Sagitario y su posición puede estar más cerca o más lejos y\n",
    "aparentar estar en el mismo centro desde nuestra perspectiva.\n",
    "\"\"\""
   ],
   "metadata": {
    "collapsed": false,
    "pycharm": {
     "is_executing": true
    }
   }
  },
  {
   "cell_type": "code",
   "execution_count": 61,
   "outputs": [],
   "source": [
    "# Radio del cúmulo en parsecs\n",
    "# Suponiendo que Rh está en minutos de arco\n",
    "data['radio_parsecs'] = data['Rsun'] * np.tan(np.deg2rad(data['Rh'] / 60))\n",
    "radio_promedio = data['radio_parsecs'].mean()"
   ],
   "metadata": {
    "collapsed": false
   }
  },
  {
   "cell_type": "code",
   "execution_count": 57,
   "outputs": [
    {
     "data": {
      "text/plain": "    _RAJ2000   _DEJ2000         ID     RAJ2000    DEJ2000    GLON   GLAT  \\\n0   6.021667 -72.080833  NGC 104    00 24 05.2  -72 04 51  305.90 -44.89   \n1  13.197917 -26.590000  NGC 288    00 52 47.5  -26 35 24  152.28 -89.38   \n2  15.809583 -70.848333  NGC 362    01 03 14.3  -70 50 54  301.53 -46.25   \n3  48.063750 -55.216944  NGC 1261   03 12 15.3  -55 13 01  270.54 -52.13   \n4  53.345833  79.580556  Pal 1      03 33 23.0  +79 34 50  130.07  19.03   \n\n   Rsun    Rgc     Vt [Fe/H]   SpT      c    Rh         x         y  \\\n0   4.3    7.3   3.95  -0.76  G4     2.04  2.79 -0.007505  1.322981   \n1   8.1   11.4   8.09  -1.24         0.96  2.22 -6.889990 -2.234540   \n2   8.3    9.2   6.40  -1.16  F9     1.94  0.81 -1.477307 -2.287397   \n3  16.0   17.9   8.29  -1.35  F7     1.27  0.75  9.126260  0.152329   \n4   9.7   15.9  13.52  -0.80         1.50  0.48  0.298971  1.728610   \n\n           z  radio_parsecs  \n0  -4.091414       0.003490  \n1  -3.625584       0.005231  \n2  -7.840624       0.001956  \n3 -13.141087       0.003491  \n4   9.540048       0.001354  ",
      "text/html": "<div>\n<style scoped>\n    .dataframe tbody tr th:only-of-type {\n        vertical-align: middle;\n    }\n\n    .dataframe tbody tr th {\n        vertical-align: top;\n    }\n\n    .dataframe thead th {\n        text-align: right;\n    }\n</style>\n<table border=\"1\" class=\"dataframe\">\n  <thead>\n    <tr style=\"text-align: right;\">\n      <th></th>\n      <th>_RAJ2000</th>\n      <th>_DEJ2000</th>\n      <th>ID</th>\n      <th>RAJ2000</th>\n      <th>DEJ2000</th>\n      <th>GLON</th>\n      <th>GLAT</th>\n      <th>Rsun</th>\n      <th>Rgc</th>\n      <th>Vt</th>\n      <th>[Fe/H]</th>\n      <th>SpT</th>\n      <th>c</th>\n      <th>Rh</th>\n      <th>x</th>\n      <th>y</th>\n      <th>z</th>\n      <th>radio_parsecs</th>\n    </tr>\n  </thead>\n  <tbody>\n    <tr>\n      <th>0</th>\n      <td>6.021667</td>\n      <td>-72.080833</td>\n      <td>NGC 104</td>\n      <td>00 24 05.2</td>\n      <td>-72 04 51</td>\n      <td>305.90</td>\n      <td>-44.89</td>\n      <td>4.3</td>\n      <td>7.3</td>\n      <td>3.95</td>\n      <td>-0.76</td>\n      <td>G4</td>\n      <td>2.04</td>\n      <td>2.79</td>\n      <td>-0.007505</td>\n      <td>1.322981</td>\n      <td>-4.091414</td>\n      <td>0.003490</td>\n    </tr>\n    <tr>\n      <th>1</th>\n      <td>13.197917</td>\n      <td>-26.590000</td>\n      <td>NGC 288</td>\n      <td>00 52 47.5</td>\n      <td>-26 35 24</td>\n      <td>152.28</td>\n      <td>-89.38</td>\n      <td>8.1</td>\n      <td>11.4</td>\n      <td>8.09</td>\n      <td>-1.24</td>\n      <td></td>\n      <td>0.96</td>\n      <td>2.22</td>\n      <td>-6.889990</td>\n      <td>-2.234540</td>\n      <td>-3.625584</td>\n      <td>0.005231</td>\n    </tr>\n    <tr>\n      <th>2</th>\n      <td>15.809583</td>\n      <td>-70.848333</td>\n      <td>NGC 362</td>\n      <td>01 03 14.3</td>\n      <td>-70 50 54</td>\n      <td>301.53</td>\n      <td>-46.25</td>\n      <td>8.3</td>\n      <td>9.2</td>\n      <td>6.40</td>\n      <td>-1.16</td>\n      <td>F9</td>\n      <td>1.94</td>\n      <td>0.81</td>\n      <td>-1.477307</td>\n      <td>-2.287397</td>\n      <td>-7.840624</td>\n      <td>0.001956</td>\n    </tr>\n    <tr>\n      <th>3</th>\n      <td>48.063750</td>\n      <td>-55.216944</td>\n      <td>NGC 1261</td>\n      <td>03 12 15.3</td>\n      <td>-55 13 01</td>\n      <td>270.54</td>\n      <td>-52.13</td>\n      <td>16.0</td>\n      <td>17.9</td>\n      <td>8.29</td>\n      <td>-1.35</td>\n      <td>F7</td>\n      <td>1.27</td>\n      <td>0.75</td>\n      <td>9.126260</td>\n      <td>0.152329</td>\n      <td>-13.141087</td>\n      <td>0.003491</td>\n    </tr>\n    <tr>\n      <th>4</th>\n      <td>53.345833</td>\n      <td>79.580556</td>\n      <td>Pal 1</td>\n      <td>03 33 23.0</td>\n      <td>+79 34 50</td>\n      <td>130.07</td>\n      <td>19.03</td>\n      <td>9.7</td>\n      <td>15.9</td>\n      <td>13.52</td>\n      <td>-0.80</td>\n      <td></td>\n      <td>1.50</td>\n      <td>0.48</td>\n      <td>0.298971</td>\n      <td>1.728610</td>\n      <td>9.540048</td>\n      <td>0.001354</td>\n    </tr>\n  </tbody>\n</table>\n</div>"
     },
     "execution_count": 57,
     "metadata": {},
     "output_type": "execute_result"
    }
   ],
   "source": [
    "data.head()"
   ],
   "metadata": {
    "collapsed": false
   }
  },
  {
   "cell_type": "code",
   "execution_count": 58,
   "outputs": [],
   "source": [
    "# Los radios de los cúmulos me parecen no tan distintos."
   ],
   "metadata": {
    "collapsed": false
   }
  },
  {
   "cell_type": "code",
   "execution_count": 59,
   "outputs": [
    {
     "name": "stdout",
     "output_type": "stream",
     "text": [
      "RESUMEN\n",
      "Posición promedio del centro: (-0.35661041839612173, 0.9352441318412935, -3.5349928267690482)\n",
      "Distancia del Sol al centro: 3.6739660942856913 kpc\n",
      "Posición de Alnasl (Gamma Sagittarii) en Sagitario: (-5.844776201271391e-16, -3.181747970294103, -1.8369830471428454)\n",
      "Radio promedio de los cúmulos en parsecs: 0.004434517864178316\n"
     ]
    }
   ],
   "source": [
    "print(\"RESUMEN\")\n",
    "print(f\"Posición promedio del centro: {x_avg, y_avg, z_avg}\")\n",
    "print(f\"Distancia del Sol al centro: {center_distance} kpc\")\n",
    "print(f\"Posición de Alnasl (Gamma Sagittarii) en Sagitario: {x_star, y_star, z_star}\")\n",
    "print(f\"Radio promedio de los cúmulos en parsecs: {radio_promedio}\")"
   ],
   "metadata": {
    "collapsed": false
   }
  }
 ],
 "metadata": {
  "kernelspec": {
   "display_name": "Python 3",
   "language": "python",
   "name": "python3"
  },
  "language_info": {
   "codemirror_mode": {
    "name": "ipython",
    "version": 2
   },
   "file_extension": ".py",
   "mimetype": "text/x-python",
   "name": "python",
   "nbconvert_exporter": "python",
   "pygments_lexer": "ipython2",
   "version": "2.7.6"
  }
 },
 "nbformat": 4,
 "nbformat_minor": 0
}
