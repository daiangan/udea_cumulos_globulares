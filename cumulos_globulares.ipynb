{
 "cells": [
  {
   "cell_type": "code",
   "execution_count": 158,
   "metadata": {
    "collapsed": true
   },
   "outputs": [],
   "source": [
    "# !pip install pandas"
   ]
  },
  {
   "cell_type": "code",
   "execution_count": 159,
   "metadata": {},
   "outputs": [
    {
     "data": {
      "text/plain": "    _RAJ2000   _DEJ2000         ID     RAJ2000    DEJ2000    GLON   GLAT  \\\n0   6.021667 -72.080833  NGC 104    00 24 05.2  -72 04 51  305.90 -44.89   \n1  13.197917 -26.590000  NGC 288    00 52 47.5  -26 35 24  152.28 -89.38   \n2  15.809583 -70.848333  NGC 362    01 03 14.3  -70 50 54  301.53 -46.25   \n3  48.063750 -55.216944  NGC 1261   03 12 15.3  -55 13 01  270.54 -52.13   \n4  53.345833  79.580556  Pal 1      03 33 23.0  +79 34 50  130.07  19.03   \n\n    Rsun    Rgc     Vt [Fe/H]   SpT      c    Rh  \n0    4.3    7.3   3.95  -0.76  G4     2.04  2.79  \n1    8.1   11.4   8.09  -1.24         0.96  2.22  \n2    8.3    9.2   6.40  -1.16  F9     1.94  0.81  \n3   16.0   17.9   8.29  -1.35  F7     1.27  0.75  \n4    9.7   15.9  13.52  -0.80         1.50  0.48  ",
      "text/html": "<div>\n<style scoped>\n    .dataframe tbody tr th:only-of-type {\n        vertical-align: middle;\n    }\n\n    .dataframe tbody tr th {\n        vertical-align: top;\n    }\n\n    .dataframe thead th {\n        text-align: right;\n    }\n</style>\n<table border=\"1\" class=\"dataframe\">\n  <thead>\n    <tr style=\"text-align: right;\">\n      <th></th>\n      <th>_RAJ2000</th>\n      <th>_DEJ2000</th>\n      <th>ID</th>\n      <th>RAJ2000</th>\n      <th>DEJ2000</th>\n      <th>GLON</th>\n      <th>GLAT</th>\n      <th>Rsun</th>\n      <th>Rgc</th>\n      <th>Vt</th>\n      <th>[Fe/H]</th>\n      <th>SpT</th>\n      <th>c</th>\n      <th>Rh</th>\n    </tr>\n  </thead>\n  <tbody>\n    <tr>\n      <th>0</th>\n      <td>6.021667</td>\n      <td>-72.080833</td>\n      <td>NGC 104</td>\n      <td>00 24 05.2</td>\n      <td>-72 04 51</td>\n      <td>305.90</td>\n      <td>-44.89</td>\n      <td>4.3</td>\n      <td>7.3</td>\n      <td>3.95</td>\n      <td>-0.76</td>\n      <td>G4</td>\n      <td>2.04</td>\n      <td>2.79</td>\n    </tr>\n    <tr>\n      <th>1</th>\n      <td>13.197917</td>\n      <td>-26.590000</td>\n      <td>NGC 288</td>\n      <td>00 52 47.5</td>\n      <td>-26 35 24</td>\n      <td>152.28</td>\n      <td>-89.38</td>\n      <td>8.1</td>\n      <td>11.4</td>\n      <td>8.09</td>\n      <td>-1.24</td>\n      <td></td>\n      <td>0.96</td>\n      <td>2.22</td>\n    </tr>\n    <tr>\n      <th>2</th>\n      <td>15.809583</td>\n      <td>-70.848333</td>\n      <td>NGC 362</td>\n      <td>01 03 14.3</td>\n      <td>-70 50 54</td>\n      <td>301.53</td>\n      <td>-46.25</td>\n      <td>8.3</td>\n      <td>9.2</td>\n      <td>6.40</td>\n      <td>-1.16</td>\n      <td>F9</td>\n      <td>1.94</td>\n      <td>0.81</td>\n    </tr>\n    <tr>\n      <th>3</th>\n      <td>48.063750</td>\n      <td>-55.216944</td>\n      <td>NGC 1261</td>\n      <td>03 12 15.3</td>\n      <td>-55 13 01</td>\n      <td>270.54</td>\n      <td>-52.13</td>\n      <td>16.0</td>\n      <td>17.9</td>\n      <td>8.29</td>\n      <td>-1.35</td>\n      <td>F7</td>\n      <td>1.27</td>\n      <td>0.75</td>\n    </tr>\n    <tr>\n      <th>4</th>\n      <td>53.345833</td>\n      <td>79.580556</td>\n      <td>Pal 1</td>\n      <td>03 33 23.0</td>\n      <td>+79 34 50</td>\n      <td>130.07</td>\n      <td>19.03</td>\n      <td>9.7</td>\n      <td>15.9</td>\n      <td>13.52</td>\n      <td>-0.80</td>\n      <td></td>\n      <td>1.50</td>\n      <td>0.48</td>\n    </tr>\n  </tbody>\n</table>\n</div>"
     },
     "execution_count": 159,
     "metadata": {},
     "output_type": "execute_result"
    }
   ],
   "source": [
    "import pandas as pd\n",
    "import numpy as np\n",
    "\n",
    "# Importar los datos\n",
    "data = pd.read_csv(\"files/ViZieR_cum_glob.tsv\", delimiter=\"|\")\n",
    "\n",
    "# Filtrar los datos sin distancia al sol\n",
    "data = data.dropna(subset=['Rsun'])\n",
    "\n",
    "data.head()"
   ]
  },
  {
   "cell_type": "code",
   "execution_count": 160,
   "metadata": {},
   "outputs": [
    {
     "data": {
      "text/plain": "_RAJ2000    float64\n_DEJ2000    float64\nID           object\nRAJ2000      object\nDEJ2000      object\nGLON        float64\nGLAT        float64\nRsun         object\nRgc          object\nVt           object\n[Fe/H]       object\nSpT          object\nc            object\nRh          float64\ndtype: object"
     },
     "execution_count": 160,
     "metadata": {},
     "output_type": "execute_result"
    }
   ],
   "source": [
    "# Chequear los tipos de datos\n",
    "data.dtypes"
   ]
  },
  {
   "cell_type": "code",
   "execution_count": 161,
   "metadata": {},
   "outputs": [],
   "source": [
    "# Convertir Rsun en un valor numérico para poder calcular\n",
    "data['Rsun'] = pd.to_numeric(data['Rsun'], errors='coerce')"
   ]
  },
  {
   "cell_type": "code",
   "execution_count": 162,
   "metadata": {},
   "outputs": [],
   "source": [
    "# Calcular las coordenadas usando radianes\n",
    "data['x'] = data['Rsun'] * np.cos(np.radians(data['_RAJ2000'])) * np.cos(np.radians(data['_DEJ2000']))\n",
    "data['y'] = data['Rsun'] * np.sin(np.radians(data['_RAJ2000'])) * np.cos(np.radians(data['_DEJ2000']))\n",
    "data['z'] = data['Rsun'] * np.sin(np.radians(data['_DEJ2000']))"
   ]
  },
  {
   "cell_type": "code",
   "execution_count": 163,
   "metadata": {},
   "outputs": [
    {
     "data": {
      "text/plain": "    _RAJ2000   _DEJ2000         ID     RAJ2000    DEJ2000    GLON   GLAT  \\\n0   6.021667 -72.080833  NGC 104    00 24 05.2  -72 04 51  305.90 -44.89   \n1  13.197917 -26.590000  NGC 288    00 52 47.5  -26 35 24  152.28 -89.38   \n2  15.809583 -70.848333  NGC 362    01 03 14.3  -70 50 54  301.53 -46.25   \n3  48.063750 -55.216944  NGC 1261   03 12 15.3  -55 13 01  270.54 -52.13   \n4  53.345833  79.580556  Pal 1      03 33 23.0  +79 34 50  130.07  19.03   \n\n   Rsun    Rgc     Vt [Fe/H]   SpT      c    Rh         x         y          z  \n0   4.3    7.3   3.95  -0.76  G4     2.04  2.79  1.315702  0.138789  -4.091414  \n1   8.1   11.4   8.09  -1.24         0.96  2.22  7.051967  1.653753  -3.625584  \n2   8.3    9.2   6.40  -1.16  F9     1.94  0.81  2.619976  0.741852  -7.840624  \n3  16.0   17.9   8.29  -1.35  F7     1.27  0.75  6.099960  6.789869 -13.141087  \n4   9.7   15.9  13.52  -0.80         1.50  0.48  1.047272  1.407372   9.540048  ",
      "text/html": "<div>\n<style scoped>\n    .dataframe tbody tr th:only-of-type {\n        vertical-align: middle;\n    }\n\n    .dataframe tbody tr th {\n        vertical-align: top;\n    }\n\n    .dataframe thead th {\n        text-align: right;\n    }\n</style>\n<table border=\"1\" class=\"dataframe\">\n  <thead>\n    <tr style=\"text-align: right;\">\n      <th></th>\n      <th>_RAJ2000</th>\n      <th>_DEJ2000</th>\n      <th>ID</th>\n      <th>RAJ2000</th>\n      <th>DEJ2000</th>\n      <th>GLON</th>\n      <th>GLAT</th>\n      <th>Rsun</th>\n      <th>Rgc</th>\n      <th>Vt</th>\n      <th>[Fe/H]</th>\n      <th>SpT</th>\n      <th>c</th>\n      <th>Rh</th>\n      <th>x</th>\n      <th>y</th>\n      <th>z</th>\n    </tr>\n  </thead>\n  <tbody>\n    <tr>\n      <th>0</th>\n      <td>6.021667</td>\n      <td>-72.080833</td>\n      <td>NGC 104</td>\n      <td>00 24 05.2</td>\n      <td>-72 04 51</td>\n      <td>305.90</td>\n      <td>-44.89</td>\n      <td>4.3</td>\n      <td>7.3</td>\n      <td>3.95</td>\n      <td>-0.76</td>\n      <td>G4</td>\n      <td>2.04</td>\n      <td>2.79</td>\n      <td>1.315702</td>\n      <td>0.138789</td>\n      <td>-4.091414</td>\n    </tr>\n    <tr>\n      <th>1</th>\n      <td>13.197917</td>\n      <td>-26.590000</td>\n      <td>NGC 288</td>\n      <td>00 52 47.5</td>\n      <td>-26 35 24</td>\n      <td>152.28</td>\n      <td>-89.38</td>\n      <td>8.1</td>\n      <td>11.4</td>\n      <td>8.09</td>\n      <td>-1.24</td>\n      <td></td>\n      <td>0.96</td>\n      <td>2.22</td>\n      <td>7.051967</td>\n      <td>1.653753</td>\n      <td>-3.625584</td>\n    </tr>\n    <tr>\n      <th>2</th>\n      <td>15.809583</td>\n      <td>-70.848333</td>\n      <td>NGC 362</td>\n      <td>01 03 14.3</td>\n      <td>-70 50 54</td>\n      <td>301.53</td>\n      <td>-46.25</td>\n      <td>8.3</td>\n      <td>9.2</td>\n      <td>6.40</td>\n      <td>-1.16</td>\n      <td>F9</td>\n      <td>1.94</td>\n      <td>0.81</td>\n      <td>2.619976</td>\n      <td>0.741852</td>\n      <td>-7.840624</td>\n    </tr>\n    <tr>\n      <th>3</th>\n      <td>48.063750</td>\n      <td>-55.216944</td>\n      <td>NGC 1261</td>\n      <td>03 12 15.3</td>\n      <td>-55 13 01</td>\n      <td>270.54</td>\n      <td>-52.13</td>\n      <td>16.0</td>\n      <td>17.9</td>\n      <td>8.29</td>\n      <td>-1.35</td>\n      <td>F7</td>\n      <td>1.27</td>\n      <td>0.75</td>\n      <td>6.099960</td>\n      <td>6.789869</td>\n      <td>-13.141087</td>\n    </tr>\n    <tr>\n      <th>4</th>\n      <td>53.345833</td>\n      <td>79.580556</td>\n      <td>Pal 1</td>\n      <td>03 33 23.0</td>\n      <td>+79 34 50</td>\n      <td>130.07</td>\n      <td>19.03</td>\n      <td>9.7</td>\n      <td>15.9</td>\n      <td>13.52</td>\n      <td>-0.80</td>\n      <td></td>\n      <td>1.50</td>\n      <td>0.48</td>\n      <td>1.047272</td>\n      <td>1.407372</td>\n      <td>9.540048</td>\n    </tr>\n  </tbody>\n</table>\n</div>"
     },
     "execution_count": 163,
     "metadata": {},
     "output_type": "execute_result"
    }
   ],
   "source": [
    "data.head()"
   ]
  },
  {
   "cell_type": "code",
   "execution_count": 164,
   "metadata": {},
   "outputs": [],
   "source": [
    "# Calcular la posición promedio del centro\n",
    "x_avg = data['x'].mean()\n",
    "y_avg = data['y'].mean()\n",
    "z_avg = data['z'].mean()"
   ]
  },
  {
   "cell_type": "code",
   "execution_count": 165,
   "metadata": {},
   "outputs": [
    {
     "data": {
      "text/plain": "(-1.8773897807955038, -5.20959303904406, -3.5349928267690482)"
     },
     "execution_count": 165,
     "metadata": {},
     "output_type": "execute_result"
    }
   ],
   "source": [
    "x_avg, y_avg, z_avg"
   ]
  },
  {
   "cell_type": "code",
   "execution_count": 166,
   "metadata": {},
   "outputs": [
    {
     "data": {
      "text/plain": "6.569674748935471"
     },
     "execution_count": 166,
     "metadata": {},
     "output_type": "execute_result"
    }
   ],
   "source": [
    "# Distancia al centro\n",
    "center_distance = np.sqrt(x_avg**2 + y_avg**2 + z_avg**2)\n",
    "center_distance"
   ]
  },
  {
   "cell_type": "code",
   "execution_count": 167,
   "metadata": {},
   "outputs": [],
   "source": [
    "# RA y DEC de una estrella en Sagitario.\n",
    "# Por ejemplo Alnasl (Gamma Sagittarii)\n",
    "# RA=18h, DEC=-30°\n",
    "# https://en.wikipedia.org/wiki/Gamma2_Sagittarii\n",
    "RA_star = 18 * 15  # Convertir a grados\n",
    "DE_star = -30\n",
    "\n",
    "RA_star_rad = np.deg2rad(RA_star)\n",
    "DE_star_rad = np.deg2rad(DE_star)\n",
    "\n",
    "x_star = center_distance * np.cos(RA_star_rad) * np.cos(DE_star_rad)\n",
    "y_star = center_distance * np.sin(RA_star_rad) * np.cos(DE_star_rad)\n",
    "z_star = center_distance * np.sin(DE_star_rad)"
   ]
  },
  {
   "cell_type": "code",
   "execution_count": 168,
   "metadata": {},
   "outputs": [
    {
     "name": "stdout",
     "output_type": "stream",
     "text": [
      "Posición de Alnasl (Gamma Sagittarii) en Sagitario: (-1.0451451547795845e-15, -5.689505227179272, -3.284837374467735)\n"
     ]
    }
   ],
   "source": [
    "print(f\"Posición de Alnasl (Gamma Sagittarii) en Sagitario: {x_star, y_star, z_star}\")"
   ]
  },
  {
   "cell_type": "code",
   "execution_count": null,
   "metadata": {
    "pycharm": {
     "is_executing": true
    }
   },
   "outputs": [],
   "source": [
    "\"\"\"\n",
    "No parece estar muy cerca del centro de la galaxia.\n",
    "Aunque la constelación de Sagitario apunta hacia la dirección del centro galáctico,\n",
    "asumo que las estrellas individuales en la constelación pueden estar dispersas en una amplia área del cielo.\n",
    "Alnasl es solo una de las estrellas en Sagitario y su posición puede estar más cerca o más lejos y\n",
    "aparentar estar en el mismo centro desde nuestra perspectiva.\n",
    "\"\"\""
   ]
  },
  {
   "cell_type": "code",
   "execution_count": 170,
   "metadata": {},
   "outputs": [],
   "source": [
    "# Radio del cúmulo en parsecs\n",
    "# Suponiendo que Rh está en minutos de arco\n",
    "data['radio_parsecs'] = data['Rsun'] * np.tan(np.deg2rad(data['Rh'] / 60))\n",
    "radio_promedio = data['radio_parsecs'].mean()"
   ]
  },
  {
   "cell_type": "code",
   "execution_count": 171,
   "metadata": {},
   "outputs": [
    {
     "data": {
      "text/plain": "    _RAJ2000   _DEJ2000         ID     RAJ2000    DEJ2000    GLON   GLAT  \\\n0   6.021667 -72.080833  NGC 104    00 24 05.2  -72 04 51  305.90 -44.89   \n1  13.197917 -26.590000  NGC 288    00 52 47.5  -26 35 24  152.28 -89.38   \n2  15.809583 -70.848333  NGC 362    01 03 14.3  -70 50 54  301.53 -46.25   \n3  48.063750 -55.216944  NGC 1261   03 12 15.3  -55 13 01  270.54 -52.13   \n4  53.345833  79.580556  Pal 1      03 33 23.0  +79 34 50  130.07  19.03   \n\n   Rsun    Rgc     Vt [Fe/H]   SpT      c    Rh         x         y  \\\n0   4.3    7.3   3.95  -0.76  G4     2.04  2.79  1.315702  0.138789   \n1   8.1   11.4   8.09  -1.24         0.96  2.22  7.051967  1.653753   \n2   8.3    9.2   6.40  -1.16  F9     1.94  0.81  2.619976  0.741852   \n3  16.0   17.9   8.29  -1.35  F7     1.27  0.75  6.099960  6.789869   \n4   9.7   15.9  13.52  -0.80         1.50  0.48  1.047272  1.407372   \n\n           z  radio_parsecs  \n0  -4.091414       0.003490  \n1  -3.625584       0.005231  \n2  -7.840624       0.001956  \n3 -13.141087       0.003491  \n4   9.540048       0.001354  ",
      "text/html": "<div>\n<style scoped>\n    .dataframe tbody tr th:only-of-type {\n        vertical-align: middle;\n    }\n\n    .dataframe tbody tr th {\n        vertical-align: top;\n    }\n\n    .dataframe thead th {\n        text-align: right;\n    }\n</style>\n<table border=\"1\" class=\"dataframe\">\n  <thead>\n    <tr style=\"text-align: right;\">\n      <th></th>\n      <th>_RAJ2000</th>\n      <th>_DEJ2000</th>\n      <th>ID</th>\n      <th>RAJ2000</th>\n      <th>DEJ2000</th>\n      <th>GLON</th>\n      <th>GLAT</th>\n      <th>Rsun</th>\n      <th>Rgc</th>\n      <th>Vt</th>\n      <th>[Fe/H]</th>\n      <th>SpT</th>\n      <th>c</th>\n      <th>Rh</th>\n      <th>x</th>\n      <th>y</th>\n      <th>z</th>\n      <th>radio_parsecs</th>\n    </tr>\n  </thead>\n  <tbody>\n    <tr>\n      <th>0</th>\n      <td>6.021667</td>\n      <td>-72.080833</td>\n      <td>NGC 104</td>\n      <td>00 24 05.2</td>\n      <td>-72 04 51</td>\n      <td>305.90</td>\n      <td>-44.89</td>\n      <td>4.3</td>\n      <td>7.3</td>\n      <td>3.95</td>\n      <td>-0.76</td>\n      <td>G4</td>\n      <td>2.04</td>\n      <td>2.79</td>\n      <td>1.315702</td>\n      <td>0.138789</td>\n      <td>-4.091414</td>\n      <td>0.003490</td>\n    </tr>\n    <tr>\n      <th>1</th>\n      <td>13.197917</td>\n      <td>-26.590000</td>\n      <td>NGC 288</td>\n      <td>00 52 47.5</td>\n      <td>-26 35 24</td>\n      <td>152.28</td>\n      <td>-89.38</td>\n      <td>8.1</td>\n      <td>11.4</td>\n      <td>8.09</td>\n      <td>-1.24</td>\n      <td></td>\n      <td>0.96</td>\n      <td>2.22</td>\n      <td>7.051967</td>\n      <td>1.653753</td>\n      <td>-3.625584</td>\n      <td>0.005231</td>\n    </tr>\n    <tr>\n      <th>2</th>\n      <td>15.809583</td>\n      <td>-70.848333</td>\n      <td>NGC 362</td>\n      <td>01 03 14.3</td>\n      <td>-70 50 54</td>\n      <td>301.53</td>\n      <td>-46.25</td>\n      <td>8.3</td>\n      <td>9.2</td>\n      <td>6.40</td>\n      <td>-1.16</td>\n      <td>F9</td>\n      <td>1.94</td>\n      <td>0.81</td>\n      <td>2.619976</td>\n      <td>0.741852</td>\n      <td>-7.840624</td>\n      <td>0.001956</td>\n    </tr>\n    <tr>\n      <th>3</th>\n      <td>48.063750</td>\n      <td>-55.216944</td>\n      <td>NGC 1261</td>\n      <td>03 12 15.3</td>\n      <td>-55 13 01</td>\n      <td>270.54</td>\n      <td>-52.13</td>\n      <td>16.0</td>\n      <td>17.9</td>\n      <td>8.29</td>\n      <td>-1.35</td>\n      <td>F7</td>\n      <td>1.27</td>\n      <td>0.75</td>\n      <td>6.099960</td>\n      <td>6.789869</td>\n      <td>-13.141087</td>\n      <td>0.003491</td>\n    </tr>\n    <tr>\n      <th>4</th>\n      <td>53.345833</td>\n      <td>79.580556</td>\n      <td>Pal 1</td>\n      <td>03 33 23.0</td>\n      <td>+79 34 50</td>\n      <td>130.07</td>\n      <td>19.03</td>\n      <td>9.7</td>\n      <td>15.9</td>\n      <td>13.52</td>\n      <td>-0.80</td>\n      <td></td>\n      <td>1.50</td>\n      <td>0.48</td>\n      <td>1.047272</td>\n      <td>1.407372</td>\n      <td>9.540048</td>\n      <td>0.001354</td>\n    </tr>\n  </tbody>\n</table>\n</div>"
     },
     "execution_count": 171,
     "metadata": {},
     "output_type": "execute_result"
    }
   ],
   "source": [
    "data.head()"
   ]
  },
  {
   "cell_type": "code",
   "execution_count": 172,
   "metadata": {},
   "outputs": [],
   "source": [
    "# Los radios de los cúmulos me parecen no tan distintos."
   ]
  },
  {
   "cell_type": "code",
   "execution_count": 173,
   "metadata": {},
   "outputs": [
    {
     "name": "stdout",
     "output_type": "stream",
     "text": [
      "RESUMEN\n",
      "Posición promedio del centro: (-1.8773897807955038, -5.20959303904406, -3.5349928267690482)\n",
      "Distancia del Sol al centro: 6.569674748935471 kpc\n",
      "Posición de Alnasl (Gamma Sagittarii) en Sagitario: (-1.0451451547795845e-15, -5.689505227179272, -3.284837374467735)\n",
      "Radio promedio de los cúmulos en parsecs: 0.004434517864178316\n"
     ]
    }
   ],
   "source": [
    "print(\"RESUMEN\")\n",
    "print(f\"Posición promedio del centro: {x_avg, y_avg, z_avg}\")\n",
    "print(f\"Distancia del Sol al centro: {center_distance} kpc\")\n",
    "print(f\"Posición de Alnasl (Gamma Sagittarii) en Sagitario: {x_star, y_star, z_star}\")\n",
    "print(f\"Radio promedio de los cúmulos en parsecs: {radio_promedio}\")"
   ]
  },
  {
   "cell_type": "code",
   "execution_count": null,
   "metadata": {
    "pycharm": {
     "is_executing": true
    }
   },
   "outputs": [],
   "source": [
    "\"\"\"\n",
    "Trataré de graficar los cúmulos, el Sol y el centro de la Galaxia.\n",
    "\"\"\""
   ]
  },
  {
   "cell_type": "code",
   "execution_count": 175,
   "metadata": {},
   "outputs": [],
   "source": [
    "# !pip install matplotlib"
   ]
  },
  {
   "cell_type": "code",
   "execution_count": 176,
   "metadata": {},
   "outputs": [
    {
     "data": {
      "text/plain": "<Figure size 1000x800 with 1 Axes>",
      "image/png": "[encoded data removed]"
     },
     "metadata": {},
     "output_type": "display_data"
    }
   ],
   "source": [
    "import matplotlib.pyplot as plt\n",
    "\n",
    "# Crear un gráfico 3D\n",
    "fig = plt.figure(figsize=(10, 8))\n",
    "ax = fig.add_subplot(111, projection='3d')\n",
    "\n",
    "# Graficar los cúmulos\n",
    "ax.scatter(\n",
    "    data['x'],\n",
    "    data['y'],\n",
    "    data['z'],\n",
    "    c='green',\n",
    "    marker='o',\n",
    "    s=data['radio_parsecs'] * 1000,\n",
    "    alpha=0.5,\n",
    "    label='Cúmulos globulares'\n",
    ")\n",
    "\n",
    "# Marcar el punto estimado del centro de la galaxia\n",
    "ax.scatter(x_avg, y_avg, z_avg, c='red', marker='o', s=100, label='Centro estimado de la galaxia')\n",
    "\n",
    "# Marcar la posición del Sol\n",
    "ax.scatter(0, 0, 0, c='yellow', marker='o', s=100, label='Sol')\n",
    "\n",
    "# Alnasl (Gamma Sagittarii)\n",
    "ax.scatter(x_star, y_star, z_star, c='blue', marker='*', s=100, label='Alnasl (Gamma Sagittarii)')\n",
    "\n",
    "# Etiquetas y título\n",
    "ax.set_xlabel('X (kpc)')\n",
    "ax.set_ylabel('Y (kpc)')\n",
    "ax.set_zlabel('Z (kpc)')\n",
    "ax.set_title('Distribución de cúmulos globulares en relación con el Sol y el centro de la galaxia')\n",
    "ax.legend()\n",
    "\n",
    "# Adjust Y axis limits\n",
    "y_min = -20  # Example value\n",
    "y_max = 20   # Example value\n",
    "ax.set_ylim(y_min, y_max)\n",
    "\n",
    "# Adjust view\n",
    "ax.view_init(elev=10, azim=-20)\n",
    "\n",
    "# Mostrar el gráfico\n",
    "plt.show()\n"
   ]
  },
  {
   "cell_type": "code",
   "execution_count": 177,
   "metadata": {},
   "outputs": [],
   "source": [
    "# !pip install plotly"
   ]
  },
  {
   "cell_type": "code",
   "execution_count": 178,
   "outputs": [],
   "source": [
    "# Normalize radio\n",
    "data['radio_parsecs_norm'] = data['radio_parsecs']*1000+5\n",
    "valid_radio_parsecs = [size if not np.isnan(size) else 5 for size in data['radio_parsecs_norm']]"
   ],
   "metadata": {
    "collapsed": false
   }
  },
  {
   "cell_type": "code",
   "execution_count": 179,
   "metadata": {},
   "outputs": [
    {
     "data": {
      "application/vnd.plotly.v1+json": {
       "data": [
        {
         "marker": {
          "color": "blue",
          "opacity": 0.5,
          "size": [
           8.489786605555832,
           10.23075249533867,
           6.955641463049786,
           8.49065855936967,
           6.354375508349015,
           22.322392948189613,
           14.40150694650372,
           10.242678251161774,
           6.845394809849642,
           7.932153196279952,
           7.405063750519356,
           22.476272951106985,
           20.118915422576485,
           7.055997892344386,
           7.516765082612682,
           22.16356807498789,
           8.975860841480426,
           20.64513154355322,
           7.3515402911173595,
           10.558876052375904,
           11.591527033323743,
           9.55385521524601,
           9.136140116597495,
           10.941100980252479,
           21.49336713005468,
           11.201157888357141,
           8.257948052324727,
           7.147627673418551,
           8.567453008825979,
           15.864676145025502,
           8.974114739476873,
           8.254166400338793,
           13.028515068679242,
           8.27772834722679,
           24.45926241574732,
           12.794932306447546,
           9.480551640713944,
           7.475458748083694,
           7.468768260097961,
           5,
           8.145956074547568,
           5,
           29.1524488664382,
           6.64497283960738,
           7.335833193310943,
           12.511025055430649,
           9.759513222497386,
           7.504547524111246,
           14.98328379728061,
           9.94800944679763,
           5,
           8.033964206366141,
           8.153519082321797,
           7.953097482986468,
           7.370157171378389,
           7.263983137245139,
           7.2994713363619415,
           20.34609897009217,
           7.397209829907528,
           8.09068735328238,
           8.244567135134604,
           6.832595743669077,
           7.329432829403249,
           7.460914383307756,
           7.375102257525533,
           7.568252080373675,
           7.5702882758276,
           7.2936535837148515,
           7.329432825875029,
           8.142756254965054,
           6.796816503287687,
           8.257948304621944,
           5,
           9.200426006856151,
           7.754130096959552,
           5,
           11.492626577265515,
           9.756022849195883,
           6.3744467937957925,
           5,
           12.222757193936083,
           7.481858277985802,
           7.241293676147226,
           8.264638519085993,
           9.16697401790066,
           6.4910931859424155,
           7.065888123415036,
           10.557128482802055,
           8.371976265845964,
           6.931497743070634,
           6.349721301015466,
           6.805834020259415,
           5.959931093838632,
           6.1731521500787565,
           6.876228985033265,
           11.309947644734375,
           6.769763891891602,
           8.331833606796843,
           6.893682258945385,
           5,
           7.117666223689822,
           6.523090686044261,
           5.925606284801514,
           8.837688438806378,
           5.244346095676177,
           6.2871804370867945,
           7.561561667823086,
           7.119120743728342,
           7.997312321228103,
           11.357362790636753,
           5,
           8.288491363036659,
           8.025237424733284,
           6.884373851474175,
           7.586578128999508,
           6.574287004640947,
           6.979785186647399,
           6.613847805934546,
           6.7773269761275134,
           8.034546702420872,
           7.055997877690294,
           7.353576553729333,
           7.6700630086919475,
           8.734422848140404,
           6.404408289754591,
           9.027638431650264,
           7.463823211485089,
           7.654646202269687,
           9.629195573217327,
           8.34056031510168,
           11.489716107558817,
           6.670280140331849,
           20.334464385874426,
           9.455535741739613,
           12.388560708506024,
           10.461135571459053,
           6.823869208387123,
           7.515601244214751,
           7.6529004899687045,
           9.30049137084621,
           9.49887705354729,
           8.145083411766173,
           8.083996863507402,
           7.642719474305565,
           11.962700484380179,
           8.519165569441142,
           13.943067462656014
          ]
         },
         "mode": "markers",
         "name": "Cúmulos globulares",
         "x": [
          1.3157022849014932,
          7.051966876935926,
          2.619976332183407,
          6.0999595919710785,
          1.0472723882482768,
          40.019850891961546,
          30.42000835998201,
          7.277621236161457,
          1.857759050607066,
          1.7845279694807248,
          -1.8189373760915608,
          -26.60364165625948,
          -22.418284294549782,
          -2.936281579793231,
          -0.7108452450732915,
          -78.47729658412437,
          -3.171241225132087,
          -86.35275034093326,
          -17.806796000258565,
          -1.4512572209557426,
          -12.738459482084368,
          -8.886252122009013,
          -1.8680846953250374,
          -16.60505731738426,
          -14.58256198019632,
          -3.202935819003502,
          -7.938321511811711,
          -5.971872628160641,
          -22.729316743953373,
          -12.452647930318355,
          -19.988006208028704,
          -23.265991106139175,
          -1.7603280923713882,
          -18.223089190871907,
          -14.820331037176558,
          -7.722879942795558,
          -4.724189141539694,
          -2.8871570469346057,
          -4.597588134748709,
          -5.628758972343233,
          -4.491109171136729,
          -1.8231707048091537,
          -31.91621114693191,
          -3.4785403527684022,
          -0.8038321169885196,
          -1.8439670106004058,
          -3.5741067747234254,
          -3.20590304761363,
          -8.355290448142272,
          -2.285829794531899,
          -2.3023196620609725,
          -1.886431698777339,
          -6.197235109058842,
          -1.466314635020663,
          -2.572802304985692,
          -1.161535691998282,
          -1.9335246452860613,
          -11.276655387273745,
          -1.4704850792610975,
          -1.8882160213259116,
          -3.114939140098382,
          -1.8366499793309448,
          -1.697528923601471,
          -1.029412261147006,
          -1.9078510149130086,
          -1.0994229504870185,
          -1.5682426770872058,
          -1.3938284352633257,
          -1.4456336178365825,
          -2.1994066764366274,
          -0.9958925792201594,
          -0.5575384450666248,
          -3.47379052504148,
          -1.15127163950193,
          -0.5031117191075204,
          -0.9682185434386597,
          -0.7847046113744828,
          -0.35752802513504073,
          -1.0149396752739035,
          null,
          -0.590546114733842,
          -0.6410875877607122,
          -0.84387454784969,
          -0.8475463851379346,
          -0.6388435050097834,
          -0.10968552857314068,
          -0.42703011707173244,
          -1.3071720527689374,
          -0.4212602103513748,
          -0.3774528314179067,
          -0.36387835022176623,
          -0.3304261393099022,
          -0.25799496624847545,
          -0.35759853186613644,
          -0.16561765138964707,
          -0.03503779446642224,
          0.05000484084017977,
          0.0968276489728235,
          0.0834208715534214,
          0.09734206045238454,
          0.09435074809192989,
          0.11407656278713535,
          0.1348808941992765,
          0.16502200752161228,
          0.08300679645957092,
          0.07258732335266706,
          0.18754885935418691,
          0.17076878172006,
          0.2446269111615407,
          0.43208150768967307,
          null,
          0.42983241117233917,
          0.6467022725618613,
          0.7029113648648443,
          0.5528627105390134,
          0.9960619653929158,
          0.9457553484484249,
          0.9673009268443039,
          1.2252886711204392,
          0.4627393125448617,
          2.1006706989332176,
          1.3784508365035466,
          1.5199643721484102,
          5.372142049948981,
          1.5597063884253117,
          1.7732169455947908,
          2.161717014592499,
          0.5937016519620868,
          2.2312653369195474,
          2.8069775116456483,
          6.294154401277418,
          1.8360518537261963,
          8.99263212999275,
          1.9205296373297767,
          9.044743235422384,
          5.530220774365124,
          1.7134914969838662,
          8.92393382225034,
          9.393272300773722,
          11.260819337135468,
          27.817579880000235,
          7.909683740755274,
          9.147862422650304,
          5.955584831800754,
          14.560420633032006,
          24.959789930753217,
          23.658857952851786
         ],
         "y": [
          0.13878894547809276,
          1.6537534210680302,
          0.74185188753795,
          6.78986895093603,
          1.4073718377091287,
          65.97988040968846,
          68.92387486442827,
          21.781570333745826,
          9.152639180991194,
          11.323553716592407,
          8.379868580430706,
          58.28086718215525,
          20.912095133030725,
          2.6428347242256285,
          0.5912649753582894,
          42.82127407169,
          1.5191773939950752,
          11.644657543470919,
          -0.7855055333645776,
          -0.16378920793243854,
          -2.169988692958438,
          -1.545572576466809,
          -0.49691342695772683,
          -5.469234920386853,
          -5.053228012104188,
          -1.274036399638849,
          -3.794324908503733,
          -2.9918491900394235,
          -12.577682643024339,
          -7.590318884354396,
          -15.28497929913992,
          -19.45482530580461,
          -1.7650709984699018,
          -18.866442306047308,
          -17.062117615094202,
          -8.995202945421138,
          -5.558925213011609,
          -3.695669435150333,
          -6.29764912613691,
          -7.973487377670077,
          -6.78907954896977,
          -3.5418027125275007,
          -62.02343941684965,
          -7.215112607712562,
          -1.796813948329686,
          -4.231237623949213,
          -8.342534272623155,
          -7.5228036280435155,
          -19.844528707896668,
          -5.695633307971226,
          -6.276529644252887,
          -5.304428495305007,
          -18.788653507928714,
          -4.462555600197795,
          -8.606056948471121,
          -4.128721555250487,
          -7.158922466763746,
          -42.114450903364926,
          -5.606152311066417,
          -7.384651579450194,
          -12.605752930710848,
          -7.5280549662035385,
          -7.684557600553711,
          -5.121653437188379,
          -9.959588002630975,
          -5.807650550833512,
          -8.458734152035275,
          -7.745926601085015,
          -8.450644307268405,
          -13.72496284284519,
          -6.283677922485046,
          -3.6742615238186707,
          -24.06305055526564,
          -8.078306580443872,
          -3.550408235706451,
          -7.518646250078941,
          -6.186970264027006,
          -2.90275677740656,
          -8.708076410172682,
          null,
          -5.571120216317104,
          -6.144671484614925,
          -8.12554856470255,
          -8.644594540131784,
          -6.826606391247097,
          -1.2986215192703445,
          -5.995280024426288,
          -19.826500223007965,
          -7.698514120269535,
          -7.251670920515412,
          -7.491395795729618,
          -7.734499036097136,
          -6.40492784366148,
          -8.965207466297047,
          -6.841829838483806,
          -8.306909265264776,
          -6.959549912138267,
          -12.20393023514392,
          -10.371568000258323,
          -7.544952377871968,
          -6.059372079707375,
          -6.798951724253684,
          -6.403559038620784,
          -7.8291219015400495,
          -3.0959094929005584,
          -2.2646525692310706,
          -5.346172404550804,
          -4.224192456045071,
          -5.435952524949607,
          -9.216391234759895,
          null,
          -7.209221660379977,
          -7.93880529430589,
          -6.780231516682665,
          -5.141769218479055,
          -7.3340919867006305,
          -6.862607429272823,
          -6.903465996484354,
          -7.78858063579591,
          -2.888709130492219,
          -11.474320312891775,
          -7.224094153215024,
          -6.446022047389285,
          -21.931334609424386,
          -6.361569133324967,
          -6.669704524759105,
          -7.385915443341179,
          -1.8585397926977507,
          -6.9494040465239415,
          -8.084195618399269,
          -17.84132667852399,
          -5.182335172093563,
          -22.05364966260283,
          -4.119058324775312,
          -19.016054067965317,
          -11.184636485635883,
          -3.163480402963468,
          -14.551132752620655,
          -11.788535951784638,
          -11.92204200197487,
          -27.45780778171156,
          -6.070867480819475,
          -6.800720339575731,
          -4.155961355748802,
          -9.57835957710473,
          -5.907144349184595,
          -5.41371296090514
         ],
         "z": [
          -4.0914135853171905,
          -3.625584475488655,
          -7.840623686656258,
          -13.141087192673021,
          9.540048482855628,
          -90.71866905829457,
          -29.202098641215123,
          14.007477393844175,
          -7.849708741887967,
          -5.229970473490964,
          -6.231313617253379,
          51.66117276176872,
          -23.288512327665224,
          -8.419244330971411,
          -4.096962871014485,
          0.1113899662925256,
          -3.6939584645197443,
          48.24691139598198,
          5.978377477395451,
          -4.677288271422736,
          -16.043154275133286,
          -4.544857383347034,
          -5.574346295055726,
          5.73755530448329,
          4.924811950868613,
          -3.758727629363378,
          4.752488828373566,
          -8.359161186212775,
          -13.334918810566682,
          7.929603947067666,
          -2.634201141270374,
          -15.146399907888249,
          -18.2303529690889,
          -17.07824273905591,
          -0.0439367408145737,
          -4.553399758406126,
          0.265306296763366,
          -5.7241900398599155,
          -9.512717741386261,
          -11.65249207120097,
          -6.310969599886533,
          -5.756012693406655,
          18.635676240180814,
          -3.395866174069452,
          -0.9825037215123618,
          -14.377288125147038,
          -4.431465070716923,
          -6.586320006133695,
          -15.275594976584296,
          -1.4229347741758909,
          -3.6144847210220945,
          4.159857423523587,
          21.61182029265574,
          -0.1597463810780449,
          -3.6614849582010045,
          -0.30739739007361766,
          -5.6126029220796205,
          -0.41239348289642325,
          -3.361358341027501,
          -3.7618560986475673,
          -5.99017088265085,
          -3.2427003067261535,
          -3.937762059509011,
          -2.9510975019366383,
          -5.423717481833336,
          5.53827267795164,
          -3.788196332155244,
          -2.63588000175557,
          -3.0506973358582794,
          -4.4663189803421846,
          -3.151759784172682,
          -4.189147065556232,
          -3.0252896328884065,
          -4.8647236719505225,
          -0.31855919061374377,
          -4.66288659719657,
          -3.598004672722538,
          -6.906241872571748,
          -5.778347747423043,
          null,
          -3.2960392627691237,
          -4.92361849161563,
          -8.09403090370625,
          -0.49259553567137915,
          -3.039625660355417,
          -1.7724421667602062,
          -2.960449747560129,
          1.1005408359188367,
          -5.019503977006622,
          -3.3572009502866766,
          -2.783268146974791,
          -5.844513942756334,
          -3.8936278603482832,
          -6.18927930992445,
          -3.067887751333292,
          -8.096544374708087,
          -3.5216707024292875,
          -6.441638861511446,
          -1.6351202323397778,
          -3.6910998549092424,
          -3.5035850119552148,
          -0.03524186559369275,
          -3.7062432169621675,
          -1.0428892500450184,
          -1.630476704375051,
          -1.0564467905027715,
          -5.1130486058881175,
          -2.053542333988213,
          -3.3690618606415583,
          -1.1668068300081205,
          null,
          -4.482451020347455,
          -10.274100771832254,
          -3.9930409706546888,
          -2.3971967226735362,
          -3.529724534820133,
          -4.387501121660328,
          -3.0276205429859333,
          -5.118269175427266,
          -1.2966232637263606,
          -4.205610059409051,
          -4.64783142517316,
          -1.0141538699678354,
          -13.288967305424228,
          -2.7400281282921686,
          -5.131349063965869,
          0.25540675918145384,
          -3.3768843905909023,
          0.13129506623621892,
          4.977615739746256,
          -13.079399172862193,
          1.8472454505318396,
          -13.94736906853046,
          -2.7267057834018615,
          -14.203601919566063,
          -1.7551538026517681,
          1.2232492100263468,
          -6.869347913136065,
          1.958789319196471,
          -3.6467605295032786,
          11.346410949828433,
          2.149760719605841,
          -0.16375579117524985,
          -3.109500686725662,
          -6.7778447017368295,
          5.814166513832142,
          -6.781603965413305
         ],
         "type": "scatter3d"
        },
        {
         "marker": {
          "color": "red",
          "opacity": 1,
          "size": 5
         },
         "mode": "markers",
         "name": "Centro estimado de la galaxia",
         "x": [
          -1.8773897807955038
         ],
         "y": [
          -5.20959303904406
         ],
         "z": [
          -3.5349928267690482
         ],
         "type": "scatter3d"
        },
        {
         "marker": {
          "color": "yellow",
          "opacity": 1,
          "size": 5
         },
         "mode": "markers",
         "name": "Sol",
         "x": [
          0
         ],
         "y": [
          0
         ],
         "z": [
          0
         ],
         "type": "scatter3d"
        }
       ],
       "layout": {
        "template": {
         "data": {
          "histogram2dcontour": [
           {
            "type": "histogram2dcontour",
            "colorbar": {
             "outlinewidth": 0,
             "ticks": ""
            },
            "colorscale": [
             [
              0.0,
              "#0d0887"
             ],
             [
              0.1111111111111111,
              "#46039f"
             ],
             [
              0.2222222222222222,
              "#7201a8"
             ],
             [
              0.3333333333333333,
              "#9c179e"
             ],
             [
              0.4444444444444444,
              "#bd3786"
             ],
             [
              0.5555555555555556,
              "#d8576b"
             ],
             [
              0.6666666666666666,
              "#ed7953"
             ],
             [
              0.7777777777777778,
              "#fb9f3a"
             ],
             [
              0.8888888888888888,
              "#fdca26"
             ],
             [
              1.0,
              "#f0f921"
             ]
            ]
           }
          ],
          "choropleth": [
           {
            "type": "choropleth",
            "colorbar": {
             "outlinewidth": 0,
             "ticks": ""
            }
           }
          ],
          "histogram2d": [
           {
            "type": "histogram2d",
            "colorbar": {
             "outlinewidth": 0,
             "ticks": ""
            },
            "colorscale": [
             [
              0.0,
              "#0d0887"
             ],
             [
              0.1111111111111111,
              "#46039f"
             ],
             [
              0.2222222222222222,
              "#7201a8"
             ],
             [
              0.3333333333333333,
              "#9c179e"
             ],
             [
              0.4444444444444444,
              "#bd3786"
             ],
             [
              0.5555555555555556,
              "#d8576b"
             ],
             [
              0.6666666666666666,
              "#ed7953"
             ],
             [
              0.7777777777777778,
              "#fb9f3a"
             ],
             [
              0.8888888888888888,
              "#fdca26"
             ],
             [
              1.0,
              "#f0f921"
             ]
            ]
           }
          ],
          "heatmap": [
           {
            "type": "heatmap",
            "colorbar": {
             "outlinewidth": 0,
             "ticks": ""
            },
            "colorscale": [
             [
              0.0,
              "#0d0887"
             ],
             [
              0.1111111111111111,
              "#46039f"
             ],
             [
              0.2222222222222222,
              "#7201a8"
             ],
             [
              0.3333333333333333,
              "#9c179e"
             ],
             [
              0.4444444444444444,
              "#bd3786"
             ],
             [
              0.5555555555555556,
              "#d8576b"
             ],
             [
              0.6666666666666666,
              "#ed7953"
             ],
             [
              0.7777777777777778,
              "#fb9f3a"
             ],
             [
              0.8888888888888888,
              "#fdca26"
             ],
             [
              1.0,
              "#f0f921"
             ]
            ]
           }
          ],
          "heatmapgl": [
           {
            "type": "heatmapgl",
            "colorbar": {
             "outlinewidth": 0,
             "ticks": ""
            },
            "colorscale": [
             [
              0.0,
              "#0d0887"
             ],
             [
              0.1111111111111111,
              "#46039f"
             ],
             [
              0.2222222222222222,
              "#7201a8"
             ],
             [
              0.3333333333333333,
              "#9c179e"
             ],
             [
              0.4444444444444444,
              "#bd3786"
             ],
             [
              0.5555555555555556,
              "#d8576b"
             ],
             [
              0.6666666666666666,
              "#ed7953"
             ],
             [
              0.7777777777777778,
              "#fb9f3a"
             ],
             [
              0.8888888888888888,
              "#fdca26"
             ],
             [
              1.0,
              "#f0f921"
             ]
            ]
           }
          ],
          "contourcarpet": [
           {
            "type": "contourcarpet",
            "colorbar": {
             "outlinewidth": 0,
             "ticks": ""
            }
           }
          ],
          "contour": [
           {
            "type": "contour",
            "colorbar": {
             "outlinewidth": 0,
             "ticks": ""
            },
            "colorscale": [
             [
              0.0,
              "#0d0887"
             ],
             [
              0.1111111111111111,
              "#46039f"
             ],
             [
              0.2222222222222222,
              "#7201a8"
             ],
             [
              0.3333333333333333,
              "#9c179e"
             ],
             [
              0.4444444444444444,
              "#bd3786"
             ],
             [
              0.5555555555555556,
              "#d8576b"
             ],
             [
              0.6666666666666666,
              "#ed7953"
             ],
             [
              0.7777777777777778,
              "#fb9f3a"
             ],
             [
              0.8888888888888888,
              "#fdca26"
             ],
             [
              1.0,
              "#f0f921"
             ]
            ]
           }
          ],
          "surface": [
           {
            "type": "surface",
            "colorbar": {
             "outlinewidth": 0,
             "ticks": ""
            },
            "colorscale": [
             [
              0.0,
              "#0d0887"
             ],
             [
              0.1111111111111111,
              "#46039f"
             ],
             [
              0.2222222222222222,
              "#7201a8"
             ],
             [
              0.3333333333333333,
              "#9c179e"
             ],
             [
              0.4444444444444444,
              "#bd3786"
             ],
             [
              0.5555555555555556,
              "#d8576b"
             ],
             [
              0.6666666666666666,
              "#ed7953"
             ],
             [
              0.7777777777777778,
              "#fb9f3a"
             ],
             [
              0.8888888888888888,
              "#fdca26"
             ],
             [
              1.0,
              "#f0f921"
             ]
            ]
           }
          ],
          "mesh3d": [
           {
            "type": "mesh3d",
            "colorbar": {
             "outlinewidth": 0,
             "ticks": ""
            }
           }
          ],
          "scatter": [
           {
            "fillpattern": {
             "fillmode": "overlay",
             "size": 10,
             "solidity": 0.2
            },
            "type": "scatter"
           }
          ],
          "parcoords": [
           {
            "type": "parcoords",
            "line": {
             "colorbar": {
              "outlinewidth": 0,
              "ticks": ""
             }
            }
           }
          ],
          "scatterpolargl": [
           {
            "type": "scatterpolargl",
            "marker": {
             "colorbar": {
              "outlinewidth": 0,
              "ticks": ""
             }
            }
           }
          ],
          "bar": [
           {
            "error_x": {
             "color": "#2a3f5f"
            },
            "error_y": {
             "color": "#2a3f5f"
            },
            "marker": {
             "line": {
              "color": "#E5ECF6",
              "width": 0.5
             },
             "pattern": {
              "fillmode": "overlay",
              "size": 10,
              "solidity": 0.2
             }
            },
            "type": "bar"
           }
          ],
          "scattergeo": [
           {
            "type": "scattergeo",
            "marker": {
             "colorbar": {
              "outlinewidth": 0,
              "ticks": ""
             }
            }
           }
          ],
          "scatterpolar": [
           {
            "type": "scatterpolar",
            "marker": {
             "colorbar": {
              "outlinewidth": 0,
              "ticks": ""
             }
            }
           }
          ],
          "histogram": [
           {
            "marker": {
             "pattern": {
              "fillmode": "overlay",
              "size": 10,
              "solidity": 0.2
             }
            },
            "type": "histogram"
           }
          ],
          "scattergl": [
           {
            "type": "scattergl",
            "marker": {
             "colorbar": {
              "outlinewidth": 0,
              "ticks": ""
             }
            }
           }
          ],
          "scatter3d": [
           {
            "type": "scatter3d",
            "line": {
             "colorbar": {
              "outlinewidth": 0,
              "ticks": ""
             }
            },
            "marker": {
             "colorbar": {
              "outlinewidth": 0,
              "ticks": ""
             }
            }
           }
          ],
          "scattermapbox": [
           {
            "type": "scattermapbox",
            "marker": {
             "colorbar": {
              "outlinewidth": 0,
              "ticks": ""
             }
            }
           }
          ],
          "scatterternary": [
           {
            "type": "scatterternary",
            "marker": {
             "colorbar": {
              "outlinewidth": 0,
              "ticks": ""
             }
            }
           }
          ],
          "scattercarpet": [
           {
            "type": "scattercarpet",
            "marker": {
             "colorbar": {
              "outlinewidth": 0,
              "ticks": ""
             }
            }
           }
          ],
          "carpet": [
           {
            "aaxis": {
             "endlinecolor": "#2a3f5f",
             "gridcolor": "white",
             "linecolor": "white",
             "minorgridcolor": "white",
             "startlinecolor": "#2a3f5f"
            },
            "baxis": {
             "endlinecolor": "#2a3f5f",
             "gridcolor": "white",
             "linecolor": "white",
             "minorgridcolor": "white",
             "startlinecolor": "#2a3f5f"
            },
            "type": "carpet"
           }
          ],
          "table": [
           {
            "cells": {
             "fill": {
              "color": "#EBF0F8"
             },
             "line": {
              "color": "white"
             }
            },
            "header": {
             "fill": {
              "color": "#C8D4E3"
             },
             "line": {
              "color": "white"
             }
            },
            "type": "table"
           }
          ],
          "barpolar": [
           {
            "marker": {
             "line": {
              "color": "#E5ECF6",
              "width": 0.5
             },
             "pattern": {
              "fillmode": "overlay",
              "size": 10,
              "solidity": 0.2
             }
            },
            "type": "barpolar"
           }
          ],
          "pie": [
           {
            "automargin": true,
            "type": "pie"
           }
          ]
         },
         "layout": {
          "autotypenumbers": "strict",
          "colorway": [
           "#636efa",
           "#EF553B",
           "#00cc96",
           "#ab63fa",
           "#FFA15A",
           "#19d3f3",
           "#FF6692",
           "#B6E880",
           "#FF97FF",
           "#FECB52"
          ],
          "font": {
           "color": "#2a3f5f"
          },
          "hovermode": "closest",
          "hoverlabel": {
           "align": "left"
          },
          "paper_bgcolor": "white",
          "plot_bgcolor": "#E5ECF6",
          "polar": {
           "bgcolor": "#E5ECF6",
           "angularaxis": {
            "gridcolor": "white",
            "linecolor": "white",
            "ticks": ""
           },
           "radialaxis": {
            "gridcolor": "white",
            "linecolor": "white",
            "ticks": ""
           }
          },
          "ternary": {
           "bgcolor": "#E5ECF6",
           "aaxis": {
            "gridcolor": "white",
            "linecolor": "white",
            "ticks": ""
           },
           "baxis": {
            "gridcolor": "white",
            "linecolor": "white",
            "ticks": ""
           },
           "caxis": {
            "gridcolor": "white",
            "linecolor": "white",
            "ticks": ""
           }
          },
          "coloraxis": {
           "colorbar": {
            "outlinewidth": 0,
            "ticks": ""
           }
          },
          "colorscale": {
           "sequential": [
            [
             0.0,
             "#0d0887"
            ],
            [
             0.1111111111111111,
             "#46039f"
            ],
            [
             0.2222222222222222,
             "#7201a8"
            ],
            [
             0.3333333333333333,
             "#9c179e"
            ],
            [
             0.4444444444444444,
             "#bd3786"
            ],
            [
             0.5555555555555556,
             "#d8576b"
            ],
            [
             0.6666666666666666,
             "#ed7953"
            ],
            [
             0.7777777777777778,
             "#fb9f3a"
            ],
            [
             0.8888888888888888,
             "#fdca26"
            ],
            [
             1.0,
             "#f0f921"
            ]
           ],
           "sequentialminus": [
            [
             0.0,
             "#0d0887"
            ],
            [
             0.1111111111111111,
             "#46039f"
            ],
            [
             0.2222222222222222,
             "#7201a8"
            ],
            [
             0.3333333333333333,
             "#9c179e"
            ],
            [
             0.4444444444444444,
             "#bd3786"
            ],
            [
             0.5555555555555556,
             "#d8576b"
            ],
            [
             0.6666666666666666,
             "#ed7953"
            ],
            [
             0.7777777777777778,
             "#fb9f3a"
            ],
            [
             0.8888888888888888,
             "#fdca26"
            ],
            [
             1.0,
             "#f0f921"
            ]
           ],
           "diverging": [
            [
             0,
             "#8e0152"
            ],
            [
             0.1,
             "#c51b7d"
            ],
            [
             0.2,
             "#de77ae"
            ],
            [
             0.3,
             "#f1b6da"
            ],
            [
             0.4,
             "#fde0ef"
            ],
            [
             0.5,
             "#f7f7f7"
            ],
            [
             0.6,
             "#e6f5d0"
            ],
            [
             0.7,
             "#b8e186"
            ],
            [
             0.8,
             "#7fbc41"
            ],
            [
             0.9,
             "#4d9221"
            ],
            [
             1,
             "#276419"
            ]
           ]
          },
          "xaxis": {
           "gridcolor": "white",
           "linecolor": "white",
           "ticks": "",
           "title": {
            "standoff": 15
           },
           "zerolinecolor": "white",
           "automargin": true,
           "zerolinewidth": 2
          },
          "yaxis": {
           "gridcolor": "white",
           "linecolor": "white",
           "ticks": "",
           "title": {
            "standoff": 15
           },
           "zerolinecolor": "white",
           "automargin": true,
           "zerolinewidth": 2
          },
          "scene": {
           "xaxis": {
            "backgroundcolor": "#E5ECF6",
            "gridcolor": "white",
            "linecolor": "white",
            "showbackground": true,
            "ticks": "",
            "zerolinecolor": "white",
            "gridwidth": 2
           },
           "yaxis": {
            "backgroundcolor": "#E5ECF6",
            "gridcolor": "white",
            "linecolor": "white",
            "showbackground": true,
            "ticks": "",
            "zerolinecolor": "white",
            "gridwidth": 2
           },
           "zaxis": {
            "backgroundcolor": "#E5ECF6",
            "gridcolor": "white",
            "linecolor": "white",
            "showbackground": true,
            "ticks": "",
            "zerolinecolor": "white",
            "gridwidth": 2
           }
          },
          "shapedefaults": {
           "line": {
            "color": "#2a3f5f"
           }
          },
          "annotationdefaults": {
           "arrowcolor": "#2a3f5f",
           "arrowhead": 0,
           "arrowwidth": 1
          },
          "geo": {
           "bgcolor": "white",
           "landcolor": "#E5ECF6",
           "subunitcolor": "white",
           "showland": true,
           "showlakes": true,
           "lakecolor": "white"
          },
          "title": {
           "x": 0.05
          },
          "mapbox": {
           "style": "light"
          }
         }
        },
        "margin": {
         "l": 0,
         "r": 0,
         "b": 0,
         "t": 0
        },
        "scene": {
         "xaxis": {
          "title": {
           "text": "X (kpc)"
          }
         },
         "yaxis": {
          "title": {
           "text": "Y (kpc)"
          }
         },
         "zaxis": {
          "title": {
           "text": "Z (kpc)"
          }
         }
        },
        "title": {
         "text": "Distribución de cúmulos globulares en relación con el Sol y el centro de la galaxia"
        }
       },
       "config": {
        "plotlyServerURL": "https://plot.ly"
       }
      },
      "text/html": "<div>                            <div id=\"02db2a7d-0ee6-46e3-b7bf-b57b4b8d37d0\" class=\"plotly-graph-div\" style=\"height:525px; width:100%;\"></div>            <script type=\"text/javascript\">                require([\"plotly\"], function(Plotly) {                    window.PLOTLYENV=window.PLOTLYENV || {};                                    if (document.getElementById(\"02db2a7d-0ee6-46e3-b7bf-b57b4b8d37d0\")) {                    Plotly.newPlot(                        \"02db2a7d-0ee6-46e3-b7bf-b57b4b8d37d0\",                        [{\"marker\":{\"color\":\"blue\",\"opacity\":0.5,\"size\":[8.489786605555832,10.23075249533867,6.955641463049786,8.49065855936967,6.354375508349015,22.322392948189613,14.40150694650372,10.242678251161774,6.845394809849642,7.932153196279952,7.405063750519356,22.476272951106985,20.118915422576485,7.055997892344386,7.516765082612682,22.16356807498789,8.975860841480426,20.64513154355322,7.3515402911173595,10.558876052375904,11.591527033323743,9.55385521524601,9.136140116597495,10.941100980252479,21.49336713005468,11.201157888357141,8.257948052324727,7.147627673418551,8.567453008825979,15.864676145025502,8.974114739476873,8.254166400338793,13.028515068679242,8.27772834722679,24.45926241574732,12.794932306447546,9.480551640713944,7.475458748083694,7.468768260097961,5,8.145956074547568,5,29.1524488664382,6.64497283960738,7.335833193310943,12.511025055430649,9.759513222497386,7.504547524111246,14.98328379728061,9.94800944679763,5,8.033964206366141,8.153519082321797,7.953097482986468,7.370157171378389,7.263983137245139,7.2994713363619415,20.34609897009217,7.397209829907528,8.09068735328238,8.244567135134604,6.832595743669077,7.329432829403249,7.460914383307756,7.375102257525533,7.568252080373675,7.5702882758276,7.2936535837148515,7.329432825875029,8.142756254965054,6.796816503287687,8.257948304621944,5,9.200426006856151,7.754130096959552,5,11.492626577265515,9.756022849195883,6.3744467937957925,5,12.222757193936083,7.481858277985802,7.241293676147226,8.264638519085993,9.16697401790066,6.4910931859424155,7.065888123415036,10.557128482802055,8.371976265845964,6.931497743070634,6.349721301015466,6.805834020259415,5.959931093838632,6.1731521500787565,6.876228985033265,11.309947644734375,6.769763891891602,8.331833606796843,6.893682258945385,5,7.117666223689822,6.523090686044261,5.925606284801514,8.837688438806378,5.244346095676177,6.2871804370867945,7.561561667823086,7.119120743728342,7.997312321228103,11.357362790636753,5,8.288491363036659,8.025237424733284,6.884373851474175,7.586578128999508,6.574287004640947,6.979785186647399,6.613847805934546,6.7773269761275134,8.034546702420872,7.055997877690294,7.353576553729333,7.6700630086919475,8.734422848140404,6.404408289754591,9.027638431650264,7.463823211485089,7.654646202269687,9.629195573217327,8.34056031510168,11.489716107558817,6.670280140331849,20.334464385874426,9.455535741739613,12.388560708506024,10.461135571459053,6.823869208387123,7.515601244214751,7.6529004899687045,9.30049137084621,9.49887705354729,8.145083411766173,8.083996863507402,7.642719474305565,11.962700484380179,8.519165569441142,13.943067462656014]},\"mode\":\"markers\",\"name\":\"C\\u00famulos globulares\",\"x\":[1.3157022849014932,7.051966876935926,2.619976332183407,6.0999595919710785,1.0472723882482768,40.019850891961546,30.42000835998201,7.277621236161457,1.857759050607066,1.7845279694807248,-1.8189373760915608,-26.60364165625948,-22.418284294549782,-2.936281579793231,-0.7108452450732915,-78.47729658412437,-3.171241225132087,-86.35275034093326,-17.806796000258565,-1.4512572209557426,-12.738459482084368,-8.886252122009013,-1.8680846953250374,-16.60505731738426,-14.58256198019632,-3.202935819003502,-7.938321511811711,-5.971872628160641,-22.729316743953373,-12.452647930318355,-19.988006208028704,-23.265991106139175,-1.7603280923713882,-18.223089190871907,-14.820331037176558,-7.722879942795558,-4.724189141539694,-2.8871570469346057,-4.597588134748709,-5.628758972343233,-4.491109171136729,-1.8231707048091537,-31.91621114693191,-3.4785403527684022,-0.8038321169885196,-1.8439670106004058,-3.5741067747234254,-3.20590304761363,-8.355290448142272,-2.285829794531899,-2.3023196620609725,-1.886431698777339,-6.197235109058842,-1.466314635020663,-2.572802304985692,-1.161535691998282,-1.9335246452860613,-11.276655387273745,-1.4704850792610975,-1.8882160213259116,-3.114939140098382,-1.8366499793309448,-1.697528923601471,-1.029412261147006,-1.9078510149130086,-1.0994229504870185,-1.5682426770872058,-1.3938284352633257,-1.4456336178365825,-2.1994066764366274,-0.9958925792201594,-0.5575384450666248,-3.47379052504148,-1.15127163950193,-0.5031117191075204,-0.9682185434386597,-0.7847046113744828,-0.35752802513504073,-1.0149396752739035,null,-0.590546114733842,-0.6410875877607122,-0.84387454784969,-0.8475463851379346,-0.6388435050097834,-0.10968552857314068,-0.42703011707173244,-1.3071720527689374,-0.4212602103513748,-0.3774528314179067,-0.36387835022176623,-0.3304261393099022,-0.25799496624847545,-0.35759853186613644,-0.16561765138964707,-0.03503779446642224,0.05000484084017977,0.0968276489728235,0.0834208715534214,0.09734206045238454,0.09435074809192989,0.11407656278713535,0.1348808941992765,0.16502200752161228,0.08300679645957092,0.07258732335266706,0.18754885935418691,0.17076878172006,0.2446269111615407,0.43208150768967307,null,0.42983241117233917,0.6467022725618613,0.7029113648648443,0.5528627105390134,0.9960619653929158,0.9457553484484249,0.9673009268443039,1.2252886711204392,0.4627393125448617,2.1006706989332176,1.3784508365035466,1.5199643721484102,5.372142049948981,1.5597063884253117,1.7732169455947908,2.161717014592499,0.5937016519620868,2.2312653369195474,2.8069775116456483,6.294154401277418,1.8360518537261963,8.99263212999275,1.9205296373297767,9.044743235422384,5.530220774365124,1.7134914969838662,8.92393382225034,9.393272300773722,11.260819337135468,27.817579880000235,7.909683740755274,9.147862422650304,5.955584831800754,14.560420633032006,24.959789930753217,23.658857952851786],\"y\":[0.13878894547809276,1.6537534210680302,0.74185188753795,6.78986895093603,1.4073718377091287,65.97988040968846,68.92387486442827,21.781570333745826,9.152639180991194,11.323553716592407,8.379868580430706,58.28086718215525,20.912095133030725,2.6428347242256285,0.5912649753582894,42.82127407169,1.5191773939950752,11.644657543470919,-0.7855055333645776,-0.16378920793243854,-2.169988692958438,-1.545572576466809,-0.49691342695772683,-5.469234920386853,-5.053228012104188,-1.274036399638849,-3.794324908503733,-2.9918491900394235,-12.577682643024339,-7.590318884354396,-15.28497929913992,-19.45482530580461,-1.7650709984699018,-18.866442306047308,-17.062117615094202,-8.995202945421138,-5.558925213011609,-3.695669435150333,-6.29764912613691,-7.973487377670077,-6.78907954896977,-3.5418027125275007,-62.02343941684965,-7.215112607712562,-1.796813948329686,-4.231237623949213,-8.342534272623155,-7.5228036280435155,-19.844528707896668,-5.695633307971226,-6.276529644252887,-5.304428495305007,-18.788653507928714,-4.462555600197795,-8.606056948471121,-4.128721555250487,-7.158922466763746,-42.114450903364926,-5.606152311066417,-7.384651579450194,-12.605752930710848,-7.5280549662035385,-7.684557600553711,-5.121653437188379,-9.959588002630975,-5.807650550833512,-8.458734152035275,-7.745926601085015,-8.450644307268405,-13.72496284284519,-6.283677922485046,-3.6742615238186707,-24.06305055526564,-8.078306580443872,-3.550408235706451,-7.518646250078941,-6.186970264027006,-2.90275677740656,-8.708076410172682,null,-5.571120216317104,-6.144671484614925,-8.12554856470255,-8.644594540131784,-6.826606391247097,-1.2986215192703445,-5.995280024426288,-19.826500223007965,-7.698514120269535,-7.251670920515412,-7.491395795729618,-7.734499036097136,-6.40492784366148,-8.965207466297047,-6.841829838483806,-8.306909265264776,-6.959549912138267,-12.20393023514392,-10.371568000258323,-7.544952377871968,-6.059372079707375,-6.798951724253684,-6.403559038620784,-7.8291219015400495,-3.0959094929005584,-2.2646525692310706,-5.346172404550804,-4.224192456045071,-5.435952524949607,-9.216391234759895,null,-7.209221660379977,-7.93880529430589,-6.780231516682665,-5.141769218479055,-7.3340919867006305,-6.862607429272823,-6.903465996484354,-7.78858063579591,-2.888709130492219,-11.474320312891775,-7.224094153215024,-6.446022047389285,-21.931334609424386,-6.361569133324967,-6.669704524759105,-7.385915443341179,-1.8585397926977507,-6.9494040465239415,-8.084195618399269,-17.84132667852399,-5.182335172093563,-22.05364966260283,-4.119058324775312,-19.016054067965317,-11.184636485635883,-3.163480402963468,-14.551132752620655,-11.788535951784638,-11.92204200197487,-27.45780778171156,-6.070867480819475,-6.800720339575731,-4.155961355748802,-9.57835957710473,-5.907144349184595,-5.41371296090514],\"z\":[-4.0914135853171905,-3.625584475488655,-7.840623686656258,-13.141087192673021,9.540048482855628,-90.71866905829457,-29.202098641215123,14.007477393844175,-7.849708741887967,-5.229970473490964,-6.231313617253379,51.66117276176872,-23.288512327665224,-8.419244330971411,-4.096962871014485,0.1113899662925256,-3.6939584645197443,48.24691139598198,5.978377477395451,-4.677288271422736,-16.043154275133286,-4.544857383347034,-5.574346295055726,5.73755530448329,4.924811950868613,-3.758727629363378,4.752488828373566,-8.359161186212775,-13.334918810566682,7.929603947067666,-2.634201141270374,-15.146399907888249,-18.2303529690889,-17.07824273905591,-0.0439367408145737,-4.553399758406126,0.265306296763366,-5.7241900398599155,-9.512717741386261,-11.65249207120097,-6.310969599886533,-5.756012693406655,18.635676240180814,-3.395866174069452,-0.9825037215123618,-14.377288125147038,-4.431465070716923,-6.586320006133695,-15.275594976584296,-1.4229347741758909,-3.6144847210220945,4.159857423523587,21.61182029265574,-0.1597463810780449,-3.6614849582010045,-0.30739739007361766,-5.6126029220796205,-0.41239348289642325,-3.361358341027501,-3.7618560986475673,-5.99017088265085,-3.2427003067261535,-3.937762059509011,-2.9510975019366383,-5.423717481833336,5.53827267795164,-3.788196332155244,-2.63588000175557,-3.0506973358582794,-4.4663189803421846,-3.151759784172682,-4.189147065556232,-3.0252896328884065,-4.8647236719505225,-0.31855919061374377,-4.66288659719657,-3.598004672722538,-6.906241872571748,-5.778347747423043,null,-3.2960392627691237,-4.92361849161563,-8.09403090370625,-0.49259553567137915,-3.039625660355417,-1.7724421667602062,-2.960449747560129,1.1005408359188367,-5.019503977006622,-3.3572009502866766,-2.783268146974791,-5.844513942756334,-3.8936278603482832,-6.18927930992445,-3.067887751333292,-8.096544374708087,-3.5216707024292875,-6.441638861511446,-1.6351202323397778,-3.6910998549092424,-3.5035850119552148,-0.03524186559369275,-3.7062432169621675,-1.0428892500450184,-1.630476704375051,-1.0564467905027715,-5.1130486058881175,-2.053542333988213,-3.3690618606415583,-1.1668068300081205,null,-4.482451020347455,-10.274100771832254,-3.9930409706546888,-2.3971967226735362,-3.529724534820133,-4.387501121660328,-3.0276205429859333,-5.118269175427266,-1.2966232637263606,-4.205610059409051,-4.64783142517316,-1.0141538699678354,-13.288967305424228,-2.7400281282921686,-5.131349063965869,0.25540675918145384,-3.3768843905909023,0.13129506623621892,4.977615739746256,-13.079399172862193,1.8472454505318396,-13.94736906853046,-2.7267057834018615,-14.203601919566063,-1.7551538026517681,1.2232492100263468,-6.869347913136065,1.958789319196471,-3.6467605295032786,11.346410949828433,2.149760719605841,-0.16375579117524985,-3.109500686725662,-6.7778447017368295,5.814166513832142,-6.781603965413305],\"type\":\"scatter3d\"},{\"marker\":{\"color\":\"red\",\"opacity\":1,\"size\":5},\"mode\":\"markers\",\"name\":\"Centro estimado de la galaxia\",\"x\":[-1.8773897807955038],\"y\":[-5.20959303904406],\"z\":[-3.5349928267690482],\"type\":\"scatter3d\"},{\"marker\":{\"color\":\"yellow\",\"opacity\":1,\"size\":5},\"mode\":\"markers\",\"name\":\"Sol\",\"x\":[0],\"y\":[0],\"z\":[0],\"type\":\"scatter3d\"}],                        {\"template\":{\"data\":{\"histogram2dcontour\":[{\"type\":\"histogram2dcontour\",\"colorbar\":{\"outlinewidth\":0,\"ticks\":\"\"},\"colorscale\":[[0.0,\"#0d0887\"],[0.1111111111111111,\"#46039f\"],[0.2222222222222222,\"#7201a8\"],[0.3333333333333333,\"#9c179e\"],[0.4444444444444444,\"#bd3786\"],[0.5555555555555556,\"#d8576b\"],[0.6666666666666666,\"#ed7953\"],[0.7777777777777778,\"#fb9f3a\"],[0.8888888888888888,\"#fdca26\"],[1.0,\"#f0f921\"]]}],\"choropleth\":[{\"type\":\"choropleth\",\"colorbar\":{\"outlinewidth\":0,\"ticks\":\"\"}}],\"histogram2d\":[{\"type\":\"histogram2d\",\"colorbar\":{\"outlinewidth\":0,\"ticks\":\"\"},\"colorscale\":[[0.0,\"#0d0887\"],[0.1111111111111111,\"#46039f\"],[0.2222222222222222,\"#7201a8\"],[0.3333333333333333,\"#9c179e\"],[0.4444444444444444,\"#bd3786\"],[0.5555555555555556,\"#d8576b\"],[0.6666666666666666,\"#ed7953\"],[0.7777777777777778,\"#fb9f3a\"],[0.8888888888888888,\"#fdca26\"],[1.0,\"#f0f921\"]]}],\"heatmap\":[{\"type\":\"heatmap\",\"colorbar\":{\"outlinewidth\":0,\"ticks\":\"\"},\"colorscale\":[[0.0,\"#0d0887\"],[0.1111111111111111,\"#46039f\"],[0.2222222222222222,\"#7201a8\"],[0.3333333333333333,\"#9c179e\"],[0.4444444444444444,\"#bd3786\"],[0.5555555555555556,\"#d8576b\"],[0.6666666666666666,\"#ed7953\"],[0.7777777777777778,\"#fb9f3a\"],[0.8888888888888888,\"#fdca26\"],[1.0,\"#f0f921\"]]}],\"heatmapgl\":[{\"type\":\"heatmapgl\",\"colorbar\":{\"outlinewidth\":0,\"ticks\":\"\"},\"colorscale\":[[0.0,\"#0d0887\"],[0.1111111111111111,\"#46039f\"],[0.2222222222222222,\"#7201a8\"],[0.3333333333333333,\"#9c179e\"],[0.4444444444444444,\"#bd3786\"],[0.5555555555555556,\"#d8576b\"],[0.6666666666666666,\"#ed7953\"],[0.7777777777777778,\"#fb9f3a\"],[0.8888888888888888,\"#fdca26\"],[1.0,\"#f0f921\"]]}],\"contourcarpet\":[{\"type\":\"contourcarpet\",\"colorbar\":{\"outlinewidth\":0,\"ticks\":\"\"}}],\"contour\":[{\"type\":\"contour\",\"colorbar\":{\"outlinewidth\":0,\"ticks\":\"\"},\"colorscale\":[[0.0,\"#0d0887\"],[0.1111111111111111,\"#46039f\"],[0.2222222222222222,\"#7201a8\"],[0.3333333333333333,\"#9c179e\"],[0.4444444444444444,\"#bd3786\"],[0.5555555555555556,\"#d8576b\"],[0.6666666666666666,\"#ed7953\"],[0.7777777777777778,\"#fb9f3a\"],[0.8888888888888888,\"#fdca26\"],[1.0,\"#f0f921\"]]}],\"surface\":[{\"type\":\"surface\",\"colorbar\":{\"outlinewidth\":0,\"ticks\":\"\"},\"colorscale\":[[0.0,\"#0d0887\"],[0.1111111111111111,\"#46039f\"],[0.2222222222222222,\"#7201a8\"],[0.3333333333333333,\"#9c179e\"],[0.4444444444444444,\"#bd3786\"],[0.5555555555555556,\"#d8576b\"],[0.6666666666666666,\"#ed7953\"],[0.7777777777777778,\"#fb9f3a\"],[0.8888888888888888,\"#fdca26\"],[1.0,\"#f0f921\"]]}],\"mesh3d\":[{\"type\":\"mesh3d\",\"colorbar\":{\"outlinewidth\":0,\"ticks\":\"\"}}],\"scatter\":[{\"fillpattern\":{\"fillmode\":\"overlay\",\"size\":10,\"solidity\":0.2},\"type\":\"scatter\"}],\"parcoords\":[{\"type\":\"parcoords\",\"line\":{\"colorbar\":{\"outlinewidth\":0,\"ticks\":\"\"}}}],\"scatterpolargl\":[{\"type\":\"scatterpolargl\",\"marker\":{\"colorbar\":{\"outlinewidth\":0,\"ticks\":\"\"}}}],\"bar\":[{\"error_x\":{\"color\":\"#2a3f5f\"},\"error_y\":{\"color\":\"#2a3f5f\"},\"marker\":{\"line\":{\"color\":\"#E5ECF6\",\"width\":0.5},\"pattern\":{\"fillmode\":\"overlay\",\"size\":10,\"solidity\":0.2}},\"type\":\"bar\"}],\"scattergeo\":[{\"type\":\"scattergeo\",\"marker\":{\"colorbar\":{\"outlinewidth\":0,\"ticks\":\"\"}}}],\"scatterpolar\":[{\"type\":\"scatterpolar\",\"marker\":{\"colorbar\":{\"outlinewidth\":0,\"ticks\":\"\"}}}],\"histogram\":[{\"marker\":{\"pattern\":{\"fillmode\":\"overlay\",\"size\":10,\"solidity\":0.2}},\"type\":\"histogram\"}],\"scattergl\":[{\"type\":\"scattergl\",\"marker\":{\"colorbar\":{\"outlinewidth\":0,\"ticks\":\"\"}}}],\"scatter3d\":[{\"type\":\"scatter3d\",\"line\":{\"colorbar\":{\"outlinewidth\":0,\"ticks\":\"\"}},\"marker\":{\"colorbar\":{\"outlinewidth\":0,\"ticks\":\"\"}}}],\"scattermapbox\":[{\"type\":\"scattermapbox\",\"marker\":{\"colorbar\":{\"outlinewidth\":0,\"ticks\":\"\"}}}],\"scatterternary\":[{\"type\":\"scatterternary\",\"marker\":{\"colorbar\":{\"outlinewidth\":0,\"ticks\":\"\"}}}],\"scattercarpet\":[{\"type\":\"scattercarpet\",\"marker\":{\"colorbar\":{\"outlinewidth\":0,\"ticks\":\"\"}}}],\"carpet\":[{\"aaxis\":{\"endlinecolor\":\"#2a3f5f\",\"gridcolor\":\"white\",\"linecolor\":\"white\",\"minorgridcolor\":\"white\",\"startlinecolor\":\"#2a3f5f\"},\"baxis\":{\"endlinecolor\":\"#2a3f5f\",\"gridcolor\":\"white\",\"linecolor\":\"white\",\"minorgridcolor\":\"white\",\"startlinecolor\":\"#2a3f5f\"},\"type\":\"carpet\"}],\"table\":[{\"cells\":{\"fill\":{\"color\":\"#EBF0F8\"},\"line\":{\"color\":\"white\"}},\"header\":{\"fill\":{\"color\":\"#C8D4E3\"},\"line\":{\"color\":\"white\"}},\"type\":\"table\"}],\"barpolar\":[{\"marker\":{\"line\":{\"color\":\"#E5ECF6\",\"width\":0.5},\"pattern\":{\"fillmode\":\"overlay\",\"size\":10,\"solidity\":0.2}},\"type\":\"barpolar\"}],\"pie\":[{\"automargin\":true,\"type\":\"pie\"}]},\"layout\":{\"autotypenumbers\":\"strict\",\"colorway\":[\"#636efa\",\"#EF553B\",\"#00cc96\",\"#ab63fa\",\"#FFA15A\",\"#19d3f3\",\"#FF6692\",\"#B6E880\",\"#FF97FF\",\"#FECB52\"],\"font\":{\"color\":\"#2a3f5f\"},\"hovermode\":\"closest\",\"hoverlabel\":{\"align\":\"left\"},\"paper_bgcolor\":\"white\",\"plot_bgcolor\":\"#E5ECF6\",\"polar\":{\"bgcolor\":\"#E5ECF6\",\"angularaxis\":{\"gridcolor\":\"white\",\"linecolor\":\"white\",\"ticks\":\"\"},\"radialaxis\":{\"gridcolor\":\"white\",\"linecolor\":\"white\",\"ticks\":\"\"}},\"ternary\":{\"bgcolor\":\"#E5ECF6\",\"aaxis\":{\"gridcolor\":\"white\",\"linecolor\":\"white\",\"ticks\":\"\"},\"baxis\":{\"gridcolor\":\"white\",\"linecolor\":\"white\",\"ticks\":\"\"},\"caxis\":{\"gridcolor\":\"white\",\"linecolor\":\"white\",\"ticks\":\"\"}},\"coloraxis\":{\"colorbar\":{\"outlinewidth\":0,\"ticks\":\"\"}},\"colorscale\":{\"sequential\":[[0.0,\"#0d0887\"],[0.1111111111111111,\"#46039f\"],[0.2222222222222222,\"#7201a8\"],[0.3333333333333333,\"#9c179e\"],[0.4444444444444444,\"#bd3786\"],[0.5555555555555556,\"#d8576b\"],[0.6666666666666666,\"#ed7953\"],[0.7777777777777778,\"#fb9f3a\"],[0.8888888888888888,\"#fdca26\"],[1.0,\"#f0f921\"]],\"sequentialminus\":[[0.0,\"#0d0887\"],[0.1111111111111111,\"#46039f\"],[0.2222222222222222,\"#7201a8\"],[0.3333333333333333,\"#9c179e\"],[0.4444444444444444,\"#bd3786\"],[0.5555555555555556,\"#d8576b\"],[0.6666666666666666,\"#ed7953\"],[0.7777777777777778,\"#fb9f3a\"],[0.8888888888888888,\"#fdca26\"],[1.0,\"#f0f921\"]],\"diverging\":[[0,\"#8e0152\"],[0.1,\"#c51b7d\"],[0.2,\"#de77ae\"],[0.3,\"#f1b6da\"],[0.4,\"#fde0ef\"],[0.5,\"#f7f7f7\"],[0.6,\"#e6f5d0\"],[0.7,\"#b8e186\"],[0.8,\"#7fbc41\"],[0.9,\"#4d9221\"],[1,\"#276419\"]]},\"xaxis\":{\"gridcolor\":\"white\",\"linecolor\":\"white\",\"ticks\":\"\",\"title\":{\"standoff\":15},\"zerolinecolor\":\"white\",\"automargin\":true,\"zerolinewidth\":2},\"yaxis\":{\"gridcolor\":\"white\",\"linecolor\":\"white\",\"ticks\":\"\",\"title\":{\"standoff\":15},\"zerolinecolor\":\"white\",\"automargin\":true,\"zerolinewidth\":2},\"scene\":{\"xaxis\":{\"backgroundcolor\":\"#E5ECF6\",\"gridcolor\":\"white\",\"linecolor\":\"white\",\"showbackground\":true,\"ticks\":\"\",\"zerolinecolor\":\"white\",\"gridwidth\":2},\"yaxis\":{\"backgroundcolor\":\"#E5ECF6\",\"gridcolor\":\"white\",\"linecolor\":\"white\",\"showbackground\":true,\"ticks\":\"\",\"zerolinecolor\":\"white\",\"gridwidth\":2},\"zaxis\":{\"backgroundcolor\":\"#E5ECF6\",\"gridcolor\":\"white\",\"linecolor\":\"white\",\"showbackground\":true,\"ticks\":\"\",\"zerolinecolor\":\"white\",\"gridwidth\":2}},\"shapedefaults\":{\"line\":{\"color\":\"#2a3f5f\"}},\"annotationdefaults\":{\"arrowcolor\":\"#2a3f5f\",\"arrowhead\":0,\"arrowwidth\":1},\"geo\":{\"bgcolor\":\"white\",\"landcolor\":\"#E5ECF6\",\"subunitcolor\":\"white\",\"showland\":true,\"showlakes\":true,\"lakecolor\":\"white\"},\"title\":{\"x\":0.05},\"mapbox\":{\"style\":\"light\"}}},\"margin\":{\"l\":0,\"r\":0,\"b\":0,\"t\":0},\"scene\":{\"xaxis\":{\"title\":{\"text\":\"X (kpc)\"}},\"yaxis\":{\"title\":{\"text\":\"Y (kpc)\"}},\"zaxis\":{\"title\":{\"text\":\"Z (kpc)\"}}},\"title\":{\"text\":\"Distribuci\\u00f3n de c\\u00famulos globulares en relaci\\u00f3n con el Sol y el centro de la galaxia\"}},                        {\"responsive\": true}                    ).then(function(){\n                            \nvar gd = document.getElementById('02db2a7d-0ee6-46e3-b7bf-b57b4b8d37d0');\nvar x = new MutationObserver(function (mutations, observer) {{\n        var display = window.getComputedStyle(gd).display;\n        if (!display || display === 'none') {{\n            console.log([gd, 'removed!']);\n            Plotly.purge(gd);\n            observer.disconnect();\n        }}\n}});\n\n// Listen for the removal of the full notebook cells\nvar notebookContainer = gd.closest('#notebook-container');\nif (notebookContainer) {{\n    x.observe(notebookContainer, {childList: true});\n}}\n\n// Listen for the clearing of the current output cell\nvar outputEl = gd.closest('.output');\nif (outputEl) {{\n    x.observe(outputEl, {childList: true});\n}}\n\n                        })                };                });            </script>        </div>"
     },
     "metadata": {},
     "output_type": "display_data"
    }
   ],
   "source": [
    "import plotly.graph_objects as go\n",
    "\n",
    "fig = go.Figure()\n",
    "\n",
    "# Los cúmulos\n",
    "fig.add_trace(go.Scatter3d(\n",
    "    x=data['x'], y=data['y'], z=data['z'],\n",
    "    mode='markers',\n",
    "    marker=dict(\n",
    "        size=valid_radio_parsecs,\n",
    "        color='blue',\n",
    "        opacity=0.5\n",
    "    ),\n",
    "    name='Cúmulos globulares'\n",
    "))\n",
    "\n",
    "# Centro estimado de la galaxia\n",
    "fig.add_trace(go.Scatter3d(\n",
    "    x=[x_avg], y=[y_avg], z=[z_avg],\n",
    "    mode='markers',\n",
    "    marker=dict(size=5, color='red', opacity=1),\n",
    "    name='Centro estimado de la galaxia'\n",
    "))\n",
    "\n",
    "# Sol\n",
    "fig.add_trace(go.Scatter3d(\n",
    "    x=[0], y=[0], z=[0],\n",
    "    mode='markers',\n",
    "    marker=dict(size=5, color='yellow', opacity=1),\n",
    "    name='Sol'\n",
    "))\n",
    "\n",
    "fig.update_layout(\n",
    "    margin=dict(l=0, r=0, b=0, t=0),\n",
    "    scene=dict(\n",
    "        xaxis_title='X (kpc)',\n",
    "        yaxis_title='Y (kpc)',\n",
    "        zaxis_title='Z (kpc)'\n",
    "    ),\n",
    "    title='Distribución de cúmulos globulares en relación con el Sol y el centro de la galaxia'\n",
    ")\n",
    "\n",
    "fig.show()\n"
   ]
  },
  {
   "cell_type": "code",
   "execution_count": 179,
   "metadata": {},
   "outputs": [],
   "source": []
  }
 ],
 "metadata": {
  "kernelspec": {
   "display_name": "Python 3 (ipykernel)",
   "language": "python",
   "name": "python3"
  },
  "language_info": {
   "codemirror_mode": {
    "name": "ipython",
    "version": 3
   },
   "file_extension": ".py",
   "mimetype": "text/x-python",
   "name": "python",
   "nbconvert_exporter": "python",
   "pygments_lexer": "ipython3",
   "version": "3.9.8"
  }
 },
 "nbformat": 4,
 "nbformat_minor": 1
}
