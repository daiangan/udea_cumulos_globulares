{
 "cells": [
  {
   "cell_type": "code",
   "execution_count": 1,
   "metadata": {
    "collapsed": true
   },
   "outputs": [
    {
     "name": "stdout",
     "output_type": "stream",
     "text": [
      "Requirement already satisfied: pandas in /Users/daiangan/Python Virtual Environments/venv_dataspell1/lib/python3.9/site-packages (1.5.3)\r\n",
      "Requirement already satisfied: numpy>=1.20.3 in /Users/daiangan/Python Virtual Environments/venv_dataspell1/lib/python3.9/site-packages (from pandas) (1.23.3)\r\n",
      "Requirement already satisfied: python-dateutil>=2.8.1 in /Users/daiangan/Python Virtual Environments/venv_dataspell1/lib/python3.9/site-packages (from pandas) (2.8.2)\r\n",
      "Requirement already satisfied: pytz>=2020.1 in /Users/daiangan/Python Virtual Environments/venv_dataspell1/lib/python3.9/site-packages (from pandas) (2022.2.1)\r\n",
      "Requirement already satisfied: six>=1.5 in /Users/daiangan/Python Virtual Environments/venv_dataspell1/lib/python3.9/site-packages (from python-dateutil>=2.8.1->pandas) (1.16.0)\r\n",
      "\u001B[33mWARNING: You are using pip version 21.3.1; however, version 23.2.1 is available.\r\n",
      "You should consider upgrading via the '/Users/daiangan/Python Virtual Environments/venv_dataspell1/bin/python -m pip install --upgrade pip' command.\u001B[0m\r\n"
     ]
    }
   ],
   "source": [
    "!pip install pandas"
   ]
  },
  {
   "cell_type": "code",
   "execution_count": 2,
   "outputs": [
    {
     "data": {
      "text/plain": "    _RAJ2000   _DEJ2000         ID     RAJ2000    DEJ2000    GLON   GLAT  \\\n0   6.021667 -72.080833  NGC 104    00 24 05.2  -72 04 51  305.90 -44.89   \n1  13.197917 -26.590000  NGC 288    00 52 47.5  -26 35 24  152.28 -89.38   \n2  15.809583 -70.848333  NGC 362    01 03 14.3  -70 50 54  301.53 -46.25   \n3  48.063750 -55.216944  NGC 1261   03 12 15.3  -55 13 01  270.54 -52.13   \n4  53.345833  79.580556  Pal 1      03 33 23.0  +79 34 50  130.07  19.03   \n\n    Rsun    Rgc     Vt [Fe/H]   SpT      c    Rh  \n0    4.3    7.3   3.95  -0.76  G4     2.04  2.79  \n1    8.1   11.4   8.09  -1.24         0.96  2.22  \n2    8.3    9.2   6.40  -1.16  F9     1.94  0.81  \n3   16.0   17.9   8.29  -1.35  F7     1.27  0.75  \n4    9.7   15.9  13.52  -0.80         1.50  0.48  ",
      "text/html": "<div>\n<style scoped>\n    .dataframe tbody tr th:only-of-type {\n        vertical-align: middle;\n    }\n\n    .dataframe tbody tr th {\n        vertical-align: top;\n    }\n\n    .dataframe thead th {\n        text-align: right;\n    }\n</style>\n<table border=\"1\" class=\"dataframe\">\n  <thead>\n    <tr style=\"text-align: right;\">\n      <th></th>\n      <th>_RAJ2000</th>\n      <th>_DEJ2000</th>\n      <th>ID</th>\n      <th>RAJ2000</th>\n      <th>DEJ2000</th>\n      <th>GLON</th>\n      <th>GLAT</th>\n      <th>Rsun</th>\n      <th>Rgc</th>\n      <th>Vt</th>\n      <th>[Fe/H]</th>\n      <th>SpT</th>\n      <th>c</th>\n      <th>Rh</th>\n    </tr>\n  </thead>\n  <tbody>\n    <tr>\n      <th>0</th>\n      <td>6.021667</td>\n      <td>-72.080833</td>\n      <td>NGC 104</td>\n      <td>00 24 05.2</td>\n      <td>-72 04 51</td>\n      <td>305.90</td>\n      <td>-44.89</td>\n      <td>4.3</td>\n      <td>7.3</td>\n      <td>3.95</td>\n      <td>-0.76</td>\n      <td>G4</td>\n      <td>2.04</td>\n      <td>2.79</td>\n    </tr>\n    <tr>\n      <th>1</th>\n      <td>13.197917</td>\n      <td>-26.590000</td>\n      <td>NGC 288</td>\n      <td>00 52 47.5</td>\n      <td>-26 35 24</td>\n      <td>152.28</td>\n      <td>-89.38</td>\n      <td>8.1</td>\n      <td>11.4</td>\n      <td>8.09</td>\n      <td>-1.24</td>\n      <td></td>\n      <td>0.96</td>\n      <td>2.22</td>\n    </tr>\n    <tr>\n      <th>2</th>\n      <td>15.809583</td>\n      <td>-70.848333</td>\n      <td>NGC 362</td>\n      <td>01 03 14.3</td>\n      <td>-70 50 54</td>\n      <td>301.53</td>\n      <td>-46.25</td>\n      <td>8.3</td>\n      <td>9.2</td>\n      <td>6.40</td>\n      <td>-1.16</td>\n      <td>F9</td>\n      <td>1.94</td>\n      <td>0.81</td>\n    </tr>\n    <tr>\n      <th>3</th>\n      <td>48.063750</td>\n      <td>-55.216944</td>\n      <td>NGC 1261</td>\n      <td>03 12 15.3</td>\n      <td>-55 13 01</td>\n      <td>270.54</td>\n      <td>-52.13</td>\n      <td>16.0</td>\n      <td>17.9</td>\n      <td>8.29</td>\n      <td>-1.35</td>\n      <td>F7</td>\n      <td>1.27</td>\n      <td>0.75</td>\n    </tr>\n    <tr>\n      <th>4</th>\n      <td>53.345833</td>\n      <td>79.580556</td>\n      <td>Pal 1</td>\n      <td>03 33 23.0</td>\n      <td>+79 34 50</td>\n      <td>130.07</td>\n      <td>19.03</td>\n      <td>9.7</td>\n      <td>15.9</td>\n      <td>13.52</td>\n      <td>-0.80</td>\n      <td></td>\n      <td>1.50</td>\n      <td>0.48</td>\n    </tr>\n  </tbody>\n</table>\n</div>"
     },
     "execution_count": 2,
     "metadata": {},
     "output_type": "execute_result"
    }
   ],
   "source": [
    "import pandas as pd\n",
    "\n",
    "# Importa los datos\n",
    "data = pd.read_csv(\"files/ViZieR_cum_glob.tsv\", delimiter=\"|\")\n",
    "\n",
    "# Filtra los datos sin distancia al sol\n",
    "data = data.dropna(subset=['Rsun'])\n",
    "\n",
    "data.head()"
   ],
   "metadata": {
    "collapsed": false
   }
  },
  {
   "cell_type": "code",
   "execution_count": null,
   "outputs": [],
   "source": [],
   "metadata": {
    "collapsed": false
   }
  }
 ],
 "metadata": {
  "kernelspec": {
   "display_name": "Python 3",
   "language": "python",
   "name": "python3"
  },
  "language_info": {
   "codemirror_mode": {
    "name": "ipython",
    "version": 2
   },
   "file_extension": ".py",
   "mimetype": "text/x-python",
   "name": "python",
   "nbconvert_exporter": "python",
   "pygments_lexer": "ipython2",
   "version": "2.7.6"
  }
 },
 "nbformat": 4,
 "nbformat_minor": 0
}
